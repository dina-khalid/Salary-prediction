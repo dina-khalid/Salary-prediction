{
 "cells": [
  {
   "cell_type": "code",
   "execution_count": 1,
   "metadata": {},
   "outputs": [],
   "source": [
    "import pandas as pd\n",
    "import numpy as np \n",
    "import matplotlib.pyplot as plt\n",
    "import seaborn as sns\n",
    "%matplotlib inline"
   ]
  },
  {
   "cell_type": "code",
   "execution_count": 154,
   "metadata": {},
   "outputs": [],
   "source": [
    "df= pd.read_csv(\"survey_results_public.csv\")"
   ]
  },
  {
   "cell_type": "code",
   "execution_count": 133,
   "metadata": {},
   "outputs": [
    {
     "data": {
      "text/plain": [
       "Developer, full-stack                                                                                                                                                                                                                                                                                                                                                                                          8601\n",
       "Developer, back-end                                                                                                                                                                                                                                                                                                                                                                                            5467\n",
       "Developer, front-end                                                                                                                                                                                                                                                                                                                                                                                           2402\n",
       "Developer, front-end;Developer, full-stack;Developer, back-end                                                                                                                                                                                                                                                                                                                                                 2141\n",
       "Developer, full-stack;Developer, back-end                                                                                                                                                                                                                                                                                                                                                                      1774\n",
       "                                                                                                                                                                                                                                                                                                                                                                                                               ... \n",
       "Developer, mobile;Developer, desktop or enterprise applications;Developer, full-stack;Engineer, data                                                                                                                                                                                                                                                                                                              1\n",
       "Developer, mobile;Developer, front-end;Developer, desktop or enterprise applications;Developer, full-stack;Engineer, data;Developer, back-end;Scientist;Developer, QA or test;Developer, game or graphics;Developer, embedded applications or devices;DevOps specialist;Engineering manager;Engineer, site reliability;Product manager;Senior Executive (C-Suite, VP, etc.);Marketing or sales professional       1\n",
       "Developer, back-end;Student;Developer, embedded applications or devices;Designer                                                                                                                                                                                                                                                                                                                                  1\n",
       "Developer, front-end;Developer, full-stack;Engineer, data;Data scientist or machine learning specialist;Developer, back-end;Database administrator;Designer;Engineering manager;Engineer, site reliability;Product manager;Senior Executive (C-Suite, VP, etc.);Marketing or sales professional                                                                                                                   1\n",
       "Developer, mobile;Developer, desktop or enterprise applications;Data scientist or machine learning specialist;Developer, back-end;Engineering manager                                                                                                                                                                                                                                                             1\n",
       "Name: DevType, Length: 8626, dtype: int64"
      ]
     },
     "execution_count": 133,
     "metadata": {},
     "output_type": "execute_result"
    }
   ],
   "source": [
    "df['DevType'].value_counts()"
   ]
  },
  {
   "cell_type": "code",
   "execution_count": 4,
   "metadata": {},
   "outputs": [
    {
     "data": {
      "text/plain": [
       "0                                        Developer, mobile\n",
       "1                                                      NaN\n",
       "2                                                      NaN\n",
       "3                                     Developer, front-end\n",
       "4        Developer, desktop or enterprise applications;...\n",
       "                               ...                        \n",
       "83434                                  Developer, back-end\n",
       "83435                                Developer, full-stack\n",
       "83436    Data scientist or machine learning specialist;...\n",
       "83437                                  Developer, back-end\n",
       "83438    Developer, front-end;Developer, full-stack;Dev...\n",
       "Name: DevType, Length: 83439, dtype: object"
      ]
     },
     "execution_count": 4,
     "metadata": {},
     "output_type": "execute_result"
    }
   ],
   "source": [
    "df['DevType']"
   ]
  },
  {
   "cell_type": "code",
   "execution_count": 5,
   "metadata": {},
   "outputs": [
    {
     "data": {
      "text/html": [
       "<div>\n",
       "<style scoped>\n",
       "    .dataframe tbody tr th:only-of-type {\n",
       "        vertical-align: middle;\n",
       "    }\n",
       "\n",
       "    .dataframe tbody tr th {\n",
       "        vertical-align: top;\n",
       "    }\n",
       "\n",
       "    .dataframe thead th {\n",
       "        text-align: right;\n",
       "    }\n",
       "</style>\n",
       "<table border=\"1\" class=\"dataframe\">\n",
       "  <thead>\n",
       "    <tr style=\"text-align: right;\">\n",
       "      <th></th>\n",
       "      <th>ResponseId</th>\n",
       "      <th>MainBranch</th>\n",
       "      <th>Employment</th>\n",
       "      <th>Country</th>\n",
       "      <th>US_State</th>\n",
       "      <th>UK_Country</th>\n",
       "      <th>EdLevel</th>\n",
       "      <th>Age1stCode</th>\n",
       "      <th>LearnCode</th>\n",
       "      <th>YearsCode</th>\n",
       "      <th>...</th>\n",
       "      <th>Age</th>\n",
       "      <th>Gender</th>\n",
       "      <th>Trans</th>\n",
       "      <th>Sexuality</th>\n",
       "      <th>Ethnicity</th>\n",
       "      <th>Accessibility</th>\n",
       "      <th>MentalHealth</th>\n",
       "      <th>SurveyLength</th>\n",
       "      <th>SurveyEase</th>\n",
       "      <th>ConvertedCompYearly</th>\n",
       "    </tr>\n",
       "  </thead>\n",
       "  <tbody>\n",
       "    <tr>\n",
       "      <th>0</th>\n",
       "      <td>1</td>\n",
       "      <td>I am a developer by profession</td>\n",
       "      <td>Independent contractor, freelancer, or self-em...</td>\n",
       "      <td>Slovakia</td>\n",
       "      <td>NaN</td>\n",
       "      <td>NaN</td>\n",
       "      <td>Secondary school (e.g. American high school, G...</td>\n",
       "      <td>18 - 24 years</td>\n",
       "      <td>Coding Bootcamp;Other online resources (ex: vi...</td>\n",
       "      <td>NaN</td>\n",
       "      <td>...</td>\n",
       "      <td>25-34 years old</td>\n",
       "      <td>Man</td>\n",
       "      <td>No</td>\n",
       "      <td>Straight / Heterosexual</td>\n",
       "      <td>White or of European descent</td>\n",
       "      <td>None of the above</td>\n",
       "      <td>None of the above</td>\n",
       "      <td>Appropriate in length</td>\n",
       "      <td>Easy</td>\n",
       "      <td>62268.0</td>\n",
       "    </tr>\n",
       "    <tr>\n",
       "      <th>1</th>\n",
       "      <td>2</td>\n",
       "      <td>I am a student who is learning to code</td>\n",
       "      <td>Student, full-time</td>\n",
       "      <td>Netherlands</td>\n",
       "      <td>NaN</td>\n",
       "      <td>NaN</td>\n",
       "      <td>Bachelor’s degree (B.A., B.S., B.Eng., etc.)</td>\n",
       "      <td>11 - 17 years</td>\n",
       "      <td>Other online resources (ex: videos, blogs, etc...</td>\n",
       "      <td>7</td>\n",
       "      <td>...</td>\n",
       "      <td>18-24 years old</td>\n",
       "      <td>Man</td>\n",
       "      <td>No</td>\n",
       "      <td>Straight / Heterosexual</td>\n",
       "      <td>White or of European descent</td>\n",
       "      <td>None of the above</td>\n",
       "      <td>None of the above</td>\n",
       "      <td>Appropriate in length</td>\n",
       "      <td>Easy</td>\n",
       "      <td>NaN</td>\n",
       "    </tr>\n",
       "    <tr>\n",
       "      <th>2</th>\n",
       "      <td>3</td>\n",
       "      <td>I am not primarily a developer, but I write co...</td>\n",
       "      <td>Student, full-time</td>\n",
       "      <td>Russian Federation</td>\n",
       "      <td>NaN</td>\n",
       "      <td>NaN</td>\n",
       "      <td>Bachelor’s degree (B.A., B.S., B.Eng., etc.)</td>\n",
       "      <td>11 - 17 years</td>\n",
       "      <td>Other online resources (ex: videos, blogs, etc...</td>\n",
       "      <td>NaN</td>\n",
       "      <td>...</td>\n",
       "      <td>18-24 years old</td>\n",
       "      <td>Man</td>\n",
       "      <td>No</td>\n",
       "      <td>Prefer not to say</td>\n",
       "      <td>Prefer not to say</td>\n",
       "      <td>None of the above</td>\n",
       "      <td>None of the above</td>\n",
       "      <td>Appropriate in length</td>\n",
       "      <td>Easy</td>\n",
       "      <td>NaN</td>\n",
       "    </tr>\n",
       "    <tr>\n",
       "      <th>3</th>\n",
       "      <td>4</td>\n",
       "      <td>I am a developer by profession</td>\n",
       "      <td>Employed full-time</td>\n",
       "      <td>Austria</td>\n",
       "      <td>NaN</td>\n",
       "      <td>NaN</td>\n",
       "      <td>Master’s degree (M.A., M.S., M.Eng., MBA, etc.)</td>\n",
       "      <td>11 - 17 years</td>\n",
       "      <td>NaN</td>\n",
       "      <td>NaN</td>\n",
       "      <td>...</td>\n",
       "      <td>35-44 years old</td>\n",
       "      <td>Man</td>\n",
       "      <td>No</td>\n",
       "      <td>Straight / Heterosexual</td>\n",
       "      <td>White or of European descent</td>\n",
       "      <td>I am deaf / hard of hearing</td>\n",
       "      <td>NaN</td>\n",
       "      <td>Appropriate in length</td>\n",
       "      <td>Neither easy nor difficult</td>\n",
       "      <td>NaN</td>\n",
       "    </tr>\n",
       "    <tr>\n",
       "      <th>4</th>\n",
       "      <td>5</td>\n",
       "      <td>I am a developer by profession</td>\n",
       "      <td>Independent contractor, freelancer, or self-em...</td>\n",
       "      <td>United Kingdom of Great Britain and Northern I...</td>\n",
       "      <td>NaN</td>\n",
       "      <td>England</td>\n",
       "      <td>Master’s degree (M.A., M.S., M.Eng., MBA, etc.)</td>\n",
       "      <td>5 - 10 years</td>\n",
       "      <td>Friend or family member</td>\n",
       "      <td>17</td>\n",
       "      <td>...</td>\n",
       "      <td>25-34 years old</td>\n",
       "      <td>Man</td>\n",
       "      <td>No</td>\n",
       "      <td>NaN</td>\n",
       "      <td>White or of European descent</td>\n",
       "      <td>None of the above</td>\n",
       "      <td>NaN</td>\n",
       "      <td>Appropriate in length</td>\n",
       "      <td>Easy</td>\n",
       "      <td>NaN</td>\n",
       "    </tr>\n",
       "    <tr>\n",
       "      <th>...</th>\n",
       "      <td>...</td>\n",
       "      <td>...</td>\n",
       "      <td>...</td>\n",
       "      <td>...</td>\n",
       "      <td>...</td>\n",
       "      <td>...</td>\n",
       "      <td>...</td>\n",
       "      <td>...</td>\n",
       "      <td>...</td>\n",
       "      <td>...</td>\n",
       "      <td>...</td>\n",
       "      <td>...</td>\n",
       "      <td>...</td>\n",
       "      <td>...</td>\n",
       "      <td>...</td>\n",
       "      <td>...</td>\n",
       "      <td>...</td>\n",
       "      <td>...</td>\n",
       "      <td>...</td>\n",
       "      <td>...</td>\n",
       "      <td>...</td>\n",
       "    </tr>\n",
       "    <tr>\n",
       "      <th>83434</th>\n",
       "      <td>83435</td>\n",
       "      <td>I am a developer by profession</td>\n",
       "      <td>Employed full-time</td>\n",
       "      <td>United States of America</td>\n",
       "      <td>Texas</td>\n",
       "      <td>NaN</td>\n",
       "      <td>Bachelor’s degree (B.A., B.S., B.Eng., etc.)</td>\n",
       "      <td>11 - 17 years</td>\n",
       "      <td>Other online resources (ex: videos, blogs, etc...</td>\n",
       "      <td>6</td>\n",
       "      <td>...</td>\n",
       "      <td>25-34 years old</td>\n",
       "      <td>Man</td>\n",
       "      <td>No</td>\n",
       "      <td>Straight / Heterosexual</td>\n",
       "      <td>White or of European descent</td>\n",
       "      <td>None of the above</td>\n",
       "      <td>I have a concentration and/or memory disorder ...</td>\n",
       "      <td>Appropriate in length</td>\n",
       "      <td>Easy</td>\n",
       "      <td>160500.0</td>\n",
       "    </tr>\n",
       "    <tr>\n",
       "      <th>83435</th>\n",
       "      <td>83436</td>\n",
       "      <td>I am a developer by profession</td>\n",
       "      <td>Independent contractor, freelancer, or self-em...</td>\n",
       "      <td>Benin</td>\n",
       "      <td>NaN</td>\n",
       "      <td>NaN</td>\n",
       "      <td>Bachelor’s degree (B.A., B.S., B.Eng., etc.)</td>\n",
       "      <td>11 - 17 years</td>\n",
       "      <td>Other online resources (ex: videos, blogs, etc...</td>\n",
       "      <td>4</td>\n",
       "      <td>...</td>\n",
       "      <td>18-24 years old</td>\n",
       "      <td>Man</td>\n",
       "      <td>No</td>\n",
       "      <td>Straight / Heterosexual</td>\n",
       "      <td>Black or of African descent</td>\n",
       "      <td>None of the above</td>\n",
       "      <td>None of the above</td>\n",
       "      <td>Appropriate in length</td>\n",
       "      <td>Easy</td>\n",
       "      <td>3960.0</td>\n",
       "    </tr>\n",
       "    <tr>\n",
       "      <th>83436</th>\n",
       "      <td>83437</td>\n",
       "      <td>I am a developer by profession</td>\n",
       "      <td>Employed full-time</td>\n",
       "      <td>United States of America</td>\n",
       "      <td>New Jersey</td>\n",
       "      <td>NaN</td>\n",
       "      <td>Secondary school (e.g. American high school, G...</td>\n",
       "      <td>11 - 17 years</td>\n",
       "      <td>School</td>\n",
       "      <td>10</td>\n",
       "      <td>...</td>\n",
       "      <td>25-34 years old</td>\n",
       "      <td>Man</td>\n",
       "      <td>No</td>\n",
       "      <td>NaN</td>\n",
       "      <td>White or of European descent</td>\n",
       "      <td>None of the above</td>\n",
       "      <td>None of the above</td>\n",
       "      <td>Appropriate in length</td>\n",
       "      <td>Neither easy nor difficult</td>\n",
       "      <td>90000.0</td>\n",
       "    </tr>\n",
       "    <tr>\n",
       "      <th>83437</th>\n",
       "      <td>83438</td>\n",
       "      <td>I am a developer by profession</td>\n",
       "      <td>Employed full-time</td>\n",
       "      <td>Canada</td>\n",
       "      <td>NaN</td>\n",
       "      <td>NaN</td>\n",
       "      <td>Bachelor’s degree (B.A., B.S., B.Eng., etc.)</td>\n",
       "      <td>11 - 17 years</td>\n",
       "      <td>Online Courses or Certification;Books / Physic...</td>\n",
       "      <td>5</td>\n",
       "      <td>...</td>\n",
       "      <td>25-34 years old</td>\n",
       "      <td>Man</td>\n",
       "      <td>No</td>\n",
       "      <td>Straight / Heterosexual</td>\n",
       "      <td>White or of European descent</td>\n",
       "      <td>None of the above</td>\n",
       "      <td>I have a mood or emotional disorder (e.g. depr...</td>\n",
       "      <td>Appropriate in length</td>\n",
       "      <td>Neither easy nor difficult</td>\n",
       "      <td>816816.0</td>\n",
       "    </tr>\n",
       "    <tr>\n",
       "      <th>83438</th>\n",
       "      <td>83439</td>\n",
       "      <td>I am a developer by profession</td>\n",
       "      <td>Employed full-time</td>\n",
       "      <td>Brazil</td>\n",
       "      <td>NaN</td>\n",
       "      <td>NaN</td>\n",
       "      <td>Professional degree (JD, MD, etc.)</td>\n",
       "      <td>11 - 17 years</td>\n",
       "      <td>School</td>\n",
       "      <td>14</td>\n",
       "      <td>...</td>\n",
       "      <td>18-24 years old</td>\n",
       "      <td>Man</td>\n",
       "      <td>No</td>\n",
       "      <td>Straight / Heterosexual</td>\n",
       "      <td>Hispanic or Latino/a/x</td>\n",
       "      <td>None of the above</td>\n",
       "      <td>None of the above</td>\n",
       "      <td>Appropriate in length</td>\n",
       "      <td>Easy</td>\n",
       "      <td>21168.0</td>\n",
       "    </tr>\n",
       "  </tbody>\n",
       "</table>\n",
       "<p>83439 rows × 48 columns</p>\n",
       "</div>"
      ],
      "text/plain": [
       "       ResponseId                                         MainBranch  \\\n",
       "0               1                     I am a developer by profession   \n",
       "1               2             I am a student who is learning to code   \n",
       "2               3  I am not primarily a developer, but I write co...   \n",
       "3               4                     I am a developer by profession   \n",
       "4               5                     I am a developer by profession   \n",
       "...           ...                                                ...   \n",
       "83434       83435                     I am a developer by profession   \n",
       "83435       83436                     I am a developer by profession   \n",
       "83436       83437                     I am a developer by profession   \n",
       "83437       83438                     I am a developer by profession   \n",
       "83438       83439                     I am a developer by profession   \n",
       "\n",
       "                                              Employment  \\\n",
       "0      Independent contractor, freelancer, or self-em...   \n",
       "1                                     Student, full-time   \n",
       "2                                     Student, full-time   \n",
       "3                                     Employed full-time   \n",
       "4      Independent contractor, freelancer, or self-em...   \n",
       "...                                                  ...   \n",
       "83434                                 Employed full-time   \n",
       "83435  Independent contractor, freelancer, or self-em...   \n",
       "83436                                 Employed full-time   \n",
       "83437                                 Employed full-time   \n",
       "83438                                 Employed full-time   \n",
       "\n",
       "                                                 Country    US_State  \\\n",
       "0                                               Slovakia         NaN   \n",
       "1                                            Netherlands         NaN   \n",
       "2                                     Russian Federation         NaN   \n",
       "3                                                Austria         NaN   \n",
       "4      United Kingdom of Great Britain and Northern I...         NaN   \n",
       "...                                                  ...         ...   \n",
       "83434                           United States of America       Texas   \n",
       "83435                                              Benin         NaN   \n",
       "83436                           United States of America  New Jersey   \n",
       "83437                                             Canada         NaN   \n",
       "83438                                             Brazil         NaN   \n",
       "\n",
       "      UK_Country                                            EdLevel  \\\n",
       "0            NaN  Secondary school (e.g. American high school, G...   \n",
       "1            NaN       Bachelor’s degree (B.A., B.S., B.Eng., etc.)   \n",
       "2            NaN       Bachelor’s degree (B.A., B.S., B.Eng., etc.)   \n",
       "3            NaN    Master’s degree (M.A., M.S., M.Eng., MBA, etc.)   \n",
       "4        England    Master’s degree (M.A., M.S., M.Eng., MBA, etc.)   \n",
       "...          ...                                                ...   \n",
       "83434        NaN       Bachelor’s degree (B.A., B.S., B.Eng., etc.)   \n",
       "83435        NaN       Bachelor’s degree (B.A., B.S., B.Eng., etc.)   \n",
       "83436        NaN  Secondary school (e.g. American high school, G...   \n",
       "83437        NaN       Bachelor’s degree (B.A., B.S., B.Eng., etc.)   \n",
       "83438        NaN                 Professional degree (JD, MD, etc.)   \n",
       "\n",
       "          Age1stCode                                          LearnCode  \\\n",
       "0      18 - 24 years  Coding Bootcamp;Other online resources (ex: vi...   \n",
       "1      11 - 17 years  Other online resources (ex: videos, blogs, etc...   \n",
       "2      11 - 17 years  Other online resources (ex: videos, blogs, etc...   \n",
       "3      11 - 17 years                                                NaN   \n",
       "4       5 - 10 years                            Friend or family member   \n",
       "...              ...                                                ...   \n",
       "83434  11 - 17 years  Other online resources (ex: videos, blogs, etc...   \n",
       "83435  11 - 17 years  Other online resources (ex: videos, blogs, etc...   \n",
       "83436  11 - 17 years                                             School   \n",
       "83437  11 - 17 years  Online Courses or Certification;Books / Physic...   \n",
       "83438  11 - 17 years                                             School   \n",
       "\n",
       "      YearsCode  ...              Age Gender Trans                Sexuality  \\\n",
       "0           NaN  ...  25-34 years old    Man    No  Straight / Heterosexual   \n",
       "1             7  ...  18-24 years old    Man    No  Straight / Heterosexual   \n",
       "2           NaN  ...  18-24 years old    Man    No        Prefer not to say   \n",
       "3           NaN  ...  35-44 years old    Man    No  Straight / Heterosexual   \n",
       "4            17  ...  25-34 years old    Man    No                      NaN   \n",
       "...         ...  ...              ...    ...   ...                      ...   \n",
       "83434         6  ...  25-34 years old    Man    No  Straight / Heterosexual   \n",
       "83435         4  ...  18-24 years old    Man    No  Straight / Heterosexual   \n",
       "83436        10  ...  25-34 years old    Man    No                      NaN   \n",
       "83437         5  ...  25-34 years old    Man    No  Straight / Heterosexual   \n",
       "83438        14  ...  18-24 years old    Man    No  Straight / Heterosexual   \n",
       "\n",
       "                          Ethnicity                Accessibility  \\\n",
       "0      White or of European descent            None of the above   \n",
       "1      White or of European descent            None of the above   \n",
       "2                 Prefer not to say            None of the above   \n",
       "3      White or of European descent  I am deaf / hard of hearing   \n",
       "4      White or of European descent            None of the above   \n",
       "...                             ...                          ...   \n",
       "83434  White or of European descent            None of the above   \n",
       "83435   Black or of African descent            None of the above   \n",
       "83436  White or of European descent            None of the above   \n",
       "83437  White or of European descent            None of the above   \n",
       "83438        Hispanic or Latino/a/x            None of the above   \n",
       "\n",
       "                                            MentalHealth  \\\n",
       "0                                      None of the above   \n",
       "1                                      None of the above   \n",
       "2                                      None of the above   \n",
       "3                                                    NaN   \n",
       "4                                                    NaN   \n",
       "...                                                  ...   \n",
       "83434  I have a concentration and/or memory disorder ...   \n",
       "83435                                  None of the above   \n",
       "83436                                  None of the above   \n",
       "83437  I have a mood or emotional disorder (e.g. depr...   \n",
       "83438                                  None of the above   \n",
       "\n",
       "                SurveyLength                  SurveyEase ConvertedCompYearly  \n",
       "0      Appropriate in length                        Easy             62268.0  \n",
       "1      Appropriate in length                        Easy                 NaN  \n",
       "2      Appropriate in length                        Easy                 NaN  \n",
       "3      Appropriate in length  Neither easy nor difficult                 NaN  \n",
       "4      Appropriate in length                        Easy                 NaN  \n",
       "...                      ...                         ...                 ...  \n",
       "83434  Appropriate in length                        Easy            160500.0  \n",
       "83435  Appropriate in length                        Easy              3960.0  \n",
       "83436  Appropriate in length  Neither easy nor difficult             90000.0  \n",
       "83437  Appropriate in length  Neither easy nor difficult            816816.0  \n",
       "83438  Appropriate in length                        Easy             21168.0  \n",
       "\n",
       "[83439 rows x 48 columns]"
      ]
     },
     "execution_count": 5,
     "metadata": {},
     "output_type": "execute_result"
    }
   ],
   "source": [
    "df"
   ]
  },
  {
   "cell_type": "code",
   "execution_count": 6,
   "metadata": {},
   "outputs": [
    {
     "data": {
      "text/plain": [
       "array(['Independent contractor, freelancer, or self-employed',\n",
       "       'Student, full-time', 'Employed full-time', 'Student, part-time',\n",
       "       'I prefer not to say', 'Employed part-time',\n",
       "       'Not employed, but looking for work', 'Retired',\n",
       "       'Not employed, and not looking for work', nan], dtype=object)"
      ]
     },
     "execution_count": 6,
     "metadata": {},
     "output_type": "execute_result"
    }
   ],
   "source": [
    "df['Employment'].unique()"
   ]
  },
  {
   "cell_type": "code",
   "execution_count": 7,
   "metadata": {},
   "outputs": [
    {
     "data": {
      "text/plain": [
       "Index(['ResponseId', 'MainBranch', 'Employment', 'Country', 'US_State',\n",
       "       'UK_Country', 'EdLevel', 'Age1stCode', 'LearnCode', 'YearsCode',\n",
       "       'YearsCodePro', 'DevType', 'OrgSize', 'Currency', 'CompTotal',\n",
       "       'CompFreq', 'LanguageHaveWorkedWith', 'LanguageWantToWorkWith',\n",
       "       'DatabaseHaveWorkedWith', 'DatabaseWantToWorkWith',\n",
       "       'PlatformHaveWorkedWith', 'PlatformWantToWorkWith',\n",
       "       'WebframeHaveWorkedWith', 'WebframeWantToWorkWith',\n",
       "       'MiscTechHaveWorkedWith', 'MiscTechWantToWorkWith',\n",
       "       'ToolsTechHaveWorkedWith', 'ToolsTechWantToWorkWith',\n",
       "       'NEWCollabToolsHaveWorkedWith', 'NEWCollabToolsWantToWorkWith', 'OpSys',\n",
       "       'NEWStuck', 'NEWSOSites', 'SOVisitFreq', 'SOAccount', 'SOPartFreq',\n",
       "       'SOComm', 'NEWOtherComms', 'Age', 'Gender', 'Trans', 'Sexuality',\n",
       "       'Ethnicity', 'Accessibility', 'MentalHealth', 'SurveyLength',\n",
       "       'SurveyEase', 'ConvertedCompYearly'],\n",
       "      dtype='object')"
      ]
     },
     "execution_count": 7,
     "metadata": {},
     "output_type": "execute_result"
    }
   ],
   "source": [
    "df.columns"
   ]
  },
  {
   "cell_type": "code",
   "execution_count": 8,
   "metadata": {},
   "outputs": [
    {
     "data": {
      "text/plain": [
       "<seaborn.axisgrid.JointGrid at 0x200b33515b0>"
      ]
     },
     "execution_count": 8,
     "metadata": {},
     "output_type": "execute_result"
    },
    {
     "data": {
      "image/png": "[encoded data removed]",
      "text/plain": [
       "<Figure size 432x432 with 3 Axes>"
      ]
     },
     "metadata": {
      "needs_background": "light"
     },
     "output_type": "display_data"
    }
   ],
   "source": [
    "sns.jointplot(x='OrgSize',y='ConvertedCompYearly',data=df)"
   ]
  },
  {
   "cell_type": "code",
   "execution_count": 9,
   "metadata": {},
   "outputs": [
    {
     "data": {
      "text/plain": [
       "array([nan, '7', '17', '3', '4', '6', '16', '12', '15', '10', '40', '9',\n",
       "       '26', '14', '39', '20', '8', '19', '5', 'Less than 1 year', '22',\n",
       "       '2', '1', '34', '21', '13', '25', '24', '30', '31', '18', '38',\n",
       "       'More than 50 years', '27', '41', '42', '35', '23', '28', '11',\n",
       "       '37', '44', '43', '36', '33', '45', '29', '50', '46', '32', '47',\n",
       "       '49', '48'], dtype=object)"
      ]
     },
     "execution_count": 9,
     "metadata": {},
     "output_type": "execute_result"
    }
   ],
   "source": [
    "df['YearsCode'].unique()"
   ]
  },
  {
   "cell_type": "code",
   "execution_count": 10,
   "metadata": {},
   "outputs": [
    {
     "data": {
      "text/plain": [
       "Yes, somewhat      23584\n",
       "No, not really     20697\n",
       "Neutral            17084\n",
       "Yes, definitely    12888\n",
       "No, not at all      6633\n",
       "Not sure            1433\n",
       "Name: SOComm, dtype: int64"
      ]
     },
     "execution_count": 10,
     "metadata": {},
     "output_type": "execute_result"
    }
   ],
   "source": [
    "df['SOComm'].value_counts()"
   ]
  },
  {
   "cell_type": "code",
   "execution_count": 11,
   "metadata": {},
   "outputs": [
    {
     "data": {
      "text/plain": [
       "False    82319\n",
       "True      1120\n",
       "Name: SOComm, dtype: int64"
      ]
     },
     "execution_count": 11,
     "metadata": {},
     "output_type": "execute_result"
    }
   ],
   "source": [
    "df['SOComm'].isnull().value_counts()"
   ]
  },
  {
   "cell_type": "code",
   "execution_count": 12,
   "metadata": {},
   "outputs": [
    {
     "data": {
      "text/plain": [
       "array(['18 - 24 years', '11 - 17 years', '5 - 10 years', '25 - 34 years',\n",
       "       '35 - 44 years', 'Younger than 5 years', '45 - 54 years',\n",
       "       '55 - 64 years', nan, 'Older than 64 years'], dtype=object)"
      ]
     },
     "execution_count": 12,
     "metadata": {},
     "output_type": "execute_result"
    }
   ],
   "source": [
    "df['Age1stCode'].unique()"
   ]
  },
  {
   "cell_type": "code",
   "execution_count": 13,
   "metadata": {},
   "outputs": [
    {
     "data": {
      "text/plain": [
       "False    83243\n",
       "True       196\n",
       "Name: Age1stCode, dtype: int64"
      ]
     },
     "execution_count": 13,
     "metadata": {},
     "output_type": "execute_result"
    }
   ],
   "source": [
    "df[\"Age1stCode\"].isnull().value_counts()"
   ]
  },
  {
   "cell_type": "code",
   "execution_count": 14,
   "metadata": {},
   "outputs": [
    {
     "data": {
      "text/plain": [
       "array(['Coding Bootcamp;Other online resources (ex: videos, blogs, etc)',\n",
       "       'Other online resources (ex: videos, blogs, etc);School',\n",
       "       'Other online resources (ex: videos, blogs, etc);Online Forum',\n",
       "       nan, 'Friend or family member',\n",
       "       'Other online resources (ex: videos, blogs, etc);Online Courses or Certification',\n",
       "       'Other online resources (ex: videos, blogs, etc);School;Online Courses or Certification',\n",
       "       'School;Online Courses or Certification', 'Coding Bootcamp',\n",
       "       'School', 'Other online resources (ex: videos, blogs, etc)',\n",
       "       'Other online resources (ex: videos, blogs, etc);School;Friend or family member',\n",
       "       'Other (please specify):',\n",
       "       'Other online resources (ex: videos, blogs, etc);Online Forum;Friend or family member;Online Courses or Certification',\n",
       "       'School;Colleague', 'School;Friend or family member',\n",
       "       'Coding Bootcamp;Online Forum',\n",
       "       'Other online resources (ex: videos, blogs, etc);School;Friend or family member;Other (please specify):',\n",
       "       'Other online resources (ex: videos, blogs, etc);School;Friend or family member;Online Courses or Certification',\n",
       "       'School;Online Forum;Other (please specify):',\n",
       "       'Other online resources (ex: videos, blogs, etc);School;Online Forum',\n",
       "       'Other online resources (ex: videos, blogs, etc);School;Online Forum;Friend or family member;Online Courses or Certification',\n",
       "       'Other online resources (ex: videos, blogs, etc);School;Online Forum;Online Courses or Certification;Other (please specify):',\n",
       "       'Coding Bootcamp;Other online resources (ex: videos, blogs, etc);Online Courses or Certification',\n",
       "       'Colleague',\n",
       "       'Other online resources (ex: videos, blogs, etc);School;Online Courses or Certification;Colleague',\n",
       "       'Friend or family member;Online Courses or Certification;Colleague',\n",
       "       'Other online resources (ex: videos, blogs, etc);Online Forum;Online Courses or Certification',\n",
       "       'Other online resources (ex: videos, blogs, etc);Online Courses or Certification;Other (please specify):',\n",
       "       'Online Courses or Certification', 'Online Forum',\n",
       "       'School;Online Forum',\n",
       "       'Online Courses or Certification;Other (please specify):',\n",
       "       'Other online resources (ex: videos, blogs, etc);School;Online Forum;Colleague',\n",
       "       'Friend or family member;Online Courses or Certification;Other (please specify):',\n",
       "       'Other online resources (ex: videos, blogs, etc);Online Forum;Friend or family member;Other (please specify):',\n",
       "       'Other online resources (ex: videos, blogs, etc);Online Forum;Other (please specify):',\n",
       "       'Coding Bootcamp;School',\n",
       "       'Other online resources (ex: videos, blogs, etc);School;Online Forum;Online Courses or Certification',\n",
       "       'School;Friend or family member;Other (please specify):',\n",
       "       'Other online resources (ex: videos, blogs, etc);Online Forum;Online Courses or Certification;Colleague',\n",
       "       'Friend or family member;Other (please specify):',\n",
       "       'School;Other (please specify):',\n",
       "       'Other online resources (ex: videos, blogs, etc);School;Online Forum;Friend or family member;Colleague',\n",
       "       'Other online resources (ex: videos, blogs, etc);Online Forum;Friend or family member',\n",
       "       'Other online resources (ex: videos, blogs, etc);School;Friend or family member;Online Courses or Certification;Colleague',\n",
       "       'Coding Bootcamp;Other online resources (ex: videos, blogs, etc);School;Online Forum',\n",
       "       'Other online resources (ex: videos, blogs, etc);School;Other (please specify):',\n",
       "       'Coding Bootcamp;Other (please specify):',\n",
       "       'Coding Bootcamp;School;Online Courses or Certification',\n",
       "       'Other online resources (ex: videos, blogs, etc);Other (please specify):',\n",
       "       'Coding Bootcamp;Other online resources (ex: videos, blogs, etc);Online Forum;Online Courses or Certification;Colleague',\n",
       "       'Other online resources (ex: videos, blogs, etc);School;Online Forum;Online Courses or Certification;Colleague',\n",
       "       'Coding Bootcamp;Online Forum;Friend or family member;Other (please specify):',\n",
       "       'Other online resources (ex: videos, blogs, etc);Online Courses or Certification;Colleague',\n",
       "       'Coding Bootcamp;Other online resources (ex: videos, blogs, etc);School;Online Forum;Friend or family member;Online Courses or Certification;Colleague',\n",
       "       'School;Online Courses or Certification;Colleague',\n",
       "       'Coding Bootcamp;Other online resources (ex: videos, blogs, etc);School;Online Courses or Certification',\n",
       "       'School;Online Forum;Online Courses or Certification;Colleague',\n",
       "       'Online Forum;Other (please specify):',\n",
       "       'School;Online Forum;Friend or family member;Online Courses or Certification',\n",
       "       'School;Online Forum;Online Courses or Certification',\n",
       "       'Online Forum;Online Courses or Certification;Colleague',\n",
       "       'Friend or family member;Colleague',\n",
       "       'Other online resources (ex: videos, blogs, etc);Friend or family member;Colleague',\n",
       "       'Other online resources (ex: videos, blogs, etc);School;Online Forum;Friend or family member',\n",
       "       'Coding Bootcamp;Other online resources (ex: videos, blogs, etc);School;Online Forum;Online Courses or Certification;Colleague',\n",
       "       'School;Online Courses or Certification;Other (please specify):',\n",
       "       'Other online resources (ex: videos, blogs, etc);School;Online Forum;Other (please specify):',\n",
       "       'Coding Bootcamp;Other online resources (ex: videos, blogs, etc);Online Forum;Colleague',\n",
       "       'Coding Bootcamp;Other online resources (ex: videos, blogs, etc);Friend or family member;Online Courses or Certification',\n",
       "       'Coding Bootcamp;Other online resources (ex: videos, blogs, etc);School;Online Forum;Online Courses or Certification',\n",
       "       'Coding Bootcamp;Other online resources (ex: videos, blogs, etc);Online Forum;Friend or family member;Online Courses or Certification;Colleague',\n",
       "       'Other (please specify):;Colleague',\n",
       "       'Other online resources (ex: videos, blogs, etc);School;Online Forum;Friend or family member;Other (please specify):',\n",
       "       'Other online resources (ex: videos, blogs, etc);School;Other (please specify):;Colleague',\n",
       "       'Coding Bootcamp;School;Online Forum;Online Courses or Certification',\n",
       "       'Other online resources (ex: videos, blogs, etc);Online Forum;Friend or family member;Colleague',\n",
       "       'Other online resources (ex: videos, blogs, etc);Friend or family member',\n",
       "       'Other online resources (ex: videos, blogs, etc);Colleague',\n",
       "       'Online Forum;Friend or family member;Other (please specify):',\n",
       "       'Online Courses or Certification;Other (please specify):;Colleague',\n",
       "       'Coding Bootcamp;Online Forum;Other (please specify):',\n",
       "       'Coding Bootcamp;Other online resources (ex: videos, blogs, etc);School',\n",
       "       'Coding Bootcamp;School;Friend or family member',\n",
       "       'Online Forum;Friend or family member',\n",
       "       'Online Courses or Certification;Colleague',\n",
       "       'School;Friend or family member;Online Courses or Certification',\n",
       "       'Other online resources (ex: videos, blogs, etc);School;Colleague',\n",
       "       'Other online resources (ex: videos, blogs, etc);Online Forum;Friend or family member;Online Courses or Certification;Colleague',\n",
       "       'Other online resources (ex: videos, blogs, etc);Online Forum;Online Courses or Certification;Other (please specify):',\n",
       "       'Other online resources (ex: videos, blogs, etc);School;Online Forum;Friend or family member;Online Courses or Certification;Other (please specify):',\n",
       "       'School;Friend or family member;Colleague',\n",
       "       'Online Forum;Online Courses or Certification',\n",
       "       'Coding Bootcamp;Other online resources (ex: videos, blogs, etc);School;Friend or family member;Online Courses or Certification;Colleague',\n",
       "       'School;Other (please specify):;Colleague',\n",
       "       'Coding Bootcamp;Other online resources (ex: videos, blogs, etc);Other (please specify):',\n",
       "       'Other online resources (ex: videos, blogs, etc);Online Forum;Other (please specify):;Colleague',\n",
       "       'Coding Bootcamp;Other online resources (ex: videos, blogs, etc);Online Forum;Online Courses or Certification',\n",
       "       'Coding Bootcamp;School;Other (please specify):',\n",
       "       'Online Forum;Colleague',\n",
       "       'Other online resources (ex: videos, blogs, etc);Friend or family member;Online Courses or Certification;Colleague',\n",
       "       'Other online resources (ex: videos, blogs, etc);Other (please specify):;Colleague',\n",
       "       'School;Online Forum;Colleague',\n",
       "       'School;Friend or family member;Online Courses or Certification;Colleague',\n",
       "       'School;Online Forum;Online Courses or Certification;Other (please specify):',\n",
       "       'Other online resources (ex: videos, blogs, etc);School;Online Courses or Certification;Other (please specify):;Colleague',\n",
       "       'Coding Bootcamp;Other online resources (ex: videos, blogs, etc);School;Online Forum;Friend or family member;Online Courses or Certification',\n",
       "       'Other online resources (ex: videos, blogs, etc);Online Forum;Colleague',\n",
       "       'Other online resources (ex: videos, blogs, etc);Friend or family member;Online Courses or Certification',\n",
       "       'Online Forum;Online Courses or Certification;Other (please specify):',\n",
       "       'School;Online Forum;Other (please specify):;Colleague',\n",
       "       'Coding Bootcamp;Other online resources (ex: videos, blogs, etc);School;Colleague',\n",
       "       'Other online resources (ex: videos, blogs, etc);School;Friend or family member;Colleague',\n",
       "       'Other online resources (ex: videos, blogs, etc);School;Online Courses or Certification;Other (please specify):',\n",
       "       'Coding Bootcamp;Other online resources (ex: videos, blogs, etc);Friend or family member',\n",
       "       'Coding Bootcamp;Other online resources (ex: videos, blogs, etc);Online Forum;Friend or family member;Online Courses or Certification',\n",
       "       'School;Online Forum;Friend or family member',\n",
       "       'Coding Bootcamp;School;Online Forum',\n",
       "       'Other online resources (ex: videos, blogs, etc);School;Online Forum;Friend or family member;Online Courses or Certification;Colleague',\n",
       "       'Coding Bootcamp;Friend or family member;Online Courses or Certification',\n",
       "       'Coding Bootcamp;Other online resources (ex: videos, blogs, etc);School;Online Forum;Friend or family member;Online Courses or Certification;Other (please specify):;Colleague',\n",
       "       'Other online resources (ex: videos, blogs, etc);Friend or family member;Other (please specify):',\n",
       "       'Coding Bootcamp;Colleague',\n",
       "       'Coding Bootcamp;Friend or family member',\n",
       "       'Coding Bootcamp;Other online resources (ex: videos, blogs, etc);School;Online Forum;Online Courses or Certification;Other (please specify):;Colleague',\n",
       "       'Coding Bootcamp;Other online resources (ex: videos, blogs, etc);School;Friend or family member;Online Courses or Certification',\n",
       "       'Online Forum;Friend or family member;Online Courses or Certification;Colleague',\n",
       "       'Coding Bootcamp;Other online resources (ex: videos, blogs, etc);School;Online Forum;Online Courses or Certification;Other (please specify):',\n",
       "       'Coding Bootcamp;Online Courses or Certification',\n",
       "       'Coding Bootcamp;Other online resources (ex: videos, blogs, etc);Colleague',\n",
       "       'Coding Bootcamp;Other online resources (ex: videos, blogs, etc);Friend or family member;Online Courses or Certification;Colleague',\n",
       "       'Other online resources (ex: videos, blogs, etc);Online Forum;Online Courses or Certification;Other (please specify):;Colleague',\n",
       "       'Other online resources (ex: videos, blogs, etc);School;Online Forum;Friend or family member;Online Courses or Certification;Other (please specify):;Colleague',\n",
       "       'Friend or family member;Other (please specify):;Colleague',\n",
       "       'Coding Bootcamp;Other online resources (ex: videos, blogs, etc);School;Online Forum;Other (please specify):',\n",
       "       'Online Forum;Friend or family member;Online Courses or Certification',\n",
       "       'Other online resources (ex: videos, blogs, etc);School;Online Forum;Friend or family member;Other (please specify):;Colleague',\n",
       "       'Online Forum;Friend or family member;Colleague',\n",
       "       'Coding Bootcamp;School;Online Courses or Certification;Colleague',\n",
       "       'Coding Bootcamp;Other online resources (ex: videos, blogs, etc);Online Forum;Online Courses or Certification;Other (please specify):',\n",
       "       'Coding Bootcamp;Other online resources (ex: videos, blogs, etc);Online Forum;Friend or family member;Online Courses or Certification;Other (please specify):',\n",
       "       'Coding Bootcamp;Other online resources (ex: videos, blogs, etc);Online Forum;Other (please specify):',\n",
       "       'Friend or family member;Online Courses or Certification',\n",
       "       'Other online resources (ex: videos, blogs, etc);School;Online Forum;Online Courses or Certification;Other (please specify):;Colleague',\n",
       "       'Online Forum;Other (please specify):;Colleague',\n",
       "       'Coding Bootcamp;School;Friend or family member;Online Courses or Certification',\n",
       "       'Coding Bootcamp;Other online resources (ex: videos, blogs, etc);School;Online Courses or Certification;Colleague',\n",
       "       'School;Online Forum;Friend or family member;Online Courses or Certification;Other (please specify):',\n",
       "       'Online Forum;Friend or family member;Other (please specify):;Colleague',\n",
       "       'School;Online Forum;Friend or family member;Online Courses or Certification;Colleague',\n",
       "       'Coding Bootcamp;Online Forum;Online Courses or Certification',\n",
       "       'Coding Bootcamp;Other online resources (ex: videos, blogs, etc);Online Forum;Online Courses or Certification;Other (please specify):;Colleague',\n",
       "       'Other online resources (ex: videos, blogs, etc);Friend or family member;Online Courses or Certification;Other (please specify):',\n",
       "       'Other online resources (ex: videos, blogs, etc);School;Online Forum;Other (please specify):;Colleague',\n",
       "       'School;Online Forum;Online Courses or Certification;Other (please specify):;Colleague',\n",
       "       'School;Friend or family member;Other (please specify):;Colleague',\n",
       "       'Coding Bootcamp;School;Friend or family member;Online Courses or Certification;Colleague',\n",
       "       'School;Online Courses or Certification;Other (please specify):;Colleague',\n",
       "       'Coding Bootcamp;Other online resources (ex: videos, blogs, etc);School;Friend or family member',\n",
       "       'Coding Bootcamp;Other online resources (ex: videos, blogs, etc);School;Online Forum;Friend or family member;Colleague',\n",
       "       'Coding Bootcamp;Online Courses or Certification;Colleague',\n",
       "       'Coding Bootcamp;Online Forum;Friend or family member;Online Courses or Certification',\n",
       "       'School;Friend or family member;Online Courses or Certification;Other (please specify):',\n",
       "       'Coding Bootcamp;Other online resources (ex: videos, blogs, etc);School;Online Forum;Colleague',\n",
       "       'Other online resources (ex: videos, blogs, etc);Online Courses or Certification;Other (please specify):;Colleague',\n",
       "       'Coding Bootcamp;Online Courses or Certification;Other (please specify):',\n",
       "       'Other online resources (ex: videos, blogs, etc);Online Forum;Friend or family member;Online Courses or Certification;Other (please specify):',\n",
       "       'Coding Bootcamp;Other online resources (ex: videos, blogs, etc);School;Online Courses or Certification;Other (please specify):',\n",
       "       'Coding Bootcamp;Other online resources (ex: videos, blogs, etc);Online Courses or Certification;Colleague',\n",
       "       'Coding Bootcamp;School;Online Forum;Friend or family member',\n",
       "       'Coding Bootcamp;Friend or family member;Online Courses or Certification;Colleague',\n",
       "       'School;Online Forum;Friend or family member;Colleague',\n",
       "       'Other online resources (ex: videos, blogs, etc);School;Friend or family member;Online Courses or Certification;Other (please specify):',\n",
       "       'School;Online Forum;Friend or family member;Other (please specify):',\n",
       "       'Coding Bootcamp;School;Colleague',\n",
       "       'Coding Bootcamp;Other online resources (ex: videos, blogs, etc);School;Online Forum;Friend or family member',\n",
       "       'Other online resources (ex: videos, blogs, etc);Online Forum;Friend or family member;Other (please specify):;Colleague',\n",
       "       'Coding Bootcamp;School;Online Forum;Friend or family member;Colleague',\n",
       "       'Coding Bootcamp;Other online resources (ex: videos, blogs, etc);School;Other (please specify):',\n",
       "       'Coding Bootcamp;Other online resources (ex: videos, blogs, etc);Online Forum',\n",
       "       'Other online resources (ex: videos, blogs, etc);School;Friend or family member;Online Courses or Certification;Other (please specify):;Colleague',\n",
       "       'Coding Bootcamp;Other online resources (ex: videos, blogs, etc);Online Forum;Friend or family member',\n",
       "       'Coding Bootcamp;Other online resources (ex: videos, blogs, etc);School;Online Forum;Friend or family member;Online Courses or Certification;Books / Physical media',\n",
       "       'Friend or family member;Books / Physical media',\n",
       "       'Other online resources (ex: videos, blogs, etc);Online Forum;Online Courses or Certification;Books / Physical media',\n",
       "       'Other online resources (ex: videos, blogs, etc);School;Online Forum;Online Courses or Certification;Books / Physical media',\n",
       "       'Other online resources (ex: videos, blogs, etc);Online Courses or Certification;Books / Physical media',\n",
       "       'Other online resources (ex: videos, blogs, etc);School;Online Forum;Books / Physical media',\n",
       "       'Online Forum;Friend or family member;Books / Physical media',\n",
       "       'Other online resources (ex: videos, blogs, etc);Online Forum;Friend or family member;Online Courses or Certification;Books / Physical media',\n",
       "       'School;Friend or family member;Colleague;Books / Physical media',\n",
       "       'School;Online Forum;Online Courses or Certification;Books / Physical media',\n",
       "       'Other online resources (ex: videos, blogs, etc);Online Forum;Books / Physical media',\n",
       "       'Other online resources (ex: videos, blogs, etc);School;Online Courses or Certification;Books / Physical media',\n",
       "       'Other online resources (ex: videos, blogs, etc);School;Books / Physical media',\n",
       "       'Coding Bootcamp;Other online resources (ex: videos, blogs, etc);School;Friend or family member;Online Courses or Certification;Colleague;Books / Physical media',\n",
       "       'Other online resources (ex: videos, blogs, etc);School;Friend or family member;Online Courses or Certification;Colleague;Books / Physical media',\n",
       "       'Coding Bootcamp;Books / Physical media',\n",
       "       'School;Books / Physical media',\n",
       "       'School;Online Courses or Certification;Colleague;Books / Physical media',\n",
       "       'Online Forum;Online Courses or Certification;Books / Physical media',\n",
       "       'Other online resources (ex: videos, blogs, etc);Books / Physical media',\n",
       "       'Other online resources (ex: videos, blogs, etc);Online Forum;Friend or family member;Online Courses or Certification;Colleague;Books / Physical media',\n",
       "       'Other online resources (ex: videos, blogs, etc);School;Online Forum;Friend or family member;Books / Physical media',\n",
       "       'Other online resources (ex: videos, blogs, etc);School;Friend or family member;Books / Physical media',\n",
       "       'School;Friend or family member;Online Courses or Certification;Books / Physical media',\n",
       "       'Other online resources (ex: videos, blogs, etc);Friend or family member;Books / Physical media',\n",
       "       'Coding Bootcamp;Other online resources (ex: videos, blogs, etc);Online Forum;Online Courses or Certification;Books / Physical media',\n",
       "       'School;Online Courses or Certification;Books / Physical media',\n",
       "       'Other online resources (ex: videos, blogs, etc);School;Other (please specify):;Books / Physical media',\n",
       "       'Online Forum;Other (please specify):;Books / Physical media',\n",
       "       'Other (please specify):;Books / Physical media',\n",
       "       'School;Online Forum;Books / Physical media',\n",
       "       'Coding Bootcamp;Other online resources (ex: videos, blogs, etc);Online Courses or Certification;Books / Physical media',\n",
       "       'Online Courses or Certification;Books / Physical media',\n",
       "       'Other online resources (ex: videos, blogs, etc);School;Online Forum;Friend or family member;Online Courses or Certification;Books / Physical media',\n",
       "       'Other online resources (ex: videos, blogs, etc);School;Online Forum;Friend or family member;Online Courses or Certification;Colleague;Books / Physical media',\n",
       "       'Coding Bootcamp;Online Courses or Certification;Books / Physical media',\n",
       "       'Books / Physical media',\n",
       "       'Coding Bootcamp;School;Books / Physical media',\n",
       "       'Coding Bootcamp;Other online resources (ex: videos, blogs, etc);Books / Physical media',\n",
       "       'School;Online Forum;Colleague;Books / Physical media',\n",
       "       'Coding Bootcamp;Other online resources (ex: videos, blogs, etc);School;Online Forum;Friend or family member;Online Courses or Certification;Colleague;Books / Physical media',\n",
       "       'Online Forum;Online Courses or Certification;Other (please specify):;Colleague;Books / Physical media',\n",
       "       'School;Other (please specify):;Books / Physical media',\n",
       "       'Coding Bootcamp;Other online resources (ex: videos, blogs, etc);School;Online Forum;Online Courses or Certification;Books / Physical media',\n",
       "       'Coding Bootcamp;Other online resources (ex: videos, blogs, etc);Online Forum;Books / Physical media',\n",
       "       'Coding Bootcamp;Other online resources (ex: videos, blogs, etc);School;Online Courses or Certification;Books / Physical media',\n",
       "       'Friend or family member;Other (please specify):;Books / Physical media',\n",
       "       'Other online resources (ex: videos, blogs, etc);Other (please specify):;Books / Physical media',\n",
       "       'Other online resources (ex: videos, blogs, etc);School;Online Forum;Online Courses or Certification;Colleague;Books / Physical media',\n",
       "       'Other online resources (ex: videos, blogs, etc);Colleague;Books / Physical media',\n",
       "       'School;Online Forum;Friend or family member;Books / Physical media',\n",
       "       'Colleague;Books / Physical media',\n",
       "       'Other online resources (ex: videos, blogs, etc);Online Forum;Friend or family member;Books / Physical media',\n",
       "       'Other online resources (ex: videos, blogs, etc);School;Online Courses or Certification;Colleague;Books / Physical media',\n",
       "       'Other online resources (ex: videos, blogs, etc);Online Forum;Online Courses or Certification;Colleague;Books / Physical media',\n",
       "       'Online Forum;Books / Physical media',\n",
       "       'Other online resources (ex: videos, blogs, etc);School;Online Forum;Colleague;Books / Physical media',\n",
       "       'Other online resources (ex: videos, blogs, etc);Online Courses or Certification;Colleague;Books / Physical media',\n",
       "       'School;Online Forum;Online Courses or Certification;Colleague;Books / Physical media',\n",
       "       'Other online resources (ex: videos, blogs, etc);School;Colleague;Books / Physical media',\n",
       "       'School;Friend or family member;Online Courses or Certification;Colleague;Books / Physical media',\n",
       "       'Other online resources (ex: videos, blogs, etc);Friend or family member;Online Courses or Certification;Colleague;Books / Physical media',\n",
       "       'School;Friend or family member;Books / Physical media',\n",
       "       'Coding Bootcamp;Other online resources (ex: videos, blogs, etc);School;Books / Physical media',\n",
       "       'Other online resources (ex: videos, blogs, etc);Online Forum;Other (please specify):;Books / Physical media',\n",
       "       'Coding Bootcamp;Other online resources (ex: videos, blogs, etc);School;Online Forum;Online Courses or Certification;Colleague;Books / Physical media',\n",
       "       'Online Courses or Certification;Other (please specify):;Books / Physical media',\n",
       "       'Online Courses or Certification;Colleague;Books / Physical media',\n",
       "       'Other online resources (ex: videos, blogs, etc);Online Forum;Colleague;Books / Physical media',\n",
       "       'Coding Bootcamp;School;Online Courses or Certification;Books / Physical media',\n",
       "       'Other online resources (ex: videos, blogs, etc);Online Courses or Certification;Other (please specify):;Books / Physical media',\n",
       "       'Other online resources (ex: videos, blogs, etc);Friend or family member;Online Courses or Certification;Books / Physical media',\n",
       "       'Coding Bootcamp;Other online resources (ex: videos, blogs, etc);Online Courses or Certification;Colleague;Books / Physical media',\n",
       "       'Friend or family member;Online Courses or Certification;Books / Physical media',\n",
       "       'Friend or family member;Colleague;Books / Physical media',\n",
       "       'Coding Bootcamp;Other online resources (ex: videos, blogs, etc);Online Forum;Online Courses or Certification;Colleague;Books / Physical media',\n",
       "       'School;Online Forum;Friend or family member;Colleague;Books / Physical media',\n",
       "       'Other online resources (ex: videos, blogs, etc);Friend or family member;Other (please specify):;Books / Physical media',\n",
       "       'School;Colleague;Books / Physical media',\n",
       "       'Other online resources (ex: videos, blogs, etc);School;Friend or family member;Other (please specify):;Colleague',\n",
       "       'Coding Bootcamp;Other online resources (ex: videos, blogs, etc);Online Forum;Online Courses or Certification;Other (please specify):;Books / Physical media',\n",
       "       'Coding Bootcamp;Other online resources (ex: videos, blogs, etc);Online Forum;Friend or family member;Online Courses or Certification;Colleague;Books / Physical media',\n",
       "       'Other online resources (ex: videos, blogs, etc);School;Online Forum;Friend or family member;Colleague;Books / Physical media',\n",
       "       'Other online resources (ex: videos, blogs, etc);School;Other (please specify):;Colleague;Books / Physical media',\n",
       "       'Other online resources (ex: videos, blogs, etc);School;Online Forum;Other (please specify):;Colleague;Books / Physical media',\n",
       "       'Coding Bootcamp;Other online resources (ex: videos, blogs, etc);School;Online Courses or Certification;Colleague;Books / Physical media',\n",
       "       'Other online resources (ex: videos, blogs, etc);School;Friend or family member;Online Courses or Certification;Books / Physical media',\n",
       "       'Other online resources (ex: videos, blogs, etc);School;Friend or family member;Colleague;Books / Physical media',\n",
       "       'Coding Bootcamp;Other online resources (ex: videos, blogs, etc);Online Forum;Friend or family member;Online Courses or Certification;Books / Physical media',\n",
       "       'Coding Bootcamp;Other online resources (ex: videos, blogs, etc);School;Friend or family member;Online Courses or Certification;Books / Physical media',\n",
       "       'Other online resources (ex: videos, blogs, etc);School;Online Forum;Other (please specify):;Books / Physical media',\n",
       "       'School;Online Courses or Certification;Other (please specify):;Colleague;Books / Physical media',\n",
       "       'Coding Bootcamp;Other online resources (ex: videos, blogs, etc);Friend or family member;Colleague',\n",
       "       'Other online resources (ex: videos, blogs, etc);Online Forum;Friend or family member;Colleague;Books / Physical media',\n",
       "       'School;Other (please specify):;Colleague;Books / Physical media',\n",
       "       'Coding Bootcamp;Other online resources (ex: videos, blogs, etc);School;Colleague;Books / Physical media',\n",
       "       'Other online resources (ex: videos, blogs, etc);Friend or family member;Colleague;Books / Physical media',\n",
       "       'Friend or family member;Online Courses or Certification;Colleague;Books / Physical media',\n",
       "       'Coding Bootcamp;Other online resources (ex: videos, blogs, etc);School;Friend or family member;Books / Physical media',\n",
       "       'Coding Bootcamp;School;Online Forum;Online Courses or Certification;Colleague;Books / Physical media',\n",
       "       'Other online resources (ex: videos, blogs, etc);School;Online Forum;Friend or family member;Online Courses or Certification;Other (please specify):;Books / Physical media',\n",
       "       'Coding Bootcamp;Other online resources (ex: videos, blogs, etc);School;Online Forum;Colleague;Books / Physical media',\n",
       "       'Coding Bootcamp;School;Online Forum;Colleague',\n",
       "       'Other online resources (ex: videos, blogs, etc);School;Online Forum;Friend or family member;Other (please specify):;Colleague;Books / Physical media',\n",
       "       'Coding Bootcamp;Other online resources (ex: videos, blogs, etc);School;Online Forum;Friend or family member;Books / Physical media',\n",
       "       'Other (please specify):;Colleague;Books / Physical media',\n",
       "       'Coding Bootcamp;Other online resources (ex: videos, blogs, etc);Online Courses or Certification;Other (please specify):;Books / Physical media',\n",
       "       'Other online resources (ex: videos, blogs, etc);School;Friend or family member;Online Courses or Certification;Other (please specify):;Colleague;Books / Physical media',\n",
       "       'Other online resources (ex: videos, blogs, etc);School;Online Forum;Online Courses or Certification;Other (please specify):;Books / Physical media',\n",
       "       'Other online resources (ex: videos, blogs, etc);School;Online Courses or Certification;Other (please specify):;Books / Physical media',\n",
       "       'Coding Bootcamp;Online Forum;Online Courses or Certification;Books / Physical media',\n",
       "       'Coding Bootcamp;Other online resources (ex: videos, blogs, etc);School;Online Forum;Other (please specify):;Books / Physical media',\n",
       "       'School;Friend or family member;Other (please specify):;Colleague;Books / Physical media',\n",
       "       'Coding Bootcamp;School;Friend or family member;Online Courses or Certification;Books / Physical media',\n",
       "       'Coding Bootcamp;Other online resources (ex: videos, blogs, etc);Friend or family member;Online Courses or Certification;Books / Physical media',\n",
       "       'Coding Bootcamp;Other online resources (ex: videos, blogs, etc);Colleague;Books / Physical media',\n",
       "       'Other online resources (ex: videos, blogs, etc);Friend or family member;Other (please specify):;Colleague',\n",
       "       'School;Online Forum;Other (please specify):;Colleague;Books / Physical media',\n",
       "       'Coding Bootcamp;Other online resources (ex: videos, blogs, etc);School;Online Forum;Friend or family member;Colleague;Books / Physical media',\n",
       "       'Other online resources (ex: videos, blogs, etc);School;Online Forum;Online Courses or Certification;Other (please specify):;Colleague;Books / Physical media',\n",
       "       'Coding Bootcamp;School;Online Forum;Online Courses or Certification;Books / Physical media',\n",
       "       'Coding Bootcamp;Friend or family member;Books / Physical media',\n",
       "       'Online Forum;Friend or family member;Online Courses or Certification;Books / Physical media',\n",
       "       'Online Forum;Friend or family member;Colleague;Books / Physical media',\n",
       "       'Coding Bootcamp;School;Other (please specify):;Books / Physical media',\n",
       "       'Coding Bootcamp;Online Forum;Friend or family member;Online Courses or Certification;Books / Physical media',\n",
       "       'School;Online Forum;Other (please specify):;Books / Physical media',\n",
       "       'Other online resources (ex: videos, blogs, etc);School;Friend or family member;Other (please specify):;Books / Physical media',\n",
       "       'Friend or family member;Other (please specify):;Colleague;Books / Physical media',\n",
       "       'Coding Bootcamp;Other online resources (ex: videos, blogs, etc);School;Online Forum;Books / Physical media',\n",
       "       'Coding Bootcamp;Online Forum;Online Courses or Certification;Colleague;Books / Physical media',\n",
       "       'Coding Bootcamp;School;Friend or family member;Online Courses or Certification;Other (please specify):;Books / Physical media',\n",
       "       'Online Forum;Colleague;Books / Physical media',\n",
       "       'Coding Bootcamp;Online Forum;Online Courses or Certification;Colleague',\n",
       "       'Other online resources (ex: videos, blogs, etc);Online Forum;Friend or family member;Online Courses or Certification;Other (please specify):;Books / Physical media',\n",
       "       'Coding Bootcamp;School;Friend or family member;Online Courses or Certification;Colleague;Books / Physical media',\n",
       "       'Coding Bootcamp;Other online resources (ex: videos, blogs, etc);Online Forum;Friend or family member;Colleague',\n",
       "       'Other online resources (ex: videos, blogs, etc);Online Forum;Friend or family member;Online Courses or Certification;Other (please specify):;Colleague;Books / Physical media',\n",
       "       'School;Online Courses or Certification;Other (please specify):;Books / Physical media',\n",
       "       'School;Friend or family member;Other (please specify):;Books / Physical media',\n",
       "       'Coding Bootcamp;School;Online Forum;Colleague;Books / Physical media',\n",
       "       'Online Forum;Online Courses or Certification;Colleague;Books / Physical media',\n",
       "       'Other online resources (ex: videos, blogs, etc);Online Forum;Online Courses or Certification;Other (please specify):;Books / Physical media',\n",
       "       'Coding Bootcamp;School;Friend or family member;Books / Physical media',\n",
       "       'Coding Bootcamp;Other online resources (ex: videos, blogs, etc);School;Online Forum;Online Courses or Certification;Other (please specify):;Books / Physical media',\n",
       "       'Coding Bootcamp;Other online resources (ex: videos, blogs, etc);Online Forum;Friend or family member;Online Courses or Certification;Other (please specify):;Colleague;Books / Physical media',\n",
       "       'Other online resources (ex: videos, blogs, etc);School;Online Forum;Friend or family member;Other (please specify):;Books / Physical media',\n",
       "       'Coding Bootcamp;Colleague;Books / Physical media',\n",
       "       'School;Online Forum;Online Courses or Certification;Other (please specify):;Books / Physical media',\n",
       "       'Coding Bootcamp;Other online resources (ex: videos, blogs, etc);School;Online Forum;Friend or family member;Online Courses or Certification;Other (please specify):;Colleague;Books / Physical media',\n",
       "       'Coding Bootcamp;School;Online Forum;Books / Physical media',\n",
       "       'School;Online Forum;Friend or family member;Online Courses or Certification;Books / Physical media',\n",
       "       'Coding Bootcamp;School;Online Courses or Certification;Other (please specify):;Colleague;Books / Physical media',\n",
       "       'Coding Bootcamp;Other online resources (ex: videos, blogs, etc);Online Forum;Friend or family member;Online Courses or Certification;Other (please specify):;Books / Physical media',\n",
       "       'Other online resources (ex: videos, blogs, etc);School;Online Courses or Certification;Other (please specify):;Colleague;Books / Physical media',\n",
       "       'Coding Bootcamp;Online Forum;Colleague;Books / Physical media',\n",
       "       'Coding Bootcamp;Online Forum;Books / Physical media',\n",
       "       'Coding Bootcamp;Other online resources (ex: videos, blogs, etc);School;Friend or family member;Colleague;Books / Physical media',\n",
       "       'Coding Bootcamp;Other online resources (ex: videos, blogs, etc);Friend or family member;Books / Physical media',\n",
       "       'Other online resources (ex: videos, blogs, etc);Online Courses or Certification;Other (please specify):;Colleague;Books / Physical media',\n",
       "       'Other online resources (ex: videos, blogs, etc);Online Forum;Friend or family member;Other (please specify):;Books / Physical media',\n",
       "       'Other online resources (ex: videos, blogs, etc);Online Forum;Online Courses or Certification;Other (please specify):;Colleague;Books / Physical media',\n",
       "       'Coding Bootcamp;Other online resources (ex: videos, blogs, etc);Other (please specify):;Books / Physical media',\n",
       "       'Friend or family member;Online Courses or Certification;Other (please specify):;Colleague;Books / Physical media',\n",
       "       'Coding Bootcamp;School;Online Courses or Certification;Colleague;Books / Physical media',\n",
       "       'Other online resources (ex: videos, blogs, etc);Other (please specify):;Colleague;Books / Physical media',\n",
       "       'Coding Bootcamp;Friend or family member;Online Courses or Certification;Books / Physical media',\n",
       "       'Other online resources (ex: videos, blogs, etc);School;Friend or family member;Other (please specify):;Colleague;Books / Physical media',\n",
       "       'Coding Bootcamp;School;Online Forum;Friend or family member;Online Courses or Certification;Colleague;Books / Physical media',\n",
       "       'Coding Bootcamp;School;Online Forum;Online Courses or Certification;Other (please specify):;Colleague;Books / Physical media',\n",
       "       'Coding Bootcamp;Other online resources (ex: videos, blogs, etc);Friend or family member;Online Courses or Certification;Colleague;Books / Physical media',\n",
       "       'Coding Bootcamp;School;Colleague;Books / Physical media',\n",
       "       'Coding Bootcamp;School;Online Forum;Online Courses or Certification;Other (please specify):;Books / Physical media',\n",
       "       'Coding Bootcamp;Other (please specify):;Books / Physical media',\n",
       "       'School;Online Forum;Friend or family member;Online Courses or Certification;Colleague;Books / Physical media',\n",
       "       'Other online resources (ex: videos, blogs, etc);Friend or family member;Online Courses or Certification;Other (please specify):;Books / Physical media',\n",
       "       'Other online resources (ex: videos, blogs, etc);School;Online Forum;Friend or family member;Online Courses or Certification;Other (please specify):;Colleague;Books / Physical media',\n",
       "       'Coding Bootcamp;School;Friend or family member;Colleague;Books / Physical media',\n",
       "       'School;Friend or family member;Online Courses or Certification;Other (please specify):;Books / Physical media',\n",
       "       'Online Forum;Friend or family member;Online Courses or Certification;Colleague;Books / Physical media',\n",
       "       'Coding Bootcamp;Online Forum;Colleague',\n",
       "       'Online Forum;Friend or family member;Other (please specify):;Books / Physical media',\n",
       "       'School;Online Forum;Friend or family member;Other (please specify):;Books / Physical media',\n",
       "       'Coding Bootcamp;Online Courses or Certification;Colleague;Books / Physical media',\n",
       "       'Other online resources (ex: videos, blogs, etc);Online Forum;Friend or family member;Online Courses or Certification;Other (please specify):;Colleague',\n",
       "       'Coding Bootcamp;Other online resources (ex: videos, blogs, etc);Online Forum;Colleague;Books / Physical media',\n",
       "       'Coding Bootcamp;Other online resources (ex: videos, blogs, etc);Online Forum;Friend or family member;Colleague;Books / Physical media',\n",
       "       'Coding Bootcamp;School;Friend or family member;Other (please specify):',\n",
       "       'Coding Bootcamp;Other online resources (ex: videos, blogs, etc);Online Forum;Friend or family member;Books / Physical media',\n",
       "       'Coding Bootcamp;School;Online Forum;Online Courses or Certification;Colleague',\n",
       "       'Friend or family member;Online Courses or Certification;Other (please specify):;Books / Physical media',\n",
       "       'Other online resources (ex: videos, blogs, etc);Online Forum;Other (please specify):;Colleague;Books / Physical media',\n",
       "       'Coding Bootcamp;Friend or family member;Online Courses or Certification;Colleague;Books / Physical media',\n",
       "       'Coding Bootcamp;School;Online Forum;Friend or family member;Books / Physical media',\n",
       "       'Coding Bootcamp;School;Online Forum;Friend or family member;Online Courses or Certification;Colleague',\n",
       "       'Coding Bootcamp;Online Forum;Friend or family member;Colleague;Books / Physical media',\n",
       "       'Coding Bootcamp;School;Online Forum;Friend or family member;Online Courses or Certification;Books / Physical media',\n",
       "       'Coding Bootcamp;School;Friend or family member;Colleague',\n",
       "       'Online Courses or Certification;Other (please specify):;Colleague;Books / Physical media',\n",
       "       'Coding Bootcamp;Other online resources (ex: videos, blogs, etc);Friend or family member;Colleague;Books / Physical media',\n",
       "       'Online Forum;Online Courses or Certification;Other (please specify):;Books / Physical media',\n",
       "       'Coding Bootcamp;Other online resources (ex: videos, blogs, etc);School;Online Courses or Certification;Other (please specify):;Colleague;Books / Physical media',\n",
       "       'Coding Bootcamp;Other (please specify):;Colleague;Books / Physical media',\n",
       "       'School;Online Forum;Online Courses or Certification;Other (please specify):;Colleague;Books / Physical media',\n",
       "       'Coding Bootcamp;Other online resources (ex: videos, blogs, etc);School;Online Courses or Certification;Other (please specify):;Books / Physical media',\n",
       "       'Coding Bootcamp;School;Online Courses or Certification;Other (please specify):',\n",
       "       'Coding Bootcamp;Online Forum;Friend or family member;Online Courses or Certification;Colleague;Books / Physical media',\n",
       "       'Coding Bootcamp;School;Online Courses or Certification;Other (please specify):;Books / Physical media',\n",
       "       'Online Forum;Friend or family member;Other (please specify):;Colleague;Books / Physical media',\n",
       "       'Coding Bootcamp;Other online resources (ex: videos, blogs, etc);School;Online Forum;Friend or family member;Online Courses or Certification;Other (please specify):;Books / Physical media',\n",
       "       'Coding Bootcamp;Other online resources (ex: videos, blogs, etc);School;Other (please specify):;Colleague;Books / Physical media',\n",
       "       'Online Forum;Other (please specify):;Colleague;Books / Physical media',\n",
       "       'Coding Bootcamp;School;Friend or family member;Other (please specify):;Books / Physical media',\n",
       "       'Other online resources (ex: videos, blogs, etc);Friend or family member;Other (please specify):;Colleague;Books / Physical media',\n",
       "       'Coding Bootcamp;Other online resources (ex: videos, blogs, etc);Online Forum;Friend or family member;Online Courses or Certification;Other (please specify):;Colleague',\n",
       "       'Other online resources (ex: videos, blogs, etc);Friend or family member;Online Courses or Certification;Other (please specify):;Colleague',\n",
       "       'Coding Bootcamp;Friend or family member;Colleague;Books / Physical media',\n",
       "       'Coding Bootcamp;Friend or family member;Other (please specify):',\n",
       "       'Coding Bootcamp;Other online resources (ex: videos, blogs, etc);School;Online Forum;Online Courses or Certification;Other (please specify):;Colleague;Books / Physical media',\n",
       "       'Coding Bootcamp;Other online resources (ex: videos, blogs, etc);Online Courses or Certification;Other (please specify):',\n",
       "       'Coding Bootcamp;Online Courses or Certification;Other (please specify):;Books / Physical media',\n",
       "       'Coding Bootcamp;Other online resources (ex: videos, blogs, etc);Friend or family member;Online Courses or Certification;Other (please specify):;Colleague;Books / Physical media',\n",
       "       'Online Forum;Friend or family member;Online Courses or Certification;Other (please specify):;Books / Physical media',\n",
       "       'Coding Bootcamp;Online Forum;Other (please specify):;Books / Physical media',\n",
       "       'School;Online Forum;Friend or family member;Other (please specify):;Colleague;Books / Physical media',\n",
       "       'Online Forum;Online Courses or Certification;Other (please specify):;Colleague',\n",
       "       'Other online resources (ex: videos, blogs, etc);Online Forum;Friend or family member;Other (please specify):;Colleague;Books / Physical media',\n",
       "       'Other online resources (ex: videos, blogs, etc);School;Friend or family member;Online Courses or Certification;Other (please specify):;Books / Physical media',\n",
       "       'Coding Bootcamp;Online Forum;Friend or family member;Online Courses or Certification;Other (please specify):',\n",
       "       'Coding Bootcamp;Online Forum;Online Courses or Certification;Other (please specify):',\n",
       "       'Coding Bootcamp;Other online resources (ex: videos, blogs, etc);School;Online Forum;Friend or family member;Other (please specify):;Books / Physical media',\n",
       "       'School;Online Forum;Friend or family member;Online Courses or Certification;Other (please specify):;Colleague;Books / Physical media',\n",
       "       'Coding Bootcamp;Online Forum;Friend or family member;Colleague',\n",
       "       'Coding Bootcamp;Other online resources (ex: videos, blogs, etc);School;Online Forum;Other (please specify):;Colleague;Books / Physical media',\n",
       "       'Coding Bootcamp;Other online resources (ex: videos, blogs, etc);Other (please specify):;Colleague',\n",
       "       'Coding Bootcamp;Online Forum;Friend or family member;Other (please specify):;Colleague;Books / Physical media',\n",
       "       'Online Forum;Friend or family member;Online Courses or Certification;Other (please specify):;Colleague;Books / Physical media',\n",
       "       'Coding Bootcamp;Other online resources (ex: videos, blogs, etc);Online Forum;Online Courses or Certification;Other (please specify):;Colleague;Books / Physical media',\n",
       "       'Coding Bootcamp;Other online resources (ex: videos, blogs, etc);Friend or family member;Online Courses or Certification;Other (please specify):;Colleague',\n",
       "       'Coding Bootcamp;School;Online Forum;Friend or family member;Online Courses or Certification',\n",
       "       'Coding Bootcamp;Online Courses or Certification;Other (please specify):;Colleague',\n",
       "       'Other online resources (ex: videos, blogs, etc);Friend or family member;Online Courses or Certification;Other (please specify):;Colleague;Books / Physical media',\n",
       "       'Coding Bootcamp;Online Forum;Friend or family member;Books / Physical media',\n",
       "       'Coding Bootcamp;Other online resources (ex: videos, blogs, etc);School;Other (please specify):;Colleague',\n",
       "       'Coding Bootcamp;Online Forum;Friend or family member',\n",
       "       'Coding Bootcamp;Friend or family member;Colleague',\n",
       "       'Coding Bootcamp;Friend or family member;Online Courses or Certification;Other (please specify):',\n",
       "       'Coding Bootcamp;Other online resources (ex: videos, blogs, etc);Online Forum;Friend or family member;Other (please specify):;Colleague;Books / Physical media',\n",
       "       'School;Online Forum;Friend or family member;Online Courses or Certification;Other (please specify):;Books / Physical media',\n",
       "       'Coding Bootcamp;School;Online Forum;Friend or family member;Colleague;Books / Physical media',\n",
       "       'Coding Bootcamp;Online Forum;Online Courses or Certification;Other (please specify):;Colleague;Books / Physical media',\n",
       "       'Coding Bootcamp;Other online resources (ex: videos, blogs, etc);Online Courses or Certification;Other (please specify):;Colleague;Books / Physical media',\n",
       "       'Coding Bootcamp;Other online resources (ex: videos, blogs, etc);School;Other (please specify):;Books / Physical media',\n",
       "       'Coding Bootcamp;School;Online Forum;Friend or family member;Other (please specify):;Colleague',\n",
       "       'School;Friend or family member;Online Courses or Certification;Other (please specify):;Colleague',\n",
       "       'Coding Bootcamp;School;Online Forum;Other (please specify):;Books / Physical media',\n",
       "       'Coding Bootcamp;Other online resources (ex: videos, blogs, etc);School;Online Forum;Friend or family member;Other (please specify):;Colleague;Books / Physical media',\n",
       "       'Coding Bootcamp;Online Forum;Friend or family member;Online Courses or Certification;Colleague',\n",
       "       'Coding Bootcamp;Other (please specify):;Colleague',\n",
       "       'Coding Bootcamp;Other online resources (ex: videos, blogs, etc);School;Friend or family member;Colleague',\n",
       "       'Coding Bootcamp;Other online resources (ex: videos, blogs, etc);Online Forum;Friend or family member;Other (please specify):;Books / Physical media',\n",
       "       'Coding Bootcamp;Other online resources (ex: videos, blogs, etc);School;Friend or family member;Online Courses or Certification;Other (please specify):',\n",
       "       'Coding Bootcamp;Other online resources (ex: videos, blogs, etc);Friend or family member;Other (please specify):',\n",
       "       'Coding Bootcamp;Other online resources (ex: videos, blogs, etc);School;Friend or family member;Online Courses or Certification;Other (please specify):;Books / Physical media',\n",
       "       'Coding Bootcamp;Other online resources (ex: videos, blogs, etc);School;Online Forum;Friend or family member;Online Courses or Certification;Other (please specify):',\n",
       "       'School;Online Forum;Friend or family member;Other (please specify):;Colleague',\n",
       "       'Coding Bootcamp;Online Forum;Online Courses or Certification;Other (please specify):;Books / Physical media',\n",
       "       'Coding Bootcamp;Other online resources (ex: videos, blogs, etc);Other (please specify):;Colleague;Books / Physical media',\n",
       "       'Coding Bootcamp;Other online resources (ex: videos, blogs, etc);Online Forum;Other (please specify):;Books / Physical media',\n",
       "       'Coding Bootcamp;Other online resources (ex: videos, blogs, etc);Friend or family member;Online Courses or Certification;Other (please specify):',\n",
       "       'Coding Bootcamp;Other online resources (ex: videos, blogs, etc);School;Friend or family member;Other (please specify):;Books / Physical media',\n",
       "       'Online Forum;Friend or family member;Online Courses or Certification;Other (please specify):',\n",
       "       'Coding Bootcamp;Friend or family member;Other (please specify):;Books / Physical media',\n",
       "       'Coding Bootcamp;Other online resources (ex: videos, blogs, etc);Online Forum;Other (please specify):;Colleague;Books / Physical media',\n",
       "       'Online Forum;Friend or family member;Online Courses or Certification;Other (please specify):;Colleague',\n",
       "       'Coding Bootcamp;Other online resources (ex: videos, blogs, etc);Online Forum;Friend or family member;Other (please specify):'],\n",
       "      dtype=object)"
      ]
     },
     "execution_count": 14,
     "metadata": {},
     "output_type": "execute_result"
    }
   ],
   "source": [
    "df[\"LearnCode\"].unique()"
   ]
  },
  {
   "cell_type": "code",
   "execution_count": 15,
   "metadata": {},
   "outputs": [
    {
     "data": {
      "text/plain": [
       "459"
      ]
     },
     "execution_count": 15,
     "metadata": {},
     "output_type": "execute_result"
    }
   ],
   "source": [
    "len(df[\"LearnCode\"].unique())"
   ]
  },
  {
   "cell_type": "code",
   "execution_count": 16,
   "metadata": {},
   "outputs": [
    {
     "data": {
      "text/plain": [
       "array(['20 to 99 employees', nan, '100 to 499 employees',\n",
       "       'Just me - I am a freelancer, sole proprietor, etc.',\n",
       "       '10,000 or more employees', '10 to 19 employees',\n",
       "       '1,000 to 4,999 employees', '500 to 999 employees',\n",
       "       '5,000 to 9,999 employees', '2 to 9 employees', 'I don’t know'],\n",
       "      dtype=object)"
      ]
     },
     "execution_count": 16,
     "metadata": {},
     "output_type": "execute_result"
    }
   ],
   "source": [
    "df[\"OrgSize\"].unique()"
   ]
  },
  {
   "cell_type": "code",
   "execution_count": 17,
   "metadata": {},
   "outputs": [
    {
     "data": {
      "text/plain": [
       "83439"
      ]
     },
     "execution_count": 17,
     "metadata": {},
     "output_type": "execute_result"
    }
   ],
   "source": [
    "df[\"OrgSize\"].isnull().count()"
   ]
  },
  {
   "cell_type": "code",
   "execution_count": 18,
   "metadata": {},
   "outputs": [
    {
     "data": {
      "text/plain": [
       "array(['18 - 24 years', '11 - 17 years', '5 - 10 years', '25 - 34 years',\n",
       "       '35 - 44 years', 'Younger than 5 years', '45 - 54 years',\n",
       "       '55 - 64 years', nan, 'Older than 64 years'], dtype=object)"
      ]
     },
     "execution_count": 18,
     "metadata": {},
     "output_type": "execute_result"
    }
   ],
   "source": [
    "df[\"Age1stCode\"].unique()"
   ]
  },
  {
   "cell_type": "code",
   "execution_count": 156,
   "metadata": {},
   "outputs": [
    {
     "ename": "KeyError",
     "evalue": "\"['ConvertedCompYearly'] not in index\"",
     "output_type": "error",
     "traceback": [
      "\u001b[1;31m---------------------------------------------------------------------------\u001b[0m",
      "\u001b[1;31mKeyError\u001b[0m                                  Traceback (most recent call last)",
      "\u001b[1;32m~\\AppData\\Local\\Temp/ipykernel_4220/3872140632.py\u001b[0m in \u001b[0;36m<module>\u001b[1;34m\u001b[0m\n\u001b[1;32m----> 1\u001b[1;33m \u001b[0mdf\u001b[0m\u001b[1;33m=\u001b[0m\u001b[0mdf\u001b[0m\u001b[1;33m[\u001b[0m\u001b[1;33m[\u001b[0m\u001b[1;34m\"Country\"\u001b[0m\u001b[1;33m,\u001b[0m\u001b[1;34m\"EdLevel\"\u001b[0m\u001b[1;33m,\u001b[0m\u001b[1;34m\"YearsCodePro\"\u001b[0m\u001b[1;33m,\u001b[0m\u001b[1;34m\"Age\"\u001b[0m\u001b[1;33m,\u001b[0m\u001b[1;34m\"Employment\"\u001b[0m\u001b[1;33m,\u001b[0m\u001b[1;34m\"Age1stCode\"\u001b[0m\u001b[1;33m,\u001b[0m\u001b[1;34m\"SurveyEase\"\u001b[0m\u001b[1;33m,\u001b[0m\u001b[1;34m'SOComm'\u001b[0m\u001b[1;33m,\u001b[0m\u001b[1;34m'OpSys'\u001b[0m\u001b[1;33m,\u001b[0m\u001b[1;34m'DevType'\u001b[0m\u001b[1;33m,\u001b[0m\u001b[1;34m'LanguageHaveWorkedWith'\u001b[0m\u001b[1;33m,\u001b[0m\u001b[1;34m'DatabaseHaveWorkedWith'\u001b[0m\u001b[1;33m,\u001b[0m\u001b[1;34m\"ConvertedCompYearly\"\u001b[0m\u001b[1;33m]\u001b[0m\u001b[1;33m]\u001b[0m\u001b[1;33m\u001b[0m\u001b[1;33m\u001b[0m\u001b[0m\n\u001b[0m\u001b[0;32m      2\u001b[0m \u001b[1;31m# df=df[[\"Country\",\"EdLevel\",\"YearsCodePro\",\"Employment\",\"SurveyEase\",\"ConvertedCompYearly\"]]\u001b[0m\u001b[1;33m\u001b[0m\u001b[1;33m\u001b[0m\u001b[0m\n\u001b[0;32m      3\u001b[0m \u001b[1;33m\u001b[0m\u001b[0m\n\u001b[0;32m      4\u001b[0m \u001b[0mdf\u001b[0m\u001b[1;33m=\u001b[0m\u001b[0mdf\u001b[0m\u001b[1;33m.\u001b[0m\u001b[0mrename\u001b[0m\u001b[1;33m(\u001b[0m\u001b[1;33m{\u001b[0m\u001b[1;34m\"ConvertedCompYearly\"\u001b[0m\u001b[1;33m:\u001b[0m\u001b[1;34m\"Salary\"\u001b[0m\u001b[1;33m}\u001b[0m\u001b[1;33m,\u001b[0m \u001b[0maxis\u001b[0m\u001b[1;33m=\u001b[0m\u001b[1;36m1\u001b[0m\u001b[1;33m)\u001b[0m\u001b[1;33m\u001b[0m\u001b[1;33m\u001b[0m\u001b[0m\n\u001b[0;32m      5\u001b[0m \u001b[0mdf\u001b[0m\u001b[1;33m.\u001b[0m\u001b[0mhead\u001b[0m\u001b[1;33m(\u001b[0m\u001b[1;33m)\u001b[0m\u001b[1;33m\u001b[0m\u001b[1;33m\u001b[0m\u001b[0m\n",
      "\u001b[1;32m~\\anaconda3\\envs\\ml\\lib\\site-packages\\pandas\\core\\frame.py\u001b[0m in \u001b[0;36m__getitem__\u001b[1;34m(self, key)\u001b[0m\n\u001b[0;32m   3462\u001b[0m             \u001b[1;32mif\u001b[0m \u001b[0mis_iterator\u001b[0m\u001b[1;33m(\u001b[0m\u001b[0mkey\u001b[0m\u001b[1;33m)\u001b[0m\u001b[1;33m:\u001b[0m\u001b[1;33m\u001b[0m\u001b[1;33m\u001b[0m\u001b[0m\n\u001b[0;32m   3463\u001b[0m                 \u001b[0mkey\u001b[0m \u001b[1;33m=\u001b[0m \u001b[0mlist\u001b[0m\u001b[1;33m(\u001b[0m\u001b[0mkey\u001b[0m\u001b[1;33m)\u001b[0m\u001b[1;33m\u001b[0m\u001b[1;33m\u001b[0m\u001b[0m\n\u001b[1;32m-> 3464\u001b[1;33m             \u001b[0mindexer\u001b[0m \u001b[1;33m=\u001b[0m \u001b[0mself\u001b[0m\u001b[1;33m.\u001b[0m\u001b[0mloc\u001b[0m\u001b[1;33m.\u001b[0m\u001b[0m_get_listlike_indexer\u001b[0m\u001b[1;33m(\u001b[0m\u001b[0mkey\u001b[0m\u001b[1;33m,\u001b[0m \u001b[0maxis\u001b[0m\u001b[1;33m=\u001b[0m\u001b[1;36m1\u001b[0m\u001b[1;33m)\u001b[0m\u001b[1;33m[\u001b[0m\u001b[1;36m1\u001b[0m\u001b[1;33m]\u001b[0m\u001b[1;33m\u001b[0m\u001b[1;33m\u001b[0m\u001b[0m\n\u001b[0m\u001b[0;32m   3465\u001b[0m \u001b[1;33m\u001b[0m\u001b[0m\n\u001b[0;32m   3466\u001b[0m         \u001b[1;31m# take() does not accept boolean indexers\u001b[0m\u001b[1;33m\u001b[0m\u001b[1;33m\u001b[0m\u001b[0m\n",
      "\u001b[1;32m~\\anaconda3\\envs\\ml\\lib\\site-packages\\pandas\\core\\indexing.py\u001b[0m in \u001b[0;36m_get_listlike_indexer\u001b[1;34m(self, key, axis)\u001b[0m\n\u001b[0;32m   1312\u001b[0m             \u001b[0mkeyarr\u001b[0m\u001b[1;33m,\u001b[0m \u001b[0mindexer\u001b[0m\u001b[1;33m,\u001b[0m \u001b[0mnew_indexer\u001b[0m \u001b[1;33m=\u001b[0m \u001b[0max\u001b[0m\u001b[1;33m.\u001b[0m\u001b[0m_reindex_non_unique\u001b[0m\u001b[1;33m(\u001b[0m\u001b[0mkeyarr\u001b[0m\u001b[1;33m)\u001b[0m\u001b[1;33m\u001b[0m\u001b[1;33m\u001b[0m\u001b[0m\n\u001b[0;32m   1313\u001b[0m \u001b[1;33m\u001b[0m\u001b[0m\n\u001b[1;32m-> 1314\u001b[1;33m         \u001b[0mself\u001b[0m\u001b[1;33m.\u001b[0m\u001b[0m_validate_read_indexer\u001b[0m\u001b[1;33m(\u001b[0m\u001b[0mkeyarr\u001b[0m\u001b[1;33m,\u001b[0m \u001b[0mindexer\u001b[0m\u001b[1;33m,\u001b[0m \u001b[0maxis\u001b[0m\u001b[1;33m)\u001b[0m\u001b[1;33m\u001b[0m\u001b[1;33m\u001b[0m\u001b[0m\n\u001b[0m\u001b[0;32m   1315\u001b[0m \u001b[1;33m\u001b[0m\u001b[0m\n\u001b[0;32m   1316\u001b[0m         if needs_i8_conversion(ax.dtype) or isinstance(\n",
      "\u001b[1;32m~\\anaconda3\\envs\\ml\\lib\\site-packages\\pandas\\core\\indexing.py\u001b[0m in \u001b[0;36m_validate_read_indexer\u001b[1;34m(self, key, indexer, axis)\u001b[0m\n\u001b[0;32m   1375\u001b[0m \u001b[1;33m\u001b[0m\u001b[0m\n\u001b[0;32m   1376\u001b[0m             \u001b[0mnot_found\u001b[0m \u001b[1;33m=\u001b[0m \u001b[0mlist\u001b[0m\u001b[1;33m(\u001b[0m\u001b[0mensure_index\u001b[0m\u001b[1;33m(\u001b[0m\u001b[0mkey\u001b[0m\u001b[1;33m)\u001b[0m\u001b[1;33m[\u001b[0m\u001b[0mmissing_mask\u001b[0m\u001b[1;33m.\u001b[0m\u001b[0mnonzero\u001b[0m\u001b[1;33m(\u001b[0m\u001b[1;33m)\u001b[0m\u001b[1;33m[\u001b[0m\u001b[1;36m0\u001b[0m\u001b[1;33m]\u001b[0m\u001b[1;33m]\u001b[0m\u001b[1;33m.\u001b[0m\u001b[0munique\u001b[0m\u001b[1;33m(\u001b[0m\u001b[1;33m)\u001b[0m\u001b[1;33m)\u001b[0m\u001b[1;33m\u001b[0m\u001b[1;33m\u001b[0m\u001b[0m\n\u001b[1;32m-> 1377\u001b[1;33m             \u001b[1;32mraise\u001b[0m \u001b[0mKeyError\u001b[0m\u001b[1;33m(\u001b[0m\u001b[1;34mf\"{not_found} not in index\"\u001b[0m\u001b[1;33m)\u001b[0m\u001b[1;33m\u001b[0m\u001b[1;33m\u001b[0m\u001b[0m\n\u001b[0m\u001b[0;32m   1378\u001b[0m \u001b[1;33m\u001b[0m\u001b[0m\n\u001b[0;32m   1379\u001b[0m \u001b[1;33m\u001b[0m\u001b[0m\n",
      "\u001b[1;31mKeyError\u001b[0m: \"['ConvertedCompYearly'] not in index\""
     ]
    }
   ],
   "source": [
    "df=df[[\"Country\",\"EdLevel\",\"YearsCodePro\",\"Age\",\"Employment\",\"Age1stCode\",\"SurveyEase\",'SOComm','OpSys','DevType','LanguageHaveWorkedWith','DatabaseHaveWorkedWith',\"ConvertedCompYearly\"]]\n",
    "# df=df[[\"Country\",\"EdLevel\",\"YearsCodePro\",\"Employment\",\"SurveyEase\",\"ConvertedCompYearly\"]]\n",
    "\n",
    "df=df.rename({\"ConvertedCompYearly\":\"Salary\"}, axis=1)\n",
    "df.head()"
   ]
  },
  {
   "cell_type": "code",
   "execution_count": 157,
   "metadata": {},
   "outputs": [
    {
     "data": {
      "text/html": [
       "<div>\n",
       "<style scoped>\n",
       "    .dataframe tbody tr th:only-of-type {\n",
       "        vertical-align: middle;\n",
       "    }\n",
       "\n",
       "    .dataframe tbody tr th {\n",
       "        vertical-align: top;\n",
       "    }\n",
       "\n",
       "    .dataframe thead th {\n",
       "        text-align: right;\n",
       "    }\n",
       "</style>\n",
       "<table border=\"1\" class=\"dataframe\">\n",
       "  <thead>\n",
       "    <tr style=\"text-align: right;\">\n",
       "      <th></th>\n",
       "      <th>Country</th>\n",
       "      <th>EdLevel</th>\n",
       "      <th>YearsCodePro</th>\n",
       "      <th>Age</th>\n",
       "      <th>Employment</th>\n",
       "      <th>Age1stCode</th>\n",
       "      <th>SurveyEase</th>\n",
       "      <th>SOComm</th>\n",
       "      <th>OpSys</th>\n",
       "      <th>DevType</th>\n",
       "      <th>LanguageHaveWorkedWith</th>\n",
       "      <th>DatabaseHaveWorkedWith</th>\n",
       "      <th>Salary</th>\n",
       "    </tr>\n",
       "  </thead>\n",
       "  <tbody>\n",
       "    <tr>\n",
       "      <th>0</th>\n",
       "      <td>Slovakia</td>\n",
       "      <td>Secondary school (e.g. American high school, G...</td>\n",
       "      <td>NaN</td>\n",
       "      <td>25-34 years old</td>\n",
       "      <td>Independent contractor, freelancer, or self-em...</td>\n",
       "      <td>18 - 24 years</td>\n",
       "      <td>Easy</td>\n",
       "      <td>Yes, definitely</td>\n",
       "      <td>MacOS</td>\n",
       "      <td>Developer, mobile</td>\n",
       "      <td>C++;HTML/CSS;JavaScript;Objective-C;PHP;Swift</td>\n",
       "      <td>PostgreSQL;SQLite</td>\n",
       "      <td>62268.0</td>\n",
       "    </tr>\n",
       "    <tr>\n",
       "      <th>9</th>\n",
       "      <td>Sweden</td>\n",
       "      <td>Master’s degree (M.A., M.S., M.Eng., MBA, etc.)</td>\n",
       "      <td>4</td>\n",
       "      <td>25-34 years old</td>\n",
       "      <td>Employed full-time</td>\n",
       "      <td>11 - 17 years</td>\n",
       "      <td>Neither easy nor difficult</td>\n",
       "      <td>Yes, somewhat</td>\n",
       "      <td>Linux-based</td>\n",
       "      <td>Data scientist or machine learning specialist</td>\n",
       "      <td>C++;Python</td>\n",
       "      <td>PostgreSQL</td>\n",
       "      <td>51552.0</td>\n",
       "    </tr>\n",
       "    <tr>\n",
       "      <th>11</th>\n",
       "      <td>Spain</td>\n",
       "      <td>Bachelor’s degree (B.A., B.S., B.Eng., etc.)</td>\n",
       "      <td>5</td>\n",
       "      <td>25-34 years old</td>\n",
       "      <td>Employed full-time</td>\n",
       "      <td>11 - 17 years</td>\n",
       "      <td>Easy</td>\n",
       "      <td>Yes, somewhat</td>\n",
       "      <td>Linux-based</td>\n",
       "      <td>Developer, back-end</td>\n",
       "      <td>Bash/Shell;HTML/CSS;JavaScript;Node.js;SQL;Typ...</td>\n",
       "      <td>PostgreSQL</td>\n",
       "      <td>46482.0</td>\n",
       "    </tr>\n",
       "    <tr>\n",
       "      <th>16</th>\n",
       "      <td>Turkey</td>\n",
       "      <td>Bachelor’s degree (B.A., B.S., B.Eng., etc.)</td>\n",
       "      <td>2</td>\n",
       "      <td>25-34 years old</td>\n",
       "      <td>Employed full-time</td>\n",
       "      <td>5 - 10 years</td>\n",
       "      <td>Neither easy nor difficult</td>\n",
       "      <td>Yes, definitely</td>\n",
       "      <td>Windows</td>\n",
       "      <td>Developer, full-stack</td>\n",
       "      <td>C#;HTML/CSS;Java;JavaScript;Node.js</td>\n",
       "      <td>Microsoft SQL Server;MongoDB;PostgreSQL</td>\n",
       "      <td>17748.0</td>\n",
       "    </tr>\n",
       "    <tr>\n",
       "      <th>17</th>\n",
       "      <td>Canada</td>\n",
       "      <td>Bachelor’s degree (B.A., B.S., B.Eng., etc.)</td>\n",
       "      <td>6</td>\n",
       "      <td>25-34 years old</td>\n",
       "      <td>Employed full-time</td>\n",
       "      <td>11 - 17 years</td>\n",
       "      <td>Easy</td>\n",
       "      <td>Yes, definitely</td>\n",
       "      <td>MacOS</td>\n",
       "      <td>Developer, front-end;Developer, full-stack;Dev...</td>\n",
       "      <td>Bash/Shell;HTML/CSS;JavaScript;PHP;Ruby;SQL</td>\n",
       "      <td>MySQL;PostgreSQL</td>\n",
       "      <td>46135.0</td>\n",
       "    </tr>\n",
       "  </tbody>\n",
       "</table>\n",
       "</div>"
      ],
      "text/plain": [
       "     Country                                            EdLevel YearsCodePro  \\\n",
       "0   Slovakia  Secondary school (e.g. American high school, G...          NaN   \n",
       "9     Sweden    Master’s degree (M.A., M.S., M.Eng., MBA, etc.)            4   \n",
       "11     Spain       Bachelor’s degree (B.A., B.S., B.Eng., etc.)            5   \n",
       "16    Turkey       Bachelor’s degree (B.A., B.S., B.Eng., etc.)            2   \n",
       "17    Canada       Bachelor’s degree (B.A., B.S., B.Eng., etc.)            6   \n",
       "\n",
       "                Age                                         Employment  \\\n",
       "0   25-34 years old  Independent contractor, freelancer, or self-em...   \n",
       "9   25-34 years old                                 Employed full-time   \n",
       "11  25-34 years old                                 Employed full-time   \n",
       "16  25-34 years old                                 Employed full-time   \n",
       "17  25-34 years old                                 Employed full-time   \n",
       "\n",
       "       Age1stCode                  SurveyEase           SOComm        OpSys  \\\n",
       "0   18 - 24 years                        Easy  Yes, definitely        MacOS   \n",
       "9   11 - 17 years  Neither easy nor difficult    Yes, somewhat  Linux-based   \n",
       "11  11 - 17 years                        Easy    Yes, somewhat  Linux-based   \n",
       "16   5 - 10 years  Neither easy nor difficult  Yes, definitely      Windows   \n",
       "17  11 - 17 years                        Easy  Yes, definitely        MacOS   \n",
       "\n",
       "                                              DevType  \\\n",
       "0                                   Developer, mobile   \n",
       "9       Data scientist or machine learning specialist   \n",
       "11                                Developer, back-end   \n",
       "16                              Developer, full-stack   \n",
       "17  Developer, front-end;Developer, full-stack;Dev...   \n",
       "\n",
       "                               LanguageHaveWorkedWith  \\\n",
       "0       C++;HTML/CSS;JavaScript;Objective-C;PHP;Swift   \n",
       "9                                          C++;Python   \n",
       "11  Bash/Shell;HTML/CSS;JavaScript;Node.js;SQL;Typ...   \n",
       "16                C#;HTML/CSS;Java;JavaScript;Node.js   \n",
       "17        Bash/Shell;HTML/CSS;JavaScript;PHP;Ruby;SQL   \n",
       "\n",
       "                     DatabaseHaveWorkedWith   Salary  \n",
       "0                         PostgreSQL;SQLite  62268.0  \n",
       "9                                PostgreSQL  51552.0  \n",
       "11                               PostgreSQL  46482.0  \n",
       "16  Microsoft SQL Server;MongoDB;PostgreSQL  17748.0  \n",
       "17                         MySQL;PostgreSQL  46135.0  "
      ]
     },
     "execution_count": 157,
     "metadata": {},
     "output_type": "execute_result"
    }
   ],
   "source": [
    "df=df[df[\"Salary\"].notnull()]\n",
    "df=df[df[\"LanguageHaveWorkedWith\"].notnull()]\n",
    "df=df[df[\"DevType\"].notnull()]\n",
    "df=df[df[\"DatabaseHaveWorkedWith\"].notnull()]\n",
    "\n",
    "df.head()"
   ]
  },
  {
   "cell_type": "code",
   "execution_count": 21,
   "metadata": {},
   "outputs": [
    {
     "data": {
      "text/plain": [
       "array(['Independent contractor, freelancer, or self-employed',\n",
       "       'Employed full-time', 'I prefer not to say', 'Employed part-time',\n",
       "       'Retired', nan], dtype=object)"
      ]
     },
     "execution_count": 21,
     "metadata": {},
     "output_type": "execute_result"
    }
   ],
   "source": [
    "df[\"Employment\"].unique()"
   ]
  },
  {
   "cell_type": "code",
   "execution_count": 22,
   "metadata": {},
   "outputs": [
    {
     "data": {
      "text/plain": [
       "array(['Easy', 'Neither easy nor difficult', 'Difficult', nan],\n",
       "      dtype=object)"
      ]
     },
     "execution_count": 22,
     "metadata": {},
     "output_type": "execute_result"
    }
   ],
   "source": [
    "df[\"SurveyEase\"].unique()"
   ]
  },
  {
   "cell_type": "code",
   "execution_count": 23,
   "metadata": {},
   "outputs": [
    {
     "data": {
      "text/plain": [
       "array(['Yes, definitely', 'Yes, somewhat', 'Neutral', 'No, not really',\n",
       "       'No, not at all', 'Not sure', nan], dtype=object)"
      ]
     },
     "execution_count": 23,
     "metadata": {},
     "output_type": "execute_result"
    }
   ],
   "source": [
    "df[\"SOComm\"].unique()"
   ]
  },
  {
   "cell_type": "code",
   "execution_count": 24,
   "metadata": {},
   "outputs": [
    {
     "data": {
      "text/plain": [
       "False    46245\n",
       "True       448\n",
       "Name: YearsCodePro, dtype: int64"
      ]
     },
     "execution_count": 24,
     "metadata": {},
     "output_type": "execute_result"
    }
   ],
   "source": [
    "df[\"YearsCodePro\"].isnull().value_counts()"
   ]
  },
  {
   "cell_type": "code",
   "execution_count": 25,
   "metadata": {},
   "outputs": [
    {
     "data": {
      "text/plain": [
       "Country                   46693\n",
       "EdLevel                   46672\n",
       "YearsCodePro              46245\n",
       "Age                       46588\n",
       "Employment                46680\n",
       "Age1stCode                46682\n",
       "SurveyEase                46363\n",
       "SOComm                    46546\n",
       "OpSys                     46677\n",
       "DevType                   46604\n",
       "LanguageHaveWorkedWith    46693\n",
       "DatabaseHaveWorkedWith    41297\n",
       "Salary                    46693\n",
       "dtype: int64"
      ]
     },
     "execution_count": 25,
     "metadata": {},
     "output_type": "execute_result"
    }
   ],
   "source": [
    "df.count()"
   ]
  },
  {
   "cell_type": "code",
   "execution_count": 26,
   "metadata": {},
   "outputs": [],
   "source": [
    "df=df.dropna()"
   ]
  },
  {
   "cell_type": "code",
   "execution_count": 27,
   "metadata": {},
   "outputs": [
    {
     "name": "stdout",
     "output_type": "stream",
     "text": [
      "<class 'pandas.core.frame.DataFrame'>\n",
      "Int64Index: 40390 entries, 9 to 83438\n",
      "Data columns (total 13 columns):\n",
      " #   Column                  Non-Null Count  Dtype  \n",
      "---  ------                  --------------  -----  \n",
      " 0   Country                 40390 non-null  object \n",
      " 1   EdLevel                 40390 non-null  object \n",
      " 2   YearsCodePro            40390 non-null  object \n",
      " 3   Age                     40390 non-null  object \n",
      " 4   Employment              40390 non-null  object \n",
      " 5   Age1stCode              40390 non-null  object \n",
      " 6   SurveyEase              40390 non-null  object \n",
      " 7   SOComm                  40390 non-null  object \n",
      " 8   OpSys                   40390 non-null  object \n",
      " 9   DevType                 40390 non-null  object \n",
      " 10  LanguageHaveWorkedWith  40390 non-null  object \n",
      " 11  DatabaseHaveWorkedWith  40390 non-null  object \n",
      " 12  Salary                  40390 non-null  float64\n",
      "dtypes: float64(1), object(12)\n",
      "memory usage: 4.3+ MB\n"
     ]
    }
   ],
   "source": [
    "df.info()"
   ]
  },
  {
   "cell_type": "code",
   "execution_count": 28,
   "metadata": {},
   "outputs": [
    {
     "data": {
      "text/plain": [
       "United States of America                                8299\n",
       "India                                                   3398\n",
       "Germany                                                 2710\n",
       "United Kingdom of Great Britain and Northern Ireland    2471\n",
       "Canada                                                  1465\n",
       "                                                        ... \n",
       "Guinea                                                     1\n",
       "Monaco                                                     1\n",
       "Gambia                                                     1\n",
       "Dominica                                                   1\n",
       "North Korea                                                1\n",
       "Name: Country, Length: 171, dtype: int64"
      ]
     },
     "execution_count": 28,
     "metadata": {},
     "output_type": "execute_result"
    }
   ],
   "source": [
    "df[\"Country\"].value_counts()"
   ]
  },
  {
   "cell_type": "code",
   "execution_count": 29,
   "metadata": {},
   "outputs": [],
   "source": [
    "def specializeCategories(categories,cutoff):\n",
    "    catigorical_map={}\n",
    "    for i in range (len(categories)):\n",
    "        if categories.values[i]>= cutoff:\n",
    "            catigorical_map[categories.index[i]]=categories.index[i]\n",
    "        else:\n",
    "            catigorical_map[categories.index[i]]=\"other\"\n",
    "    return catigorical_map"
   ]
  },
  {
   "cell_type": "code",
   "execution_count": 30,
   "metadata": {},
   "outputs": [],
   "source": [
    "countryMap=specializeCategories(df.Country.value_counts(),450)"
   ]
  },
  {
   "cell_type": "code",
   "execution_count": 31,
   "metadata": {},
   "outputs": [
    {
     "data": {
      "text/plain": [
       "other                                                   12421\n",
       "United States of America                                 8299\n",
       "India                                                    3398\n",
       "Germany                                                  2710\n",
       "United Kingdom of Great Britain and Northern Ireland     2471\n",
       "Canada                                                   1465\n",
       "Brazil                                                   1449\n",
       "France                                                   1370\n",
       "Poland                                                    977\n",
       "Netherlands                                               915\n",
       "Spain                                                     908\n",
       "Australia                                                 820\n",
       "Italy                                                     816\n",
       "Russian Federation                                        748\n",
       "Sweden                                                    667\n",
       "Turkey                                                    489\n",
       "Switzerland                                               467\n",
       "Name: Country, dtype: int64"
      ]
     },
     "execution_count": 31,
     "metadata": {},
     "output_type": "execute_result"
    }
   ],
   "source": [
    "df[\"Country\"]=df[\"Country\"].map(countryMap)\n",
    "df.Country.value_counts()"
   ]
  },
  {
   "cell_type": "code",
   "execution_count": 32,
   "metadata": {},
   "outputs": [
    {
     "data": {
      "image/png": "[encoded data removed]",
      "text/plain": [
       "<Figure size 864x504 with 1 Axes>"
      ]
     },
     "metadata": {
      "needs_background": "light"
     },
     "output_type": "display_data"
    }
   ],
   "source": [
    "fig, ax=plt.subplots(1, 1, figsize=(12, 7))\n",
    "df.boxplot(\"Salary\" ,\"Country\" ,ax=ax)\n",
    "plt.suptitle(\"Salary Vs Country\")\n",
    "plt.ylabel(\"Salary\")\n",
    "plt.title(\"\")\n",
    "plt.show()"
   ]
  },
  {
   "cell_type": "code",
   "execution_count": 33,
   "metadata": {},
   "outputs": [],
   "source": [
    "df=df[df['Salary']<=250000 ]\n",
    "df=df[df['Salary']>=10000 ]\n",
    "df=df[df['Country'] != \"other\"]"
   ]
  },
  {
   "cell_type": "code",
   "execution_count": 34,
   "metadata": {},
   "outputs": [
    {
     "data": {
      "image/png": "[encoded data removed]",
      "text/plain": [
       "<Figure size 864x504 with 1 Axes>"
      ]
     },
     "metadata": {
      "needs_background": "light"
     },
     "output_type": "display_data"
    }
   ],
   "source": [
    "fig, ax=plt.subplots(1, 1, figsize=(12, 7))\n",
    "df.boxplot(\"Salary\" ,\"Country\" ,ax=ax)\n",
    "plt.suptitle(\"Salary Vs Country\")\n",
    "plt.ylabel(\"Salary\")\n",
    "plt.title(\"\")\n",
    "plt.show()"
   ]
  },
  {
   "cell_type": "code",
   "execution_count": 35,
   "metadata": {},
   "outputs": [
    {
     "data": {
      "text/plain": [
       "array(['4', '5', '2', '6', '18', '21', '16', '15', '12', '3', '10', '8',\n",
       "       '7', '17', '14', '26', '1', '25', '34', '11', '24', '13', '9',\n",
       "       '22', '31', '39', '20', '30', '19', '35', 'Less than 1 year', '33',\n",
       "       '23', '37', '27', '43', '42', '28', '46', '32', '36', '29', '40',\n",
       "       '47', '45', '44', '41', '50', 'More than 50 years', '38', '49',\n",
       "       '48'], dtype=object)"
      ]
     },
     "execution_count": 35,
     "metadata": {},
     "output_type": "execute_result"
    }
   ],
   "source": [
    "df[\"YearsCodePro\"].unique()"
   ]
  },
  {
   "cell_type": "code",
   "execution_count": 36,
   "metadata": {},
   "outputs": [],
   "source": [
    "def clean_experience(x):\n",
    "      \n",
    "    if x ==  'More than 50 years':\n",
    "        return 50\n",
    "    if x == 'Less than 1 year':\n",
    "        return 0.5\n",
    "    return float(x)\n",
    "\n",
    "df['YearsCodePro'] = df['YearsCodePro'].apply(clean_experience)"
   ]
  },
  {
   "cell_type": "code",
   "execution_count": 37,
   "metadata": {},
   "outputs": [
    {
     "data": {
      "text/plain": [
       "array(['Master’s degree (M.A., M.S., M.Eng., MBA, etc.)',\n",
       "       'Bachelor’s degree (B.A., B.S., B.Eng., etc.)',\n",
       "       'Professional degree (JD, MD, etc.)',\n",
       "       'Some college/university study without earning a degree',\n",
       "       'Other doctoral degree (Ph.D., Ed.D., etc.)', 'Something else',\n",
       "       'Associate degree (A.A., A.S., etc.)',\n",
       "       'Secondary school (e.g. American high school, German Realschule or Gymnasium, etc.)',\n",
       "       'Primary/elementary school'], dtype=object)"
      ]
     },
     "execution_count": 37,
     "metadata": {},
     "output_type": "execute_result"
    }
   ],
   "source": [
    "df['EdLevel'].unique()"
   ]
  },
  {
   "cell_type": "code",
   "execution_count": 38,
   "metadata": {},
   "outputs": [],
   "source": [
    "def clean_edlevel(x):\n",
    "    if 'Master’s degree' in x:\n",
    "        return 'Master’s degree'\n",
    "    if 'Bachelor’s degree' in x:\n",
    "        return \"Bachelor’s degree\"\n",
    "    if 'Other doctoral' in x or 'Professional degree' in x:\n",
    "        return 'post grad'\n",
    "    return \"less than a Bachelor\"\n",
    "df['EdLevel']=df['EdLevel'].apply(clean_edlevel)"
   ]
  },
  {
   "cell_type": "code",
   "execution_count": 39,
   "metadata": {},
   "outputs": [
    {
     "data": {
      "text/plain": [
       "array(['25-34 years old', '35-44 years old', '45-54 years old',\n",
       "       '18-24 years old', '55-64 years old', '65 years or older',\n",
       "       'Under 18 years old', 'Prefer not to say'], dtype=object)"
      ]
     },
     "execution_count": 39,
     "metadata": {},
     "output_type": "execute_result"
    }
   ],
   "source": [
    "df['Age'].unique()"
   ]
  },
  {
   "cell_type": "code",
   "execution_count": 40,
   "metadata": {},
   "outputs": [
    {
     "data": {
      "text/plain": [
       "9        34.0\n",
       "11       34.0\n",
       "16       34.0\n",
       "17       34.0\n",
       "23       34.0\n",
       "         ... \n",
       "83432    24.0\n",
       "83433    34.0\n",
       "83434    34.0\n",
       "83436    34.0\n",
       "83438    24.0\n",
       "Name: Age, Length: 24724, dtype: float64"
      ]
     },
     "execution_count": 40,
     "metadata": {},
     "output_type": "execute_result"
    }
   ],
   "source": [
    "def clean_age(x):\n",
    "    if \"25-34\" in x:\n",
    "        return 34\n",
    "    if \"35-44\" in x:\n",
    "        return 44\n",
    "    if \"45-54\" in x:\n",
    "        return 54\n",
    "    if \"18-24\" in x:\n",
    "        return 24\n",
    "    if\"55-64\" in x:\n",
    "        return 64\n",
    "    if \"65\" in x:\n",
    "        return 65\n",
    "    if \"18\" in x:\n",
    "        return 18\n",
    "    if 'Prefer not to say' in x:\n",
    "        return None\n",
    "df['Age']=df['Age'].apply(clean_age)\n",
    "df['Age']"
   ]
  },
  {
   "cell_type": "code",
   "execution_count": 41,
   "metadata": {},
   "outputs": [],
   "source": [
    "df['Age'].fillna(df[\"Age\"].mean(),inplace=True)"
   ]
  },
  {
   "cell_type": "code",
   "execution_count": 42,
   "metadata": {},
   "outputs": [
    {
     "data": {
      "text/plain": [
       "False    24724\n",
       "Name: Age, dtype: int64"
      ]
     },
     "execution_count": 42,
     "metadata": {},
     "output_type": "execute_result"
    }
   ],
   "source": [
    "df[\"Age\"].isnull().value_counts()"
   ]
  },
  {
   "cell_type": "code",
   "execution_count": 43,
   "metadata": {},
   "outputs": [
    {
     "data": {
      "text/plain": [
       "9                                               C++;Python\n",
       "11       Bash/Shell;HTML/CSS;JavaScript;Node.js;SQL;Typ...\n",
       "16                     C#;HTML/CSS;Java;JavaScript;Node.js\n",
       "17             Bash/Shell;HTML/CSS;JavaScript;PHP;Ruby;SQL\n",
       "23                                       JavaScript;Python\n",
       "                               ...                        \n",
       "83432                                                 Ruby\n",
       "83433        Java;JavaScript;Kotlin;Objective-C;TypeScript\n",
       "83434                                   Clojure;Kotlin;SQL\n",
       "83436                                   Groovy;Java;Python\n",
       "83438               Delphi;Elixir;HTML/CSS;Java;JavaScript\n",
       "Name: LanguageHaveWorkedWith, Length: 24724, dtype: object"
      ]
     },
     "execution_count": 43,
     "metadata": {},
     "output_type": "execute_result"
    }
   ],
   "source": [
    "df['LanguageHaveWorkedWith']"
   ]
  },
  {
   "cell_type": "code",
   "execution_count": 44,
   "metadata": {},
   "outputs": [
    {
     "data": {
      "text/plain": [
       "array(['C++;Python',\n",
       "       'Bash/Shell;HTML/CSS;JavaScript;Node.js;SQL;TypeScript',\n",
       "       'C#;HTML/CSS;Java;JavaScript;Node.js', ...,\n",
       "       'Java;JavaScript;Kotlin;Objective-C;TypeScript',\n",
       "       'Clojure;Kotlin;SQL', 'Delphi;Elixir;HTML/CSS;Java;JavaScript'],\n",
       "      dtype=object)"
      ]
     },
     "execution_count": 44,
     "metadata": {},
     "output_type": "execute_result"
    }
   ],
   "source": [
    "df['LanguageHaveWorkedWith'].unique()"
   ]
  },
  {
   "cell_type": "code",
   "execution_count": 45,
   "metadata": {},
   "outputs": [],
   "source": [
    "df['LanguageHaveWorkedWith'] = [df['LanguageHaveWorkedWith'].tolist()[i].split(\";\") for i in range(df['LanguageHaveWorkedWith'].count())]"
   ]
  },
  {
   "cell_type": "code",
   "execution_count": 46,
   "metadata": {},
   "outputs": [
    {
     "data": {
      "text/plain": [
       "9                                            [C++, Python]\n",
       "11       [Bash/Shell, HTML/CSS, JavaScript, Node.js, SQ...\n",
       "16               [C#, HTML/CSS, Java, JavaScript, Node.js]\n",
       "17       [Bash/Shell, HTML/CSS, JavaScript, PHP, Ruby, ...\n",
       "23                                    [JavaScript, Python]\n",
       "                               ...                        \n",
       "83432                                               [Ruby]\n",
       "83433    [Java, JavaScript, Kotlin, Objective-C, TypeSc...\n",
       "83434                               [Clojure, Kotlin, SQL]\n",
       "83436                               [Groovy, Java, Python]\n",
       "83438         [Delphi, Elixir, HTML/CSS, Java, JavaScript]\n",
       "Name: LanguageHaveWorkedWith, Length: 24724, dtype: object"
      ]
     },
     "execution_count": 46,
     "metadata": {},
     "output_type": "execute_result"
    }
   ],
   "source": [
    "df['LanguageHaveWorkedWith']"
   ]
  },
  {
   "cell_type": "code",
   "execution_count": 158,
   "metadata": {},
   "outputs": [],
   "source": [
    "df['DevType'] = [df['DevType'].tolist()[i].split() for i in range(df['DevType'].count())]"
   ]
  },
  {
   "cell_type": "code",
   "execution_count": 159,
   "metadata": {},
   "outputs": [],
   "source": [
    "df['DevType'] = [\" \".join(df['DevType'].tolist()[i]) for i in range(df['DevType'].count())]"
   ]
  },
  {
   "cell_type": "code",
   "execution_count": 160,
   "metadata": {},
   "outputs": [
    {
     "data": {
      "text/plain": [
       "0                                     [Developer,  mobile]\n",
       "9          [Data scientist or machine learning specialist]\n",
       "11                                  [Developer,  back-end]\n",
       "16                                [Developer,  full-stack]\n",
       "17       [Developer,  front-end Developer,  full-stack ...\n",
       "                               ...                        \n",
       "83433    [Developer,  mobile Developer,  front-end Deve...\n",
       "83434                               [Developer,  back-end]\n",
       "83436    [Data scientist or machine learning specialist...\n",
       "83437                               [Developer,  back-end]\n",
       "83438    [Developer,  front-end Developer,  full-stack ...\n",
       "Name: DevType, Length: 41228, dtype: object"
      ]
     },
     "execution_count": 160,
     "metadata": {},
     "output_type": "execute_result"
    }
   ],
   "source": [
    "df['DevType']=[df['DevType'].tolist()[i].replace(\";\", \" \") for i in range(df['DevType'].count())]\n",
    "df['DevType'] = [df['DevType'].tolist()[i].split(\",\") for i in range(df['DevType'].count())]\n",
    "df['DevType']"
   ]
  },
  {
   "cell_type": "code",
   "execution_count": 47,
   "metadata": {},
   "outputs": [
    {
     "data": {
      "text/plain": [
       "array(['APL', 'Assembly', 'Bash/Shell', 'C', 'C#', 'C++', 'COBOL',\n",
       "       'Clojure', 'Crystal', 'Dart', 'Delphi', 'Elixir', 'Erlang', 'F#',\n",
       "       'Go', 'Groovy', 'HTML/CSS', 'Haskell', 'Java', 'JavaScript',\n",
       "       'Julia', 'Kotlin', 'LISP', 'Matlab', 'Node.js', 'Objective-C',\n",
       "       'PHP', 'Perl', 'PowerShell', 'Python', 'R', 'Ruby', 'Rust', 'SQL',\n",
       "       'Scala', 'Swift', 'TypeScript', 'VBA'], dtype=object)"
      ]
     },
     "execution_count": 47,
     "metadata": {},
     "output_type": "execute_result"
    }
   ],
   "source": [
    "# Encoding MultiLabel data using MultiLabel Binarizer \n",
    "from sklearn.preprocessing import MultiLabelBinarizer\n",
    "encoded_Language = MultiLabelBinarizer()\n",
    "multilabel_encoded_Language = encoded_Language.fit_transform(df['LanguageHaveWorkedWith'])\n",
    "# Classes created in MultiLabel data after Encoding\n",
    "encoded_Language.classes_"
   ]
  },
  {
   "cell_type": "code",
   "execution_count": 110,
   "metadata": {},
   "outputs": [
    {
     "data": {
      "text/plain": [
       "array([' ', ' QA or test', ' QA or test Data or business analyst', ...,\n",
       "       's', 't', 'y'], dtype=object)"
      ]
     },
     "execution_count": 110,
     "metadata": {},
     "output_type": "execute_result"
    }
   ],
   "source": [
    "# Encoding MultiLabel data using MultiLabel Binarizer \n",
    "from sklearn.preprocessing import MultiLabelBinarizer\n",
    "encoded_DevType = MultiLabelBinarizer()\n",
    "multilabel_encoded_DevType = encoded_DevType.fit_transform(df['DevType'])\n",
    "# Classes created in MultiLabel data after Encoding\n",
    "encoded_DevType.classes_"
   ]
  },
  {
   "cell_type": "code",
   "execution_count": 161,
   "metadata": {},
   "outputs": [],
   "source": [
    "s=df['DevType']"
   ]
  },
  {
   "cell_type": "code",
   "execution_count": 162,
   "metadata": {},
   "outputs": [],
   "source": [
    "def clean_type(x):\n",
    "    for i in range (len(x)):\n",
    "        if \"QA or test\" in x[i]:\n",
    "            x[i]=\"QA or test\"\n",
    "        if \"System administrator\" in x[i]:\n",
    "            x[i]= \"System administrator\"\n",
    "        if \"front-end\" in x[i] :\n",
    "           x[i]= \"front-end\"\n",
    "        if \"back-end\" in x[i]:\n",
    "            x[i]= 'back-end'\n",
    "        else: \n",
    "            x[i]=x[i]\n",
    "        \n",
    "s=s.apply(clean_type)"
   ]
  },
  {
   "cell_type": "code",
   "execution_count": 153,
   "metadata": {},
   "outputs": [
    {
     "data": {
      "text/plain": [
       "0        None\n",
       "9        None\n",
       "11       None\n",
       "16       None\n",
       "17       None\n",
       "         ... \n",
       "83433    None\n",
       "83434    None\n",
       "83436    None\n",
       "83437    None\n",
       "83438    None\n",
       "Name: DevType, Length: 41228, dtype: object"
      ]
     },
     "execution_count": 153,
     "metadata": {},
     "output_type": "execute_result"
    }
   ],
   "source": [
    "df['DevType']"
   ]
  },
  {
   "cell_type": "code",
   "execution_count": 48,
   "metadata": {},
   "outputs": [
    {
     "data": {
      "text/html": [
       "<div>\n",
       "<style scoped>\n",
       "    .dataframe tbody tr th:only-of-type {\n",
       "        vertical-align: middle;\n",
       "    }\n",
       "\n",
       "    .dataframe tbody tr th {\n",
       "        vertical-align: top;\n",
       "    }\n",
       "\n",
       "    .dataframe thead th {\n",
       "        text-align: right;\n",
       "    }\n",
       "</style>\n",
       "<table border=\"1\" class=\"dataframe\">\n",
       "  <thead>\n",
       "    <tr style=\"text-align: right;\">\n",
       "      <th></th>\n",
       "      <th>APL</th>\n",
       "      <th>Assembly</th>\n",
       "      <th>Bash/Shell</th>\n",
       "      <th>C</th>\n",
       "      <th>C#</th>\n",
       "      <th>C++</th>\n",
       "      <th>COBOL</th>\n",
       "      <th>Clojure</th>\n",
       "      <th>Crystal</th>\n",
       "      <th>Dart</th>\n",
       "      <th>...</th>\n",
       "      <th>PowerShell</th>\n",
       "      <th>Python</th>\n",
       "      <th>R</th>\n",
       "      <th>Ruby</th>\n",
       "      <th>Rust</th>\n",
       "      <th>SQL</th>\n",
       "      <th>Scala</th>\n",
       "      <th>Swift</th>\n",
       "      <th>TypeScript</th>\n",
       "      <th>VBA</th>\n",
       "    </tr>\n",
       "  </thead>\n",
       "  <tbody>\n",
       "    <tr>\n",
       "      <th>0</th>\n",
       "      <td>0</td>\n",
       "      <td>0</td>\n",
       "      <td>0</td>\n",
       "      <td>0</td>\n",
       "      <td>0</td>\n",
       "      <td>1</td>\n",
       "      <td>0</td>\n",
       "      <td>0</td>\n",
       "      <td>0</td>\n",
       "      <td>0</td>\n",
       "      <td>...</td>\n",
       "      <td>0</td>\n",
       "      <td>1</td>\n",
       "      <td>0</td>\n",
       "      <td>0</td>\n",
       "      <td>0</td>\n",
       "      <td>0</td>\n",
       "      <td>0</td>\n",
       "      <td>0</td>\n",
       "      <td>0</td>\n",
       "      <td>0</td>\n",
       "    </tr>\n",
       "    <tr>\n",
       "      <th>1</th>\n",
       "      <td>0</td>\n",
       "      <td>0</td>\n",
       "      <td>1</td>\n",
       "      <td>0</td>\n",
       "      <td>0</td>\n",
       "      <td>0</td>\n",
       "      <td>0</td>\n",
       "      <td>0</td>\n",
       "      <td>0</td>\n",
       "      <td>0</td>\n",
       "      <td>...</td>\n",
       "      <td>0</td>\n",
       "      <td>0</td>\n",
       "      <td>0</td>\n",
       "      <td>0</td>\n",
       "      <td>0</td>\n",
       "      <td>1</td>\n",
       "      <td>0</td>\n",
       "      <td>0</td>\n",
       "      <td>1</td>\n",
       "      <td>0</td>\n",
       "    </tr>\n",
       "    <tr>\n",
       "      <th>2</th>\n",
       "      <td>0</td>\n",
       "      <td>0</td>\n",
       "      <td>0</td>\n",
       "      <td>1</td>\n",
       "      <td>0</td>\n",
       "      <td>1</td>\n",
       "      <td>0</td>\n",
       "      <td>0</td>\n",
       "      <td>0</td>\n",
       "      <td>0</td>\n",
       "      <td>...</td>\n",
       "      <td>0</td>\n",
       "      <td>0</td>\n",
       "      <td>0</td>\n",
       "      <td>1</td>\n",
       "      <td>0</td>\n",
       "      <td>0</td>\n",
       "      <td>0</td>\n",
       "      <td>0</td>\n",
       "      <td>0</td>\n",
       "      <td>0</td>\n",
       "    </tr>\n",
       "    <tr>\n",
       "      <th>3</th>\n",
       "      <td>0</td>\n",
       "      <td>0</td>\n",
       "      <td>0</td>\n",
       "      <td>0</td>\n",
       "      <td>1</td>\n",
       "      <td>0</td>\n",
       "      <td>0</td>\n",
       "      <td>0</td>\n",
       "      <td>0</td>\n",
       "      <td>0</td>\n",
       "      <td>...</td>\n",
       "      <td>0</td>\n",
       "      <td>0</td>\n",
       "      <td>0</td>\n",
       "      <td>0</td>\n",
       "      <td>0</td>\n",
       "      <td>0</td>\n",
       "      <td>0</td>\n",
       "      <td>0</td>\n",
       "      <td>0</td>\n",
       "      <td>0</td>\n",
       "    </tr>\n",
       "    <tr>\n",
       "      <th>4</th>\n",
       "      <td>0</td>\n",
       "      <td>0</td>\n",
       "      <td>1</td>\n",
       "      <td>0</td>\n",
       "      <td>0</td>\n",
       "      <td>0</td>\n",
       "      <td>0</td>\n",
       "      <td>0</td>\n",
       "      <td>0</td>\n",
       "      <td>0</td>\n",
       "      <td>...</td>\n",
       "      <td>0</td>\n",
       "      <td>0</td>\n",
       "      <td>0</td>\n",
       "      <td>1</td>\n",
       "      <td>0</td>\n",
       "      <td>1</td>\n",
       "      <td>0</td>\n",
       "      <td>0</td>\n",
       "      <td>0</td>\n",
       "      <td>0</td>\n",
       "    </tr>\n",
       "  </tbody>\n",
       "</table>\n",
       "<p>5 rows × 38 columns</p>\n",
       "</div>"
      ],
      "text/plain": [
       "   APL  Assembly  Bash/Shell  C  C#  C++  COBOL  Clojure  Crystal  Dart  ...  \\\n",
       "0    0         0           0  0   0    1      0        0        0     0  ...   \n",
       "1    0         0           1  0   0    0      0        0        0     0  ...   \n",
       "2    0         0           0  1   0    1      0        0        0     0  ...   \n",
       "3    0         0           0  0   1    0      0        0        0     0  ...   \n",
       "4    0         0           1  0   0    0      0        0        0     0  ...   \n",
       "\n",
       "   PowerShell  Python  R  Ruby  Rust  SQL  Scala  Swift  TypeScript  VBA  \n",
       "0           0       1  0     0     0    0      0      0           0    0  \n",
       "1           0       0  0     0     0    1      0      0           1    0  \n",
       "2           0       0  0     1     0    0      0      0           0    0  \n",
       "3           0       0  0     0     0    0      0      0           0    0  \n",
       "4           0       0  0     1     0    1      0      0           0    0  \n",
       "\n",
       "[5 rows x 38 columns]"
      ]
     },
     "execution_count": 48,
     "metadata": {},
     "output_type": "execute_result"
    }
   ],
   "source": [
    "# Converting an Numpy Array into a pandas dataframe\n",
    "df_multilabel_data = pd.DataFrame(multilabel_encoded_Language , columns=encoded_Language.classes_)\n",
    "# Viewing few rows of data\n",
    "df_multilabel_data.head()"
   ]
  },
  {
   "cell_type": "code",
   "execution_count": 49,
   "metadata": {},
   "outputs": [],
   "source": [
    "y=df[\"Salary\"]"
   ]
  },
  {
   "cell_type": "code",
   "execution_count": 50,
   "metadata": {},
   "outputs": [
    {
     "data": {
      "text/html": [
       "<div>\n",
       "<style scoped>\n",
       "    .dataframe tbody tr th:only-of-type {\n",
       "        vertical-align: middle;\n",
       "    }\n",
       "\n",
       "    .dataframe tbody tr th {\n",
       "        vertical-align: top;\n",
       "    }\n",
       "\n",
       "    .dataframe thead th {\n",
       "        text-align: right;\n",
       "    }\n",
       "</style>\n",
       "<table border=\"1\" class=\"dataframe\">\n",
       "  <thead>\n",
       "    <tr style=\"text-align: right;\">\n",
       "      <th></th>\n",
       "      <th>Country</th>\n",
       "      <th>EdLevel</th>\n",
       "      <th>YearsCodePro</th>\n",
       "      <th>Age</th>\n",
       "      <th>Employment</th>\n",
       "      <th>Age1stCode</th>\n",
       "      <th>SurveyEase</th>\n",
       "      <th>SOComm</th>\n",
       "      <th>OpSys</th>\n",
       "    </tr>\n",
       "  </thead>\n",
       "  <tbody>\n",
       "    <tr>\n",
       "      <th>9</th>\n",
       "      <td>Sweden</td>\n",
       "      <td>Master’s degree</td>\n",
       "      <td>4.0</td>\n",
       "      <td>34.0</td>\n",
       "      <td>Employed full-time</td>\n",
       "      <td>11 - 17 years</td>\n",
       "      <td>Neither easy nor difficult</td>\n",
       "      <td>Yes, somewhat</td>\n",
       "      <td>Linux-based</td>\n",
       "    </tr>\n",
       "    <tr>\n",
       "      <th>11</th>\n",
       "      <td>Spain</td>\n",
       "      <td>Bachelor’s degree</td>\n",
       "      <td>5.0</td>\n",
       "      <td>34.0</td>\n",
       "      <td>Employed full-time</td>\n",
       "      <td>11 - 17 years</td>\n",
       "      <td>Easy</td>\n",
       "      <td>Yes, somewhat</td>\n",
       "      <td>Linux-based</td>\n",
       "    </tr>\n",
       "    <tr>\n",
       "      <th>12</th>\n",
       "      <td>Germany</td>\n",
       "      <td>Master’s degree</td>\n",
       "      <td>6.0</td>\n",
       "      <td>34.0</td>\n",
       "      <td>Employed full-time</td>\n",
       "      <td>11 - 17 years</td>\n",
       "      <td>Easy</td>\n",
       "      <td>Yes, definitely</td>\n",
       "      <td>Linux-based</td>\n",
       "    </tr>\n",
       "    <tr>\n",
       "      <th>16</th>\n",
       "      <td>Turkey</td>\n",
       "      <td>Bachelor’s degree</td>\n",
       "      <td>2.0</td>\n",
       "      <td>34.0</td>\n",
       "      <td>Employed full-time</td>\n",
       "      <td>5 - 10 years</td>\n",
       "      <td>Neither easy nor difficult</td>\n",
       "      <td>Yes, definitely</td>\n",
       "      <td>Windows</td>\n",
       "    </tr>\n",
       "    <tr>\n",
       "      <th>17</th>\n",
       "      <td>Canada</td>\n",
       "      <td>Bachelor’s degree</td>\n",
       "      <td>6.0</td>\n",
       "      <td>34.0</td>\n",
       "      <td>Employed full-time</td>\n",
       "      <td>11 - 17 years</td>\n",
       "      <td>Easy</td>\n",
       "      <td>Yes, definitely</td>\n",
       "      <td>MacOS</td>\n",
       "    </tr>\n",
       "    <tr>\n",
       "      <th>...</th>\n",
       "      <td>...</td>\n",
       "      <td>...</td>\n",
       "      <td>...</td>\n",
       "      <td>...</td>\n",
       "      <td>...</td>\n",
       "      <td>...</td>\n",
       "      <td>...</td>\n",
       "      <td>...</td>\n",
       "      <td>...</td>\n",
       "    </tr>\n",
       "    <tr>\n",
       "      <th>83432</th>\n",
       "      <td>Canada</td>\n",
       "      <td>Bachelor’s degree</td>\n",
       "      <td>0.5</td>\n",
       "      <td>24.0</td>\n",
       "      <td>Employed full-time</td>\n",
       "      <td>18 - 24 years</td>\n",
       "      <td>Easy</td>\n",
       "      <td>No, not really</td>\n",
       "      <td>MacOS</td>\n",
       "    </tr>\n",
       "    <tr>\n",
       "      <th>83433</th>\n",
       "      <td>Brazil</td>\n",
       "      <td>Bachelor’s degree</td>\n",
       "      <td>11.0</td>\n",
       "      <td>34.0</td>\n",
       "      <td>Independent contractor, freelancer, or self-em...</td>\n",
       "      <td>18 - 24 years</td>\n",
       "      <td>Easy</td>\n",
       "      <td>Yes, somewhat</td>\n",
       "      <td>MacOS</td>\n",
       "    </tr>\n",
       "    <tr>\n",
       "      <th>83434</th>\n",
       "      <td>United States of America</td>\n",
       "      <td>Bachelor’s degree</td>\n",
       "      <td>5.0</td>\n",
       "      <td>34.0</td>\n",
       "      <td>Employed full-time</td>\n",
       "      <td>11 - 17 years</td>\n",
       "      <td>Easy</td>\n",
       "      <td>No, not at all</td>\n",
       "      <td>MacOS</td>\n",
       "    </tr>\n",
       "    <tr>\n",
       "      <th>83436</th>\n",
       "      <td>United States of America</td>\n",
       "      <td>less than a Bachelor</td>\n",
       "      <td>4.0</td>\n",
       "      <td>34.0</td>\n",
       "      <td>Employed full-time</td>\n",
       "      <td>11 - 17 years</td>\n",
       "      <td>Neither easy nor difficult</td>\n",
       "      <td>No, not really</td>\n",
       "      <td>Windows</td>\n",
       "    </tr>\n",
       "    <tr>\n",
       "      <th>83438</th>\n",
       "      <td>Brazil</td>\n",
       "      <td>post grad</td>\n",
       "      <td>4.0</td>\n",
       "      <td>24.0</td>\n",
       "      <td>Employed full-time</td>\n",
       "      <td>11 - 17 years</td>\n",
       "      <td>Easy</td>\n",
       "      <td>Yes, somewhat</td>\n",
       "      <td>Linux-based</td>\n",
       "    </tr>\n",
       "  </tbody>\n",
       "</table>\n",
       "<p>29143 rows × 9 columns</p>\n",
       "</div>"
      ],
      "text/plain": [
       "                        Country               EdLevel  YearsCodePro   Age  \\\n",
       "9                        Sweden       Master’s degree           4.0  34.0   \n",
       "11                        Spain     Bachelor’s degree           5.0  34.0   \n",
       "12                      Germany       Master’s degree           6.0  34.0   \n",
       "16                       Turkey     Bachelor’s degree           2.0  34.0   \n",
       "17                       Canada     Bachelor’s degree           6.0  34.0   \n",
       "...                         ...                   ...           ...   ...   \n",
       "83432                    Canada     Bachelor’s degree           0.5  24.0   \n",
       "83433                    Brazil     Bachelor’s degree          11.0  34.0   \n",
       "83434  United States of America     Bachelor’s degree           5.0  34.0   \n",
       "83436  United States of America  less than a Bachelor           4.0  34.0   \n",
       "83438                    Brazil             post grad           4.0  24.0   \n",
       "\n",
       "                                              Employment     Age1stCode  \\\n",
       "9                                     Employed full-time  11 - 17 years   \n",
       "11                                    Employed full-time  11 - 17 years   \n",
       "12                                    Employed full-time  11 - 17 years   \n",
       "16                                    Employed full-time   5 - 10 years   \n",
       "17                                    Employed full-time  11 - 17 years   \n",
       "...                                                  ...            ...   \n",
       "83432                                 Employed full-time  18 - 24 years   \n",
       "83433  Independent contractor, freelancer, or self-em...  18 - 24 years   \n",
       "83434                                 Employed full-time  11 - 17 years   \n",
       "83436                                 Employed full-time  11 - 17 years   \n",
       "83438                                 Employed full-time  11 - 17 years   \n",
       "\n",
       "                       SurveyEase           SOComm        OpSys  \n",
       "9      Neither easy nor difficult    Yes, somewhat  Linux-based  \n",
       "11                           Easy    Yes, somewhat  Linux-based  \n",
       "12                           Easy  Yes, definitely  Linux-based  \n",
       "16     Neither easy nor difficult  Yes, definitely      Windows  \n",
       "17                           Easy  Yes, definitely        MacOS  \n",
       "...                           ...              ...          ...  \n",
       "83432                        Easy   No, not really        MacOS  \n",
       "83433                        Easy    Yes, somewhat        MacOS  \n",
       "83434                        Easy   No, not at all        MacOS  \n",
       "83436  Neither easy nor difficult   No, not really      Windows  \n",
       "83438                        Easy    Yes, somewhat  Linux-based  \n",
       "\n",
       "[29143 rows x 9 columns]"
      ]
     },
     "execution_count": 50,
     "metadata": {},
     "output_type": "execute_result"
    }
   ],
   "source": [
    "df.drop(columns=['Salary',\"LanguageHaveWorkedWith\"], inplace=True)\n",
    "df"
   ]
  },
  {
   "cell_type": "code",
   "execution_count": 51,
   "metadata": {},
   "outputs": [],
   "source": [
    "df[encoded_Language.classes_] = multilabel_encoded_Language"
   ]
  },
  {
   "cell_type": "code",
   "execution_count": 52,
   "metadata": {},
   "outputs": [
    {
     "data": {
      "text/html": [
       "<div>\n",
       "<style scoped>\n",
       "    .dataframe tbody tr th:only-of-type {\n",
       "        vertical-align: middle;\n",
       "    }\n",
       "\n",
       "    .dataframe tbody tr th {\n",
       "        vertical-align: top;\n",
       "    }\n",
       "\n",
       "    .dataframe thead th {\n",
       "        text-align: right;\n",
       "    }\n",
       "</style>\n",
       "<table border=\"1\" class=\"dataframe\">\n",
       "  <thead>\n",
       "    <tr style=\"text-align: right;\">\n",
       "      <th></th>\n",
       "      <th>Country</th>\n",
       "      <th>EdLevel</th>\n",
       "      <th>YearsCodePro</th>\n",
       "      <th>Age</th>\n",
       "      <th>Employment</th>\n",
       "      <th>Age1stCode</th>\n",
       "      <th>SurveyEase</th>\n",
       "      <th>SOComm</th>\n",
       "      <th>OpSys</th>\n",
       "      <th>APL</th>\n",
       "      <th>...</th>\n",
       "      <th>Python</th>\n",
       "      <th>R</th>\n",
       "      <th>Ruby</th>\n",
       "      <th>Rust</th>\n",
       "      <th>SQL</th>\n",
       "      <th>Scala</th>\n",
       "      <th>Swift</th>\n",
       "      <th>TypeScript</th>\n",
       "      <th>VBA</th>\n",
       "      <th>Salary</th>\n",
       "    </tr>\n",
       "  </thead>\n",
       "  <tbody>\n",
       "    <tr>\n",
       "      <th>9</th>\n",
       "      <td>Sweden</td>\n",
       "      <td>Master’s degree</td>\n",
       "      <td>4.0</td>\n",
       "      <td>34.0</td>\n",
       "      <td>Employed full-time</td>\n",
       "      <td>11 - 17 years</td>\n",
       "      <td>Neither easy nor difficult</td>\n",
       "      <td>Yes, somewhat</td>\n",
       "      <td>Linux-based</td>\n",
       "      <td>0</td>\n",
       "      <td>...</td>\n",
       "      <td>1</td>\n",
       "      <td>0</td>\n",
       "      <td>0</td>\n",
       "      <td>0</td>\n",
       "      <td>0</td>\n",
       "      <td>0</td>\n",
       "      <td>0</td>\n",
       "      <td>0</td>\n",
       "      <td>0</td>\n",
       "      <td>51552.0</td>\n",
       "    </tr>\n",
       "    <tr>\n",
       "      <th>11</th>\n",
       "      <td>Spain</td>\n",
       "      <td>Bachelor’s degree</td>\n",
       "      <td>5.0</td>\n",
       "      <td>34.0</td>\n",
       "      <td>Employed full-time</td>\n",
       "      <td>11 - 17 years</td>\n",
       "      <td>Easy</td>\n",
       "      <td>Yes, somewhat</td>\n",
       "      <td>Linux-based</td>\n",
       "      <td>0</td>\n",
       "      <td>...</td>\n",
       "      <td>0</td>\n",
       "      <td>0</td>\n",
       "      <td>0</td>\n",
       "      <td>0</td>\n",
       "      <td>1</td>\n",
       "      <td>0</td>\n",
       "      <td>0</td>\n",
       "      <td>1</td>\n",
       "      <td>0</td>\n",
       "      <td>46482.0</td>\n",
       "    </tr>\n",
       "    <tr>\n",
       "      <th>12</th>\n",
       "      <td>Germany</td>\n",
       "      <td>Master’s degree</td>\n",
       "      <td>6.0</td>\n",
       "      <td>34.0</td>\n",
       "      <td>Employed full-time</td>\n",
       "      <td>11 - 17 years</td>\n",
       "      <td>Easy</td>\n",
       "      <td>Yes, definitely</td>\n",
       "      <td>Linux-based</td>\n",
       "      <td>0</td>\n",
       "      <td>...</td>\n",
       "      <td>0</td>\n",
       "      <td>0</td>\n",
       "      <td>1</td>\n",
       "      <td>0</td>\n",
       "      <td>0</td>\n",
       "      <td>0</td>\n",
       "      <td>0</td>\n",
       "      <td>0</td>\n",
       "      <td>0</td>\n",
       "      <td>77290.0</td>\n",
       "    </tr>\n",
       "    <tr>\n",
       "      <th>16</th>\n",
       "      <td>Turkey</td>\n",
       "      <td>Bachelor’s degree</td>\n",
       "      <td>2.0</td>\n",
       "      <td>34.0</td>\n",
       "      <td>Employed full-time</td>\n",
       "      <td>5 - 10 years</td>\n",
       "      <td>Neither easy nor difficult</td>\n",
       "      <td>Yes, definitely</td>\n",
       "      <td>Windows</td>\n",
       "      <td>0</td>\n",
       "      <td>...</td>\n",
       "      <td>0</td>\n",
       "      <td>0</td>\n",
       "      <td>0</td>\n",
       "      <td>0</td>\n",
       "      <td>0</td>\n",
       "      <td>0</td>\n",
       "      <td>0</td>\n",
       "      <td>0</td>\n",
       "      <td>0</td>\n",
       "      <td>17748.0</td>\n",
       "    </tr>\n",
       "    <tr>\n",
       "      <th>17</th>\n",
       "      <td>Canada</td>\n",
       "      <td>Bachelor’s degree</td>\n",
       "      <td>6.0</td>\n",
       "      <td>34.0</td>\n",
       "      <td>Employed full-time</td>\n",
       "      <td>11 - 17 years</td>\n",
       "      <td>Easy</td>\n",
       "      <td>Yes, definitely</td>\n",
       "      <td>MacOS</td>\n",
       "      <td>0</td>\n",
       "      <td>...</td>\n",
       "      <td>0</td>\n",
       "      <td>0</td>\n",
       "      <td>1</td>\n",
       "      <td>0</td>\n",
       "      <td>1</td>\n",
       "      <td>0</td>\n",
       "      <td>0</td>\n",
       "      <td>0</td>\n",
       "      <td>0</td>\n",
       "      <td>46135.0</td>\n",
       "    </tr>\n",
       "    <tr>\n",
       "      <th>...</th>\n",
       "      <td>...</td>\n",
       "      <td>...</td>\n",
       "      <td>...</td>\n",
       "      <td>...</td>\n",
       "      <td>...</td>\n",
       "      <td>...</td>\n",
       "      <td>...</td>\n",
       "      <td>...</td>\n",
       "      <td>...</td>\n",
       "      <td>...</td>\n",
       "      <td>...</td>\n",
       "      <td>...</td>\n",
       "      <td>...</td>\n",
       "      <td>...</td>\n",
       "      <td>...</td>\n",
       "      <td>...</td>\n",
       "      <td>...</td>\n",
       "      <td>...</td>\n",
       "      <td>...</td>\n",
       "      <td>...</td>\n",
       "      <td>...</td>\n",
       "    </tr>\n",
       "    <tr>\n",
       "      <th>83432</th>\n",
       "      <td>Canada</td>\n",
       "      <td>Bachelor’s degree</td>\n",
       "      <td>0.5</td>\n",
       "      <td>24.0</td>\n",
       "      <td>Employed full-time</td>\n",
       "      <td>18 - 24 years</td>\n",
       "      <td>Easy</td>\n",
       "      <td>No, not really</td>\n",
       "      <td>MacOS</td>\n",
       "      <td>0</td>\n",
       "      <td>...</td>\n",
       "      <td>0</td>\n",
       "      <td>0</td>\n",
       "      <td>1</td>\n",
       "      <td>0</td>\n",
       "      <td>0</td>\n",
       "      <td>0</td>\n",
       "      <td>0</td>\n",
       "      <td>0</td>\n",
       "      <td>0</td>\n",
       "      <td>80169.0</td>\n",
       "    </tr>\n",
       "    <tr>\n",
       "      <th>83433</th>\n",
       "      <td>Brazil</td>\n",
       "      <td>Bachelor’s degree</td>\n",
       "      <td>11.0</td>\n",
       "      <td>34.0</td>\n",
       "      <td>Independent contractor, freelancer, or self-em...</td>\n",
       "      <td>18 - 24 years</td>\n",
       "      <td>Easy</td>\n",
       "      <td>Yes, somewhat</td>\n",
       "      <td>MacOS</td>\n",
       "      <td>0</td>\n",
       "      <td>...</td>\n",
       "      <td>0</td>\n",
       "      <td>0</td>\n",
       "      <td>0</td>\n",
       "      <td>0</td>\n",
       "      <td>0</td>\n",
       "      <td>0</td>\n",
       "      <td>0</td>\n",
       "      <td>1</td>\n",
       "      <td>0</td>\n",
       "      <td>18326.0</td>\n",
       "    </tr>\n",
       "    <tr>\n",
       "      <th>83434</th>\n",
       "      <td>United States of America</td>\n",
       "      <td>Bachelor’s degree</td>\n",
       "      <td>5.0</td>\n",
       "      <td>34.0</td>\n",
       "      <td>Employed full-time</td>\n",
       "      <td>11 - 17 years</td>\n",
       "      <td>Easy</td>\n",
       "      <td>No, not at all</td>\n",
       "      <td>MacOS</td>\n",
       "      <td>0</td>\n",
       "      <td>...</td>\n",
       "      <td>0</td>\n",
       "      <td>0</td>\n",
       "      <td>0</td>\n",
       "      <td>0</td>\n",
       "      <td>1</td>\n",
       "      <td>0</td>\n",
       "      <td>0</td>\n",
       "      <td>0</td>\n",
       "      <td>0</td>\n",
       "      <td>160500.0</td>\n",
       "    </tr>\n",
       "    <tr>\n",
       "      <th>83436</th>\n",
       "      <td>United States of America</td>\n",
       "      <td>less than a Bachelor</td>\n",
       "      <td>4.0</td>\n",
       "      <td>34.0</td>\n",
       "      <td>Employed full-time</td>\n",
       "      <td>11 - 17 years</td>\n",
       "      <td>Neither easy nor difficult</td>\n",
       "      <td>No, not really</td>\n",
       "      <td>Windows</td>\n",
       "      <td>0</td>\n",
       "      <td>...</td>\n",
       "      <td>1</td>\n",
       "      <td>0</td>\n",
       "      <td>0</td>\n",
       "      <td>0</td>\n",
       "      <td>0</td>\n",
       "      <td>0</td>\n",
       "      <td>0</td>\n",
       "      <td>0</td>\n",
       "      <td>0</td>\n",
       "      <td>90000.0</td>\n",
       "    </tr>\n",
       "    <tr>\n",
       "      <th>83438</th>\n",
       "      <td>Brazil</td>\n",
       "      <td>post grad</td>\n",
       "      <td>4.0</td>\n",
       "      <td>24.0</td>\n",
       "      <td>Employed full-time</td>\n",
       "      <td>11 - 17 years</td>\n",
       "      <td>Easy</td>\n",
       "      <td>Yes, somewhat</td>\n",
       "      <td>Linux-based</td>\n",
       "      <td>0</td>\n",
       "      <td>...</td>\n",
       "      <td>0</td>\n",
       "      <td>0</td>\n",
       "      <td>0</td>\n",
       "      <td>0</td>\n",
       "      <td>0</td>\n",
       "      <td>0</td>\n",
       "      <td>0</td>\n",
       "      <td>0</td>\n",
       "      <td>0</td>\n",
       "      <td>21168.0</td>\n",
       "    </tr>\n",
       "  </tbody>\n",
       "</table>\n",
       "<p>29143 rows × 48 columns</p>\n",
       "</div>"
      ],
      "text/plain": [
       "                        Country               EdLevel  YearsCodePro   Age  \\\n",
       "9                        Sweden       Master’s degree           4.0  34.0   \n",
       "11                        Spain     Bachelor’s degree           5.0  34.0   \n",
       "12                      Germany       Master’s degree           6.0  34.0   \n",
       "16                       Turkey     Bachelor’s degree           2.0  34.0   \n",
       "17                       Canada     Bachelor’s degree           6.0  34.0   \n",
       "...                         ...                   ...           ...   ...   \n",
       "83432                    Canada     Bachelor’s degree           0.5  24.0   \n",
       "83433                    Brazil     Bachelor’s degree          11.0  34.0   \n",
       "83434  United States of America     Bachelor’s degree           5.0  34.0   \n",
       "83436  United States of America  less than a Bachelor           4.0  34.0   \n",
       "83438                    Brazil             post grad           4.0  24.0   \n",
       "\n",
       "                                              Employment     Age1stCode  \\\n",
       "9                                     Employed full-time  11 - 17 years   \n",
       "11                                    Employed full-time  11 - 17 years   \n",
       "12                                    Employed full-time  11 - 17 years   \n",
       "16                                    Employed full-time   5 - 10 years   \n",
       "17                                    Employed full-time  11 - 17 years   \n",
       "...                                                  ...            ...   \n",
       "83432                                 Employed full-time  18 - 24 years   \n",
       "83433  Independent contractor, freelancer, or self-em...  18 - 24 years   \n",
       "83434                                 Employed full-time  11 - 17 years   \n",
       "83436                                 Employed full-time  11 - 17 years   \n",
       "83438                                 Employed full-time  11 - 17 years   \n",
       "\n",
       "                       SurveyEase           SOComm        OpSys  APL  ...  \\\n",
       "9      Neither easy nor difficult    Yes, somewhat  Linux-based    0  ...   \n",
       "11                           Easy    Yes, somewhat  Linux-based    0  ...   \n",
       "12                           Easy  Yes, definitely  Linux-based    0  ...   \n",
       "16     Neither easy nor difficult  Yes, definitely      Windows    0  ...   \n",
       "17                           Easy  Yes, definitely        MacOS    0  ...   \n",
       "...                           ...              ...          ...  ...  ...   \n",
       "83432                        Easy   No, not really        MacOS    0  ...   \n",
       "83433                        Easy    Yes, somewhat        MacOS    0  ...   \n",
       "83434                        Easy   No, not at all        MacOS    0  ...   \n",
       "83436  Neither easy nor difficult   No, not really      Windows    0  ...   \n",
       "83438                        Easy    Yes, somewhat  Linux-based    0  ...   \n",
       "\n",
       "       Python  R  Ruby  Rust  SQL  Scala  Swift  TypeScript  VBA    Salary  \n",
       "9           1  0     0     0    0      0      0           0    0   51552.0  \n",
       "11          0  0     0     0    1      0      0           1    0   46482.0  \n",
       "12          0  0     1     0    0      0      0           0    0   77290.0  \n",
       "16          0  0     0     0    0      0      0           0    0   17748.0  \n",
       "17          0  0     1     0    1      0      0           0    0   46135.0  \n",
       "...       ... ..   ...   ...  ...    ...    ...         ...  ...       ...  \n",
       "83432       0  0     1     0    0      0      0           0    0   80169.0  \n",
       "83433       0  0     0     0    0      0      0           1    0   18326.0  \n",
       "83434       0  0     0     0    1      0      0           0    0  160500.0  \n",
       "83436       1  0     0     0    0      0      0           0    0   90000.0  \n",
       "83438       0  0     0     0    0      0      0           0    0   21168.0  \n",
       "\n",
       "[29143 rows x 48 columns]"
      ]
     },
     "execution_count": 52,
     "metadata": {},
     "output_type": "execute_result"
    }
   ],
   "source": [
    "df[\"Salary\"]=y\n",
    "df"
   ]
  },
  {
   "cell_type": "code",
   "execution_count": 53,
   "metadata": {},
   "outputs": [
    {
     "data": {
      "text/plain": [
       "False    29143\n",
       "Name: Age, dtype: int64"
      ]
     },
     "execution_count": 53,
     "metadata": {},
     "output_type": "execute_result"
    }
   ],
   "source": [
    "df['Age'].isnull().value_counts()"
   ]
  },
  {
   "cell_type": "code",
   "execution_count": 54,
   "metadata": {},
   "outputs": [
    {
     "data": {
      "text/plain": [
       "9        34.0\n",
       "11       34.0\n",
       "12       34.0\n",
       "16       34.0\n",
       "17       34.0\n",
       "         ... \n",
       "83432    24.0\n",
       "83433    34.0\n",
       "83434    34.0\n",
       "83436    34.0\n",
       "83438    24.0\n",
       "Name: Age, Length: 29143, dtype: float64"
      ]
     },
     "execution_count": 54,
     "metadata": {},
     "output_type": "execute_result"
    }
   ],
   "source": [
    "df['Age'].replace(np.NaN,df['Age'].mean())"
   ]
  },
  {
   "cell_type": "code",
   "execution_count": 55,
   "metadata": {},
   "outputs": [
    {
     "data": {
      "text/plain": [
       "array(['11 - 17 years', '5 - 10 years', '25 - 34 years', '18 - 24 years',\n",
       "       '35 - 44 years', 'Younger than 5 years', '45 - 54 years',\n",
       "       '55 - 64 years', 'Older than 64 years'], dtype=object)"
      ]
     },
     "execution_count": 55,
     "metadata": {},
     "output_type": "execute_result"
    }
   ],
   "source": [
    "df['Age1stCode'].unique()"
   ]
  },
  {
   "cell_type": "code",
   "execution_count": 56,
   "metadata": {},
   "outputs": [],
   "source": [
    "def clean_age1st(x):\n",
    "    if \"64\" in x:\n",
    "        return 64\n",
    "    elif '5' in x:\n",
    "        return 5\n",
    "    elif '11 - 17' in x:\n",
    "        return 17\n",
    "    elif '5 - 10' in x:\n",
    "        return 10\n",
    "    elif '25 - 34' in x:\n",
    "        return 34\n",
    "    elif '18 - 24' in x:\n",
    "        return 24\n",
    "    elif '35 - 44' in x:\n",
    "        return 44\n",
    "    elif '45 - 54' in x:\n",
    "        return 54\n",
    "    elif '55 - 64' in x:\n",
    "        return 64\n",
    "df['Age1stCode']=df['Age1stCode'].apply(clean_age1st)"
   ]
  },
  {
   "cell_type": "code",
   "execution_count": 57,
   "metadata": {},
   "outputs": [
    {
     "data": {
      "text/plain": [
       "array(['Neither easy nor difficult', 'Easy', 'Difficult'], dtype=object)"
      ]
     },
     "execution_count": 57,
     "metadata": {},
     "output_type": "execute_result"
    }
   ],
   "source": [
    "df['SurveyEase'].unique()"
   ]
  },
  {
   "cell_type": "code",
   "execution_count": 58,
   "metadata": {},
   "outputs": [
    {
     "data": {
      "text/plain": [
       "array([0, 1, 3, 2, 4])"
      ]
     },
     "execution_count": 58,
     "metadata": {},
     "output_type": "execute_result"
    }
   ],
   "source": [
    "from sklearn.preprocessing import LabelEncoder\n",
    "le_Employment = LabelEncoder()\n",
    "df['Employment'] = le_Employment.fit_transform(df['Employment'])\n",
    "df[\"Employment\"].unique()"
   ]
  },
  {
   "cell_type": "code",
   "execution_count": 59,
   "metadata": {},
   "outputs": [
    {
     "data": {
      "text/plain": [
       "array([1, 0, 3, 2])"
      ]
     },
     "execution_count": 59,
     "metadata": {},
     "output_type": "execute_result"
    }
   ],
   "source": [
    "le_education = LabelEncoder()\n",
    "df['EdLevel'] = le_education.fit_transform(df['EdLevel'])\n",
    "df[\"EdLevel\"].unique()"
   ]
  },
  {
   "cell_type": "code",
   "execution_count": 60,
   "metadata": {},
   "outputs": [
    {
     "data": {
      "text/plain": [
       "array([12, 11,  4, 14,  2,  3, 13, 16, 10,  6, 15, 17,  1,  7,  8,  9,  0,\n",
       "        5])"
      ]
     },
     "execution_count": 60,
     "metadata": {},
     "output_type": "execute_result"
    }
   ],
   "source": [
    "le_country = LabelEncoder()\n",
    "df['Country'] = le_country.fit_transform(df['Country'])\n",
    "df[\"Country\"].unique()"
   ]
  },
  {
   "cell_type": "code",
   "execution_count": 61,
   "metadata": {},
   "outputs": [
    {
     "data": {
      "text/plain": [
       "array([2, 1, 0])"
      ]
     },
     "execution_count": 61,
     "metadata": {},
     "output_type": "execute_result"
    }
   ],
   "source": [
    "le_surveyease = LabelEncoder()\n",
    "df['SurveyEase'] = le_surveyease.fit_transform(df['SurveyEase'])\n",
    "df[\"SurveyEase\"].unique()"
   ]
  },
  {
   "cell_type": "code",
   "execution_count": 62,
   "metadata": {},
   "outputs": [
    {
     "data": {
      "text/plain": [
       "array([5, 4, 0, 2, 1, 3])"
      ]
     },
     "execution_count": 62,
     "metadata": {},
     "output_type": "execute_result"
    }
   ],
   "source": [
    "le_so = LabelEncoder()\n",
    "df['SOComm'] = le_so.fit_transform(df['SOComm'])\n",
    "df[\"SOComm\"].unique()"
   ]
  },
  {
   "cell_type": "code",
   "execution_count": 63,
   "metadata": {},
   "outputs": [
    {
     "data": {
      "text/plain": [
       "array([1, 4, 2, 3, 0, 5])"
      ]
     },
     "execution_count": 63,
     "metadata": {},
     "output_type": "execute_result"
    }
   ],
   "source": [
    "le_OpSys = LabelEncoder()\n",
    "df['OpSys'] = le_OpSys.fit_transform(df['OpSys'])\n",
    "df[\"OpSys\"].unique()"
   ]
  },
  {
   "cell_type": "code",
   "execution_count": 64,
   "metadata": {},
   "outputs": [
    {
     "data": {
      "text/html": [
       "<div>\n",
       "<style scoped>\n",
       "    .dataframe tbody tr th:only-of-type {\n",
       "        vertical-align: middle;\n",
       "    }\n",
       "\n",
       "    .dataframe tbody tr th {\n",
       "        vertical-align: top;\n",
       "    }\n",
       "\n",
       "    .dataframe thead th {\n",
       "        text-align: right;\n",
       "    }\n",
       "</style>\n",
       "<table border=\"1\" class=\"dataframe\">\n",
       "  <thead>\n",
       "    <tr style=\"text-align: right;\">\n",
       "      <th></th>\n",
       "      <th>Country</th>\n",
       "      <th>EdLevel</th>\n",
       "      <th>YearsCodePro</th>\n",
       "      <th>Age</th>\n",
       "      <th>Employment</th>\n",
       "      <th>Age1stCode</th>\n",
       "      <th>SurveyEase</th>\n",
       "      <th>SOComm</th>\n",
       "      <th>OpSys</th>\n",
       "      <th>APL</th>\n",
       "      <th>...</th>\n",
       "      <th>Python</th>\n",
       "      <th>R</th>\n",
       "      <th>Ruby</th>\n",
       "      <th>Rust</th>\n",
       "      <th>SQL</th>\n",
       "      <th>Scala</th>\n",
       "      <th>Swift</th>\n",
       "      <th>TypeScript</th>\n",
       "      <th>VBA</th>\n",
       "      <th>Salary</th>\n",
       "    </tr>\n",
       "  </thead>\n",
       "  <tbody>\n",
       "    <tr>\n",
       "      <th>9</th>\n",
       "      <td>12</td>\n",
       "      <td>1</td>\n",
       "      <td>4.0</td>\n",
       "      <td>34.0</td>\n",
       "      <td>0</td>\n",
       "      <td>17</td>\n",
       "      <td>2</td>\n",
       "      <td>5</td>\n",
       "      <td>1</td>\n",
       "      <td>0</td>\n",
       "      <td>...</td>\n",
       "      <td>1</td>\n",
       "      <td>0</td>\n",
       "      <td>0</td>\n",
       "      <td>0</td>\n",
       "      <td>0</td>\n",
       "      <td>0</td>\n",
       "      <td>0</td>\n",
       "      <td>0</td>\n",
       "      <td>0</td>\n",
       "      <td>51552.0</td>\n",
       "    </tr>\n",
       "    <tr>\n",
       "      <th>11</th>\n",
       "      <td>11</td>\n",
       "      <td>0</td>\n",
       "      <td>5.0</td>\n",
       "      <td>34.0</td>\n",
       "      <td>0</td>\n",
       "      <td>17</td>\n",
       "      <td>1</td>\n",
       "      <td>5</td>\n",
       "      <td>1</td>\n",
       "      <td>0</td>\n",
       "      <td>...</td>\n",
       "      <td>0</td>\n",
       "      <td>0</td>\n",
       "      <td>0</td>\n",
       "      <td>0</td>\n",
       "      <td>1</td>\n",
       "      <td>0</td>\n",
       "      <td>0</td>\n",
       "      <td>1</td>\n",
       "      <td>0</td>\n",
       "      <td>46482.0</td>\n",
       "    </tr>\n",
       "    <tr>\n",
       "      <th>12</th>\n",
       "      <td>4</td>\n",
       "      <td>1</td>\n",
       "      <td>6.0</td>\n",
       "      <td>34.0</td>\n",
       "      <td>0</td>\n",
       "      <td>17</td>\n",
       "      <td>1</td>\n",
       "      <td>4</td>\n",
       "      <td>1</td>\n",
       "      <td>0</td>\n",
       "      <td>...</td>\n",
       "      <td>0</td>\n",
       "      <td>0</td>\n",
       "      <td>1</td>\n",
       "      <td>0</td>\n",
       "      <td>0</td>\n",
       "      <td>0</td>\n",
       "      <td>0</td>\n",
       "      <td>0</td>\n",
       "      <td>0</td>\n",
       "      <td>77290.0</td>\n",
       "    </tr>\n",
       "    <tr>\n",
       "      <th>16</th>\n",
       "      <td>14</td>\n",
       "      <td>0</td>\n",
       "      <td>2.0</td>\n",
       "      <td>34.0</td>\n",
       "      <td>0</td>\n",
       "      <td>5</td>\n",
       "      <td>2</td>\n",
       "      <td>4</td>\n",
       "      <td>4</td>\n",
       "      <td>0</td>\n",
       "      <td>...</td>\n",
       "      <td>0</td>\n",
       "      <td>0</td>\n",
       "      <td>0</td>\n",
       "      <td>0</td>\n",
       "      <td>0</td>\n",
       "      <td>0</td>\n",
       "      <td>0</td>\n",
       "      <td>0</td>\n",
       "      <td>0</td>\n",
       "      <td>17748.0</td>\n",
       "    </tr>\n",
       "    <tr>\n",
       "      <th>17</th>\n",
       "      <td>2</td>\n",
       "      <td>0</td>\n",
       "      <td>6.0</td>\n",
       "      <td>34.0</td>\n",
       "      <td>0</td>\n",
       "      <td>17</td>\n",
       "      <td>1</td>\n",
       "      <td>4</td>\n",
       "      <td>2</td>\n",
       "      <td>0</td>\n",
       "      <td>...</td>\n",
       "      <td>0</td>\n",
       "      <td>0</td>\n",
       "      <td>1</td>\n",
       "      <td>0</td>\n",
       "      <td>1</td>\n",
       "      <td>0</td>\n",
       "      <td>0</td>\n",
       "      <td>0</td>\n",
       "      <td>0</td>\n",
       "      <td>46135.0</td>\n",
       "    </tr>\n",
       "    <tr>\n",
       "      <th>...</th>\n",
       "      <td>...</td>\n",
       "      <td>...</td>\n",
       "      <td>...</td>\n",
       "      <td>...</td>\n",
       "      <td>...</td>\n",
       "      <td>...</td>\n",
       "      <td>...</td>\n",
       "      <td>...</td>\n",
       "      <td>...</td>\n",
       "      <td>...</td>\n",
       "      <td>...</td>\n",
       "      <td>...</td>\n",
       "      <td>...</td>\n",
       "      <td>...</td>\n",
       "      <td>...</td>\n",
       "      <td>...</td>\n",
       "      <td>...</td>\n",
       "      <td>...</td>\n",
       "      <td>...</td>\n",
       "      <td>...</td>\n",
       "      <td>...</td>\n",
       "    </tr>\n",
       "    <tr>\n",
       "      <th>83432</th>\n",
       "      <td>2</td>\n",
       "      <td>0</td>\n",
       "      <td>0.5</td>\n",
       "      <td>24.0</td>\n",
       "      <td>0</td>\n",
       "      <td>24</td>\n",
       "      <td>1</td>\n",
       "      <td>2</td>\n",
       "      <td>2</td>\n",
       "      <td>0</td>\n",
       "      <td>...</td>\n",
       "      <td>0</td>\n",
       "      <td>0</td>\n",
       "      <td>1</td>\n",
       "      <td>0</td>\n",
       "      <td>0</td>\n",
       "      <td>0</td>\n",
       "      <td>0</td>\n",
       "      <td>0</td>\n",
       "      <td>0</td>\n",
       "      <td>80169.0</td>\n",
       "    </tr>\n",
       "    <tr>\n",
       "      <th>83433</th>\n",
       "      <td>1</td>\n",
       "      <td>0</td>\n",
       "      <td>11.0</td>\n",
       "      <td>34.0</td>\n",
       "      <td>3</td>\n",
       "      <td>24</td>\n",
       "      <td>1</td>\n",
       "      <td>5</td>\n",
       "      <td>2</td>\n",
       "      <td>0</td>\n",
       "      <td>...</td>\n",
       "      <td>0</td>\n",
       "      <td>0</td>\n",
       "      <td>0</td>\n",
       "      <td>0</td>\n",
       "      <td>0</td>\n",
       "      <td>0</td>\n",
       "      <td>0</td>\n",
       "      <td>1</td>\n",
       "      <td>0</td>\n",
       "      <td>18326.0</td>\n",
       "    </tr>\n",
       "    <tr>\n",
       "      <th>83434</th>\n",
       "      <td>17</td>\n",
       "      <td>0</td>\n",
       "      <td>5.0</td>\n",
       "      <td>34.0</td>\n",
       "      <td>0</td>\n",
       "      <td>17</td>\n",
       "      <td>1</td>\n",
       "      <td>1</td>\n",
       "      <td>2</td>\n",
       "      <td>0</td>\n",
       "      <td>...</td>\n",
       "      <td>0</td>\n",
       "      <td>0</td>\n",
       "      <td>0</td>\n",
       "      <td>0</td>\n",
       "      <td>1</td>\n",
       "      <td>0</td>\n",
       "      <td>0</td>\n",
       "      <td>0</td>\n",
       "      <td>0</td>\n",
       "      <td>160500.0</td>\n",
       "    </tr>\n",
       "    <tr>\n",
       "      <th>83436</th>\n",
       "      <td>17</td>\n",
       "      <td>2</td>\n",
       "      <td>4.0</td>\n",
       "      <td>34.0</td>\n",
       "      <td>0</td>\n",
       "      <td>17</td>\n",
       "      <td>2</td>\n",
       "      <td>2</td>\n",
       "      <td>4</td>\n",
       "      <td>0</td>\n",
       "      <td>...</td>\n",
       "      <td>1</td>\n",
       "      <td>0</td>\n",
       "      <td>0</td>\n",
       "      <td>0</td>\n",
       "      <td>0</td>\n",
       "      <td>0</td>\n",
       "      <td>0</td>\n",
       "      <td>0</td>\n",
       "      <td>0</td>\n",
       "      <td>90000.0</td>\n",
       "    </tr>\n",
       "    <tr>\n",
       "      <th>83438</th>\n",
       "      <td>1</td>\n",
       "      <td>3</td>\n",
       "      <td>4.0</td>\n",
       "      <td>24.0</td>\n",
       "      <td>0</td>\n",
       "      <td>17</td>\n",
       "      <td>1</td>\n",
       "      <td>5</td>\n",
       "      <td>1</td>\n",
       "      <td>0</td>\n",
       "      <td>...</td>\n",
       "      <td>0</td>\n",
       "      <td>0</td>\n",
       "      <td>0</td>\n",
       "      <td>0</td>\n",
       "      <td>0</td>\n",
       "      <td>0</td>\n",
       "      <td>0</td>\n",
       "      <td>0</td>\n",
       "      <td>0</td>\n",
       "      <td>21168.0</td>\n",
       "    </tr>\n",
       "  </tbody>\n",
       "</table>\n",
       "<p>29143 rows × 48 columns</p>\n",
       "</div>"
      ],
      "text/plain": [
       "       Country  EdLevel  YearsCodePro   Age  Employment  Age1stCode  \\\n",
       "9           12        1           4.0  34.0           0          17   \n",
       "11          11        0           5.0  34.0           0          17   \n",
       "12           4        1           6.0  34.0           0          17   \n",
       "16          14        0           2.0  34.0           0           5   \n",
       "17           2        0           6.0  34.0           0          17   \n",
       "...        ...      ...           ...   ...         ...         ...   \n",
       "83432        2        0           0.5  24.0           0          24   \n",
       "83433        1        0          11.0  34.0           3          24   \n",
       "83434       17        0           5.0  34.0           0          17   \n",
       "83436       17        2           4.0  34.0           0          17   \n",
       "83438        1        3           4.0  24.0           0          17   \n",
       "\n",
       "       SurveyEase  SOComm  OpSys  APL  ...  Python  R  Ruby  Rust  SQL  Scala  \\\n",
       "9               2       5      1    0  ...       1  0     0     0    0      0   \n",
       "11              1       5      1    0  ...       0  0     0     0    1      0   \n",
       "12              1       4      1    0  ...       0  0     1     0    0      0   \n",
       "16              2       4      4    0  ...       0  0     0     0    0      0   \n",
       "17              1       4      2    0  ...       0  0     1     0    1      0   \n",
       "...           ...     ...    ...  ...  ...     ... ..   ...   ...  ...    ...   \n",
       "83432           1       2      2    0  ...       0  0     1     0    0      0   \n",
       "83433           1       5      2    0  ...       0  0     0     0    0      0   \n",
       "83434           1       1      2    0  ...       0  0     0     0    1      0   \n",
       "83436           2       2      4    0  ...       1  0     0     0    0      0   \n",
       "83438           1       5      1    0  ...       0  0     0     0    0      0   \n",
       "\n",
       "       Swift  TypeScript  VBA    Salary  \n",
       "9          0           0    0   51552.0  \n",
       "11         0           1    0   46482.0  \n",
       "12         0           0    0   77290.0  \n",
       "16         0           0    0   17748.0  \n",
       "17         0           0    0   46135.0  \n",
       "...      ...         ...  ...       ...  \n",
       "83432      0           0    0   80169.0  \n",
       "83433      0           1    0   18326.0  \n",
       "83434      0           0    0  160500.0  \n",
       "83436      0           0    0   90000.0  \n",
       "83438      0           0    0   21168.0  \n",
       "\n",
       "[29143 rows x 48 columns]"
      ]
     },
     "execution_count": 64,
     "metadata": {},
     "output_type": "execute_result"
    }
   ],
   "source": [
    "df"
   ]
  },
  {
   "cell_type": "code",
   "execution_count": 65,
   "metadata": {},
   "outputs": [],
   "source": [
    "x=df.drop('Salary',axis=1)\n",
    "y=df['Salary']"
   ]
  },
  {
   "cell_type": "code",
   "execution_count": 66,
   "metadata": {},
   "outputs": [
    {
     "data": {
      "text/plain": [
       "<seaborn.axisgrid.JointGrid at 0x1f0f6e28400>"
      ]
     },
     "execution_count": 66,
     "metadata": {},
     "output_type": "execute_result"
    },
    {
     "data": {
      "image/png": "[encoded data removed]",
      "text/plain": [
       "<Figure size 432x432 with 3 Axes>"
      ]
     },
     "metadata": {
      "needs_background": "light"
     },
     "output_type": "display_data"
    }
   ],
   "source": [
    "sns.jointplot(x='Age1stCode',y='Salary',data=df)"
   ]
  },
  {
   "cell_type": "code",
   "execution_count": 67,
   "metadata": {},
   "outputs": [
    {
     "data": {
      "text/plain": [
       "<seaborn.axisgrid.JointGrid at 0x1f0f6d26790>"
      ]
     },
     "execution_count": 67,
     "metadata": {},
     "output_type": "execute_result"
    },
    {
     "data": {
      "image/png": "[encoded data removed]",
      "text/plain": [
       "<Figure size 432x432 with 3 Axes>"
      ]
     },
     "metadata": {
      "needs_background": "light"
     },
     "output_type": "display_data"
    }
   ],
   "source": [
    "sns.jointplot(x='SurveyEase',y='Salary',data=df)"
   ]
  },
  {
   "cell_type": "code",
   "execution_count": 68,
   "metadata": {},
   "outputs": [
    {
     "data": {
      "text/html": [
       "<div>\n",
       "<style scoped>\n",
       "    .dataframe tbody tr th:only-of-type {\n",
       "        vertical-align: middle;\n",
       "    }\n",
       "\n",
       "    .dataframe tbody tr th {\n",
       "        vertical-align: top;\n",
       "    }\n",
       "\n",
       "    .dataframe thead th {\n",
       "        text-align: right;\n",
       "    }\n",
       "</style>\n",
       "<table border=\"1\" class=\"dataframe\">\n",
       "  <thead>\n",
       "    <tr style=\"text-align: right;\">\n",
       "      <th></th>\n",
       "      <th>Country</th>\n",
       "      <th>EdLevel</th>\n",
       "      <th>YearsCodePro</th>\n",
       "      <th>Age</th>\n",
       "      <th>Employment</th>\n",
       "      <th>Age1stCode</th>\n",
       "      <th>SurveyEase</th>\n",
       "      <th>SOComm</th>\n",
       "      <th>OpSys</th>\n",
       "      <th>APL</th>\n",
       "      <th>...</th>\n",
       "      <th>Python</th>\n",
       "      <th>R</th>\n",
       "      <th>Ruby</th>\n",
       "      <th>Rust</th>\n",
       "      <th>SQL</th>\n",
       "      <th>Scala</th>\n",
       "      <th>Swift</th>\n",
       "      <th>TypeScript</th>\n",
       "      <th>VBA</th>\n",
       "      <th>Salary</th>\n",
       "    </tr>\n",
       "  </thead>\n",
       "  <tbody>\n",
       "    <tr>\n",
       "      <th>9</th>\n",
       "      <td>0.307081</td>\n",
       "      <td>0.156469</td>\n",
       "      <td>-0.710891</td>\n",
       "      <td>-0.425451</td>\n",
       "      <td>-0.336926</td>\n",
       "      <td>0.148706</td>\n",
       "      <td>2.199126</td>\n",
       "      <td>1.219825</td>\n",
       "      <td>-1.260273</td>\n",
       "      <td>-0.053119</td>\n",
       "      <td>...</td>\n",
       "      <td>1.131451</td>\n",
       "      <td>-0.215906</td>\n",
       "      <td>-0.314889</td>\n",
       "      <td>-0.275794</td>\n",
       "      <td>-1.021050</td>\n",
       "      <td>-0.181861</td>\n",
       "      <td>-0.231056</td>\n",
       "      <td>-0.752768</td>\n",
       "      <td>-0.225985</td>\n",
       "      <td>51552.0</td>\n",
       "    </tr>\n",
       "    <tr>\n",
       "      <th>11</th>\n",
       "      <td>0.144409</td>\n",
       "      <td>-0.907950</td>\n",
       "      <td>-0.588190</td>\n",
       "      <td>-0.425451</td>\n",
       "      <td>-0.336926</td>\n",
       "      <td>0.148706</td>\n",
       "      <td>-0.434169</td>\n",
       "      <td>1.219825</td>\n",
       "      <td>-1.260273</td>\n",
       "      <td>-0.053119</td>\n",
       "      <td>...</td>\n",
       "      <td>-0.883821</td>\n",
       "      <td>-0.215906</td>\n",
       "      <td>-0.314889</td>\n",
       "      <td>-0.275794</td>\n",
       "      <td>0.979384</td>\n",
       "      <td>-0.181861</td>\n",
       "      <td>-0.231056</td>\n",
       "      <td>1.328431</td>\n",
       "      <td>-0.225985</td>\n",
       "      <td>46482.0</td>\n",
       "    </tr>\n",
       "    <tr>\n",
       "      <th>12</th>\n",
       "      <td>-0.994300</td>\n",
       "      <td>0.156469</td>\n",
       "      <td>-0.465489</td>\n",
       "      <td>-0.425451</td>\n",
       "      <td>-0.336926</td>\n",
       "      <td>0.148706</td>\n",
       "      <td>-0.434169</td>\n",
       "      <td>0.690832</td>\n",
       "      <td>-1.260273</td>\n",
       "      <td>-0.053119</td>\n",
       "      <td>...</td>\n",
       "      <td>-0.883821</td>\n",
       "      <td>-0.215906</td>\n",
       "      <td>3.175721</td>\n",
       "      <td>-0.275794</td>\n",
       "      <td>-1.021050</td>\n",
       "      <td>-0.181861</td>\n",
       "      <td>-0.231056</td>\n",
       "      <td>-0.752768</td>\n",
       "      <td>-0.225985</td>\n",
       "      <td>77290.0</td>\n",
       "    </tr>\n",
       "    <tr>\n",
       "      <th>16</th>\n",
       "      <td>0.632427</td>\n",
       "      <td>-0.907950</td>\n",
       "      <td>-0.956293</td>\n",
       "      <td>-0.425451</td>\n",
       "      <td>-0.336926</td>\n",
       "      <td>-1.598654</td>\n",
       "      <td>2.199126</td>\n",
       "      <td>0.690832</td>\n",
       "      <td>1.054233</td>\n",
       "      <td>-0.053119</td>\n",
       "      <td>...</td>\n",
       "      <td>-0.883821</td>\n",
       "      <td>-0.215906</td>\n",
       "      <td>-0.314889</td>\n",
       "      <td>-0.275794</td>\n",
       "      <td>-1.021050</td>\n",
       "      <td>-0.181861</td>\n",
       "      <td>-0.231056</td>\n",
       "      <td>-0.752768</td>\n",
       "      <td>-0.225985</td>\n",
       "      <td>17748.0</td>\n",
       "    </tr>\n",
       "    <tr>\n",
       "      <th>17</th>\n",
       "      <td>-1.319645</td>\n",
       "      <td>-0.907950</td>\n",
       "      <td>-0.465489</td>\n",
       "      <td>-0.425451</td>\n",
       "      <td>-0.336926</td>\n",
       "      <td>0.148706</td>\n",
       "      <td>-0.434169</td>\n",
       "      <td>0.690832</td>\n",
       "      <td>-0.488771</td>\n",
       "      <td>-0.053119</td>\n",
       "      <td>...</td>\n",
       "      <td>-0.883821</td>\n",
       "      <td>-0.215906</td>\n",
       "      <td>3.175721</td>\n",
       "      <td>-0.275794</td>\n",
       "      <td>0.979384</td>\n",
       "      <td>-0.181861</td>\n",
       "      <td>-0.231056</td>\n",
       "      <td>-0.752768</td>\n",
       "      <td>-0.225985</td>\n",
       "      <td>46135.0</td>\n",
       "    </tr>\n",
       "    <tr>\n",
       "      <th>...</th>\n",
       "      <td>...</td>\n",
       "      <td>...</td>\n",
       "      <td>...</td>\n",
       "      <td>...</td>\n",
       "      <td>...</td>\n",
       "      <td>...</td>\n",
       "      <td>...</td>\n",
       "      <td>...</td>\n",
       "      <td>...</td>\n",
       "      <td>...</td>\n",
       "      <td>...</td>\n",
       "      <td>...</td>\n",
       "      <td>...</td>\n",
       "      <td>...</td>\n",
       "      <td>...</td>\n",
       "      <td>...</td>\n",
       "      <td>...</td>\n",
       "      <td>...</td>\n",
       "      <td>...</td>\n",
       "      <td>...</td>\n",
       "      <td>...</td>\n",
       "    </tr>\n",
       "    <tr>\n",
       "      <th>83432</th>\n",
       "      <td>-1.319645</td>\n",
       "      <td>-0.907950</td>\n",
       "      <td>-1.140344</td>\n",
       "      <td>-1.490843</td>\n",
       "      <td>-0.336926</td>\n",
       "      <td>1.167999</td>\n",
       "      <td>-0.434169</td>\n",
       "      <td>-0.367153</td>\n",
       "      <td>-0.488771</td>\n",
       "      <td>-0.053119</td>\n",
       "      <td>...</td>\n",
       "      <td>-0.883821</td>\n",
       "      <td>-0.215906</td>\n",
       "      <td>3.175721</td>\n",
       "      <td>-0.275794</td>\n",
       "      <td>-1.021050</td>\n",
       "      <td>-0.181861</td>\n",
       "      <td>-0.231056</td>\n",
       "      <td>-0.752768</td>\n",
       "      <td>-0.225985</td>\n",
       "      <td>80169.0</td>\n",
       "    </tr>\n",
       "    <tr>\n",
       "      <th>83433</th>\n",
       "      <td>-1.482318</td>\n",
       "      <td>-0.907950</td>\n",
       "      <td>0.148015</td>\n",
       "      <td>-0.425451</td>\n",
       "      <td>3.163203</td>\n",
       "      <td>1.167999</td>\n",
       "      <td>-0.434169</td>\n",
       "      <td>1.219825</td>\n",
       "      <td>-0.488771</td>\n",
       "      <td>-0.053119</td>\n",
       "      <td>...</td>\n",
       "      <td>-0.883821</td>\n",
       "      <td>-0.215906</td>\n",
       "      <td>-0.314889</td>\n",
       "      <td>-0.275794</td>\n",
       "      <td>-1.021050</td>\n",
       "      <td>-0.181861</td>\n",
       "      <td>-0.231056</td>\n",
       "      <td>1.328431</td>\n",
       "      <td>-0.225985</td>\n",
       "      <td>18326.0</td>\n",
       "    </tr>\n",
       "    <tr>\n",
       "      <th>83434</th>\n",
       "      <td>1.120445</td>\n",
       "      <td>-0.907950</td>\n",
       "      <td>-0.588190</td>\n",
       "      <td>-0.425451</td>\n",
       "      <td>-0.336926</td>\n",
       "      <td>0.148706</td>\n",
       "      <td>-0.434169</td>\n",
       "      <td>-0.896145</td>\n",
       "      <td>-0.488771</td>\n",
       "      <td>-0.053119</td>\n",
       "      <td>...</td>\n",
       "      <td>-0.883821</td>\n",
       "      <td>-0.215906</td>\n",
       "      <td>-0.314889</td>\n",
       "      <td>-0.275794</td>\n",
       "      <td>0.979384</td>\n",
       "      <td>-0.181861</td>\n",
       "      <td>-0.231056</td>\n",
       "      <td>-0.752768</td>\n",
       "      <td>-0.225985</td>\n",
       "      <td>160500.0</td>\n",
       "    </tr>\n",
       "    <tr>\n",
       "      <th>83436</th>\n",
       "      <td>1.120445</td>\n",
       "      <td>1.220888</td>\n",
       "      <td>-0.710891</td>\n",
       "      <td>-0.425451</td>\n",
       "      <td>-0.336926</td>\n",
       "      <td>0.148706</td>\n",
       "      <td>2.199126</td>\n",
       "      <td>-0.367153</td>\n",
       "      <td>1.054233</td>\n",
       "      <td>-0.053119</td>\n",
       "      <td>...</td>\n",
       "      <td>1.131451</td>\n",
       "      <td>-0.215906</td>\n",
       "      <td>-0.314889</td>\n",
       "      <td>-0.275794</td>\n",
       "      <td>-1.021050</td>\n",
       "      <td>-0.181861</td>\n",
       "      <td>-0.231056</td>\n",
       "      <td>-0.752768</td>\n",
       "      <td>-0.225985</td>\n",
       "      <td>90000.0</td>\n",
       "    </tr>\n",
       "    <tr>\n",
       "      <th>83438</th>\n",
       "      <td>-1.482318</td>\n",
       "      <td>2.285307</td>\n",
       "      <td>-0.710891</td>\n",
       "      <td>-1.490843</td>\n",
       "      <td>-0.336926</td>\n",
       "      <td>0.148706</td>\n",
       "      <td>-0.434169</td>\n",
       "      <td>1.219825</td>\n",
       "      <td>-1.260273</td>\n",
       "      <td>-0.053119</td>\n",
       "      <td>...</td>\n",
       "      <td>-0.883821</td>\n",
       "      <td>-0.215906</td>\n",
       "      <td>-0.314889</td>\n",
       "      <td>-0.275794</td>\n",
       "      <td>-1.021050</td>\n",
       "      <td>-0.181861</td>\n",
       "      <td>-0.231056</td>\n",
       "      <td>-0.752768</td>\n",
       "      <td>-0.225985</td>\n",
       "      <td>21168.0</td>\n",
       "    </tr>\n",
       "  </tbody>\n",
       "</table>\n",
       "<p>29143 rows × 48 columns</p>\n",
       "</div>"
      ],
      "text/plain": [
       "        Country   EdLevel  YearsCodePro       Age  Employment  Age1stCode  \\\n",
       "9      0.307081  0.156469     -0.710891 -0.425451   -0.336926    0.148706   \n",
       "11     0.144409 -0.907950     -0.588190 -0.425451   -0.336926    0.148706   \n",
       "12    -0.994300  0.156469     -0.465489 -0.425451   -0.336926    0.148706   \n",
       "16     0.632427 -0.907950     -0.956293 -0.425451   -0.336926   -1.598654   \n",
       "17    -1.319645 -0.907950     -0.465489 -0.425451   -0.336926    0.148706   \n",
       "...         ...       ...           ...       ...         ...         ...   \n",
       "83432 -1.319645 -0.907950     -1.140344 -1.490843   -0.336926    1.167999   \n",
       "83433 -1.482318 -0.907950      0.148015 -0.425451    3.163203    1.167999   \n",
       "83434  1.120445 -0.907950     -0.588190 -0.425451   -0.336926    0.148706   \n",
       "83436  1.120445  1.220888     -0.710891 -0.425451   -0.336926    0.148706   \n",
       "83438 -1.482318  2.285307     -0.710891 -1.490843   -0.336926    0.148706   \n",
       "\n",
       "       SurveyEase    SOComm     OpSys       APL  ...    Python         R  \\\n",
       "9        2.199126  1.219825 -1.260273 -0.053119  ...  1.131451 -0.215906   \n",
       "11      -0.434169  1.219825 -1.260273 -0.053119  ... -0.883821 -0.215906   \n",
       "12      -0.434169  0.690832 -1.260273 -0.053119  ... -0.883821 -0.215906   \n",
       "16       2.199126  0.690832  1.054233 -0.053119  ... -0.883821 -0.215906   \n",
       "17      -0.434169  0.690832 -0.488771 -0.053119  ... -0.883821 -0.215906   \n",
       "...           ...       ...       ...       ...  ...       ...       ...   \n",
       "83432   -0.434169 -0.367153 -0.488771 -0.053119  ... -0.883821 -0.215906   \n",
       "83433   -0.434169  1.219825 -0.488771 -0.053119  ... -0.883821 -0.215906   \n",
       "83434   -0.434169 -0.896145 -0.488771 -0.053119  ... -0.883821 -0.215906   \n",
       "83436    2.199126 -0.367153  1.054233 -0.053119  ...  1.131451 -0.215906   \n",
       "83438   -0.434169  1.219825 -1.260273 -0.053119  ... -0.883821 -0.215906   \n",
       "\n",
       "           Ruby      Rust       SQL     Scala     Swift  TypeScript       VBA  \\\n",
       "9     -0.314889 -0.275794 -1.021050 -0.181861 -0.231056   -0.752768 -0.225985   \n",
       "11    -0.314889 -0.275794  0.979384 -0.181861 -0.231056    1.328431 -0.225985   \n",
       "12     3.175721 -0.275794 -1.021050 -0.181861 -0.231056   -0.752768 -0.225985   \n",
       "16    -0.314889 -0.275794 -1.021050 -0.181861 -0.231056   -0.752768 -0.225985   \n",
       "17     3.175721 -0.275794  0.979384 -0.181861 -0.231056   -0.752768 -0.225985   \n",
       "...         ...       ...       ...       ...       ...         ...       ...   \n",
       "83432  3.175721 -0.275794 -1.021050 -0.181861 -0.231056   -0.752768 -0.225985   \n",
       "83433 -0.314889 -0.275794 -1.021050 -0.181861 -0.231056    1.328431 -0.225985   \n",
       "83434 -0.314889 -0.275794  0.979384 -0.181861 -0.231056   -0.752768 -0.225985   \n",
       "83436 -0.314889 -0.275794 -1.021050 -0.181861 -0.231056   -0.752768 -0.225985   \n",
       "83438 -0.314889 -0.275794 -1.021050 -0.181861 -0.231056   -0.752768 -0.225985   \n",
       "\n",
       "         Salary  \n",
       "9       51552.0  \n",
       "11      46482.0  \n",
       "12      77290.0  \n",
       "16      17748.0  \n",
       "17      46135.0  \n",
       "...         ...  \n",
       "83432   80169.0  \n",
       "83433   18326.0  \n",
       "83434  160500.0  \n",
       "83436   90000.0  \n",
       "83438   21168.0  \n",
       "\n",
       "[29143 rows x 48 columns]"
      ]
     },
     "execution_count": 68,
     "metadata": {},
     "output_type": "execute_result"
    }
   ],
   "source": [
    "from sklearn.preprocessing import StandardScaler\n",
    "scaler = StandardScaler()\n",
    "df.iloc[:, :-1] = scaler.fit_transform(df.iloc[:, :-1])\n",
    "df"
   ]
  },
  {
   "cell_type": "code",
   "execution_count": 69,
   "metadata": {},
   "outputs": [
    {
     "name": "stdout",
     "output_type": "stream",
     "text": [
      "<class 'pandas.core.frame.DataFrame'>\n",
      "Int64Index: 29143 entries, 9 to 83438\n",
      "Data columns (total 48 columns):\n",
      " #   Column        Non-Null Count  Dtype  \n",
      "---  ------        --------------  -----  \n",
      " 0   Country       29143 non-null  float64\n",
      " 1   EdLevel       29143 non-null  float64\n",
      " 2   YearsCodePro  29143 non-null  float64\n",
      " 3   Age           29143 non-null  float64\n",
      " 4   Employment    29143 non-null  float64\n",
      " 5   Age1stCode    29143 non-null  float64\n",
      " 6   SurveyEase    29143 non-null  float64\n",
      " 7   SOComm        29143 non-null  float64\n",
      " 8   OpSys         29143 non-null  float64\n",
      " 9   APL           29143 non-null  float64\n",
      " 10  Assembly      29143 non-null  float64\n",
      " 11  Bash/Shell    29143 non-null  float64\n",
      " 12  C             29143 non-null  float64\n",
      " 13  C#            29143 non-null  float64\n",
      " 14  C++           29143 non-null  float64\n",
      " 15  COBOL         29143 non-null  float64\n",
      " 16  Clojure       29143 non-null  float64\n",
      " 17  Crystal       29143 non-null  float64\n",
      " 18  Dart          29143 non-null  float64\n",
      " 19  Delphi        29143 non-null  float64\n",
      " 20  Elixir        29143 non-null  float64\n",
      " 21  Erlang        29143 non-null  float64\n",
      " 22  F#            29143 non-null  float64\n",
      " 23  Go            29143 non-null  float64\n",
      " 24  Groovy        29143 non-null  float64\n",
      " 25  HTML/CSS      29143 non-null  float64\n",
      " 26  Haskell       29143 non-null  float64\n",
      " 27  Java          29143 non-null  float64\n",
      " 28  JavaScript    29143 non-null  float64\n",
      " 29  Julia         29143 non-null  float64\n",
      " 30  Kotlin        29143 non-null  float64\n",
      " 31  LISP          29143 non-null  float64\n",
      " 32  Matlab        29143 non-null  float64\n",
      " 33  Node.js       29143 non-null  float64\n",
      " 34  Objective-C   29143 non-null  float64\n",
      " 35  PHP           29143 non-null  float64\n",
      " 36  Perl          29143 non-null  float64\n",
      " 37  PowerShell    29143 non-null  float64\n",
      " 38  Python        29143 non-null  float64\n",
      " 39  R             29143 non-null  float64\n",
      " 40  Ruby          29143 non-null  float64\n",
      " 41  Rust          29143 non-null  float64\n",
      " 42  SQL           29143 non-null  float64\n",
      " 43  Scala         29143 non-null  float64\n",
      " 44  Swift         29143 non-null  float64\n",
      " 45  TypeScript    29143 non-null  float64\n",
      " 46  VBA           29143 non-null  float64\n",
      " 47  Salary        29143 non-null  float64\n",
      "dtypes: float64(48)\n",
      "memory usage: 11.9 MB\n"
     ]
    }
   ],
   "source": [
    "df.info()"
   ]
  },
  {
   "cell_type": "code",
   "execution_count": 70,
   "metadata": {},
   "outputs": [],
   "source": [
    "from sklearn.model_selection import train_test_split\n",
    "x_train, x_test, y_train, y_test = train_test_split(x, y, test_size = 0.1, random_state = 10)"
   ]
  },
  {
   "cell_type": "code",
   "execution_count": 71,
   "metadata": {
    "scrolled": true
   },
   "outputs": [],
   "source": [
    "from sklearn.metrics import mean_squared_error"
   ]
  },
  {
   "cell_type": "code",
   "execution_count": 73,
   "metadata": {},
   "outputs": [
    {
     "data": {
      "text/plain": [
       "DecisionTreeRegressor(random_state=0)"
      ]
     },
     "execution_count": 73,
     "metadata": {},
     "output_type": "execute_result"
    }
   ],
   "source": [
    "from sklearn.tree import DecisionTreeRegressor\n",
    "dec_tree_reg = DecisionTreeRegressor(random_state=0)\n",
    "dec_tree_reg.fit(x_train,y_train.values)"
   ]
  },
  {
   "cell_type": "code",
   "execution_count": 83,
   "metadata": {},
   "outputs": [
    {
     "name": "stdout",
     "output_type": "stream",
     "text": [
      "$44,900.69\n"
     ]
    }
   ],
   "source": [
    "y_pred = dec_tree_reg.predict(x_test)\n",
    "error=np.sqrt(mean_squared_error(y_test,y_pred))\n",
    "print(\"${:,.02f}\".format(error))"
   ]
  },
  {
   "cell_type": "code",
   "execution_count": 85,
   "metadata": {},
   "outputs": [
    {
     "data": {
      "text/plain": [
       "RandomForestRegressor(random_state=0)"
      ]
     },
     "execution_count": 85,
     "metadata": {},
     "output_type": "execute_result"
    }
   ],
   "source": [
    "from sklearn.ensemble import RandomForestRegressor\n",
    "random_forest_reg = RandomForestRegressor(random_state=0)\n",
    "random_forest_reg.fit(x_train, y_train.values)"
   ]
  },
  {
   "cell_type": "code",
   "execution_count": 88,
   "metadata": {},
   "outputs": [
    {
     "name": "stdout",
     "output_type": "stream",
     "text": [
      "$32,763.70\n"
     ]
    }
   ],
   "source": [
    "y_pred2 = random_forest_reg.predict(x_test)\n",
    "error=np.sqrt(mean_squared_error(y_test,y_pred2))\n",
    "print(\"${:,.02f}\".format(error))"
   ]
  },
  {
   "cell_type": "code",
   "execution_count": 90,
   "metadata": {},
   "outputs": [
    {
     "data": {
      "text/plain": [
       "GridSearchCV(estimator=RandomForestRegressor(random_state=0),\n",
       "             param_grid={'max_depth': [None, 2, 4, 6, 8, 10, 12]},\n",
       "             scoring='neg_mean_squared_error')"
      ]
     },
     "execution_count": 90,
     "metadata": {},
     "output_type": "execute_result"
    }
   ],
   "source": [
    "from sklearn.model_selection import GridSearchCV\n",
    "\n",
    "max_depth = [None, 2,4,6,8,10,12]\n",
    "parameters = {\"max_depth\": max_depth}\n",
    "\n",
    "regressor = RandomForestRegressor(random_state=0)\n",
    "gs = GridSearchCV(regressor, parameters, scoring='neg_mean_squared_error')\n",
    "gs.fit(x_train, y_train.values)"
   ]
  },
  {
   "cell_type": "code",
   "execution_count": 91,
   "metadata": {},
   "outputs": [
    {
     "name": "stdout",
     "output_type": "stream",
     "text": [
      "$32,029.62\n"
     ]
    }
   ],
   "source": [
    "regressor = gs.best_estimator_\n",
    "\n",
    "regressor.fit(x_train, y_train.values)\n",
    "y_pred = regressor.predict(x_test)\n",
    "error = np.sqrt(mean_squared_error(y_test, y_pred))\n",
    "print(\"${:,.02f}\".format(error))"
   ]
  },
  {
   "cell_type": "code",
   "execution_count": null,
   "metadata": {},
   "outputs": [],
   "source": [
    "# import pickle"
   ]
  },
  {
   "cell_type": "code",
   "execution_count": null,
   "metadata": {},
   "outputs": [],
   "source": [
    "# data = {\"model\": regressor, \"le_country\": le_country, \"le_education\": le_education,\"YearsCodePro\":df['YearsCodePro'],\"Age\":df['Age'],\"le_Employment\":le_Employment,\"Age1stCode\":df['Age1stCode'],\"le_surveyease\":le_surveyease,\"le_so\":le_so}\n",
    "# with open('saved_steps.pkl', 'wb') as file:\n",
    "#     pickle.dump(data, file)"
   ]
  },
  {
   "cell_type": "code",
   "execution_count": null,
   "metadata": {},
   "outputs": [],
   "source": [
    "# X = np.array([[\"Germany\", 'Master’s degree', 5, 24, \"Employed full-time\", 18, \"Neither easy nor difficult\",\"No, not really\" ]])\n"
   ]
  },
  {
   "cell_type": "code",
   "execution_count": null,
   "metadata": {},
   "outputs": [],
   "source": [
    "# X[:, 0] = le_country.transform(X[:,0])\n",
    "# X[:, 1] = le_education.transform(X[:,1])"
   ]
  },
  {
   "cell_type": "code",
   "execution_count": null,
   "metadata": {},
   "outputs": [],
   "source": [
    "\n",
    "# X[:,4]  = le_Employment.transform(X[:,4])\n",
    "# X[:,6]  = le_surveyease.transform(X[:,6])\n",
    "# X[:,7]  = le_so.transform(X[:,7])\n",
    "\n",
    "# X = X.astype(float)\n",
    "# X"
   ]
  },
  {
   "cell_type": "code",
   "execution_count": null,
   "metadata": {},
   "outputs": [],
   "source": [
    "# y_pred = regressor.predict(X)\n",
    "# y_pred"
   ]
  },
  {
   "cell_type": "code",
   "execution_count": null,
   "metadata": {},
   "outputs": [],
   "source": [
    "# with open('saved_steps.pkl', 'rb') as file:\n",
    "#     data = pickle.load(file)\n",
    "\n",
    "# regressor_loaded = data[\"model\"]\n",
    "# le_country = data[\"le_country\"]\n",
    "# le_education = data[\"le_education\"]\n",
    "# le_Employment = data['le_Employment']\n",
    "# le_surveyease = data['le_surveyease']\n",
    "# le_so = data['le_so']"
   ]
  },
  {
   "cell_type": "code",
   "execution_count": null,
   "metadata": {},
   "outputs": [],
   "source": [
    "# y_pred = regressor_loaded.predict(X)\n",
    "# y_pred"
   ]
  }
 ],
 "metadata": {
  "kernelspec": {
   "display_name": "ml",
   "language": "python",
   "name": "ml"
  },
  "language_info": {
   "codemirror_mode": {
    "name": "ipython",
    "version": 3
   },
   "file_extension": ".py",
   "mimetype": "text/x-python",
   "name": "python",
   "nbconvert_exporter": "python",
   "pygments_lexer": "ipython3",
   "version": "3.9.7"
  }
 },
 "nbformat": 4,
 "nbformat_minor": 5
}
